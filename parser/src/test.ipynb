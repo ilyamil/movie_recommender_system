{
 "metadata": {
  "language_info": {
   "codemirror_mode": {
    "name": "ipython",
    "version": 3
   },
   "file_extension": ".py",
   "mimetype": "text/x-python",
   "name": "python",
   "nbconvert_exporter": "python",
   "pygments_lexer": "ipython3",
   "version": "3.8.5"
  },
  "orig_nbformat": 2,
  "kernelspec": {
   "name": "python385jvsc74a57bd090702062affdb4fd7474f32c7adfa24760649a3812f3df3f74e1a8a029923a87",
   "display_name": "Python 3.8.5 64-bit (conda)"
  }
 },
 "nbformat": 4,
 "nbformat_minor": 2,
 "cells": [
  {
   "cell_type": "code",
   "execution_count": 5,
   "metadata": {},
   "outputs": [],
   "source": [
    "from utils import get_soup"
   ]
  },
  {
   "cell_type": "code",
   "execution_count": 2,
   "metadata": {},
   "outputs": [],
   "source": [
    "import yaml"
   ]
  },
  {
   "cell_type": "code",
   "execution_count": 4,
   "metadata": {},
   "outputs": [
    {
     "output_type": "execute_result",
     "data": {
      "text/plain": [
       "['.vscode', 'config.yaml', 'data', 'logs', 'notebooks', 'parser', 'tests']"
      ]
     },
     "metadata": {},
     "execution_count": 4
    }
   ],
   "source": [
    "import os\n",
    "os.listdir('../..')"
   ]
  },
  {
   "cell_type": "code",
   "execution_count": 5,
   "metadata": {},
   "outputs": [],
   "source": [
    "a_yaml_file = open(\"../../config.yaml\")\n",
    "parsed_yaml_file = yaml.load(a_yaml_file, Loader=yaml.FullLoader)"
   ]
  },
  {
   "cell_type": "code",
   "execution_count": 16,
   "metadata": {},
   "outputs": [],
   "source": [
    "with open('../../config.yaml', 'r') as f:\n",
    "    doc = yaml.load(f, Loader=yaml.FullLoader)"
   ]
  },
  {
   "cell_type": "code",
   "execution_count": 17,
   "metadata": {},
   "outputs": [
    {
     "output_type": "execute_result",
     "data": {
      "text/plain": [
       "{'version': 1,\n",
       " 'html_path': 'None',\n",
       " 'id_path': 'None',\n",
       " 'min_delay': 3,\n",
       " 'max_delay': 5,\n",
       " 'genres': 'all',\n",
       " 'n_titles': 500,\n",
       " 'logger_cfg': {'filename': None,\n",
       "  'msg_format': '%(asctime)s %(message)s',\n",
       "  'dt_format': '%Y-%m-%d %H:%M:%S',\n",
       "  'level': 20}}"
      ]
     },
     "metadata": {},
     "execution_count": 17
    }
   ],
   "source": [
    "doc['id_extraction']"
   ]
  },
  {
   "cell_type": "code",
   "execution_count": 18,
   "metadata": {},
   "outputs": [],
   "source": [
    "import logging\n",
    "logging.basicConfig(filename='logs.log', format='%(asctime)s %(message)s', datefmt='%Y-%m-%d %H:%M:%S ', level=logging.DEBUG)\n",
    "logging.warning('is when this event was logged.')"
   ]
  },
  {
   "cell_type": "code",
   "execution_count": 6,
   "metadata": {},
   "outputs": [],
   "source": [
    "from bs4 import BeautifulSoup"
   ]
  },
  {
   "cell_type": "code",
   "execution_count": 7,
   "metadata": {},
   "outputs": [],
   "source": [
    "class HTMLContainer(BeautifulSoup):\n",
    "    def __repr__(self):\n",
    "        print(cls)"
   ]
  },
  {
   "cell_type": "code",
   "execution_count": 23,
   "metadata": {},
   "outputs": [],
   "source": [
    "from utils import dump_obj, load_obj"
   ]
  },
  {
   "cell_type": "code",
   "execution_count": 18,
   "metadata": {},
   "outputs": [],
   "source": [
    "s = get_soup('https://www.imdb.com/title/tt0468569/')"
   ]
  },
  {
   "cell_type": "code",
   "execution_count": 20,
   "metadata": {},
   "outputs": [
    {
     "output_type": "execute_result",
     "data": {
      "text/plain": [
       "requests.models.Response"
      ]
     },
     "metadata": {},
     "execution_count": 20
    }
   ],
   "source": [
    "type(page)"
   ]
  },
  {
   "cell_type": "code",
   "execution_count": 37,
   "metadata": {},
   "outputs": [
    {
     "output_type": "execute_result",
     "data": {
      "text/plain": [
       "_item\">\\n        <h4 class=\"inline\"',\n",
       " b'>Director:</h4>\\n<a href=\"/name/nm0634240/\"\\n>Christopher Nolan</a>    </div>\\n    <div class=\"credit_summary_item\">\\n        <h4 cl',\n",
       " b'ass=\"inline\">Writers:</h4>\\n<a href=\"/name/nm0634300/\"\\n>Jonathan Nolan</a> (screenplay), <a href=\"/name/nm0634240/\"\\n>Christopher ',\n",
       " b'Nolan</a> (screenplay)            <span class=\"ghost\">|</span>\\n<a href=\"fullcredits#writers/\"\\n>3 more credits</a>&nbsp;&raquo;\\n ',\n",
       " b'   </div>\\n    <div class=\"credit_summary_item\">\\n        <h4 class=\"inline\">Stars:</h4>\\n<a href=\"/name/nm0000288/\"\\n>Christian Bal',\n",
       " b'e</a>, <a href=\"/name/nm0005132/\"\\n>Heath Ledger</a>, <a href=\"/name/nm0001173/\"\\n>Aaron Eckhart</a>            <span class=\"ghost',\n",
       " b'\">|</span>\\n<a href=\"fullcredits/\"\\n>See full cast & crew</a>&nbsp;&raquo;\\n    </div>\\n    </div>\\n  <script>\\n    if (\\'csm\\' in windo',\n",
       " b\"w) {\\n      csm.measure('csm_TitlePlotAndCreditSummaryWidget_finished');\\n    }\\n  </script>\\n        <!--To display Pro Title CTA a\",\n",
       " b'bove the watchlist for in-development titles -->\\n\\n    <div class=\"uc-add-wl-button uc-add-wl--not-in-wl uc-add-wl\" data-title-id',\n",
       " b'=\"tt0468569\" data-is-logged-in=\"false\" data-is-watchlisted=\"false\" title=\"Click to add to watchlist\" data-widget-type=\"wl_button',\n",
       " b'\" data-ref-tag-prefix=\"tt_ov\" data-record-metric=\"true\" data-uc-add-wl>\\n        \\n\\n\\n\\n\\n\\n\\n        <button \\n            class=\"ipc-b',\n",
       " b'utton uc-add-wl-button-icon--done watchlist--title-main-desktop-standalone ipc-button--core-base ipc-button--single-padding ipc-',\n",
       " b'button--default-height\" \\n            \\n            \\n            \\n        >\\n\\n\\n<svg xmlns=\"http://www.w3.org/2000/svg\" width=\"24\" h',\n",
       " b'eight=\"24\" class=\"ipc-icon ipc-icon--done  ipc-button__icon ipc-button__icon--pre\" viewBox=\"0 0 24 24\" fill=\"currentColor\" role=',\n",
       " b'\"presentation\"><path fill=\"none\" d=\"M0 0h24v24H0V0z\"/><path d=\"M9 16.2l-3.5-3.5a.984.984 0 0 0-1.4 0 .984.984 0 0 0 0 1.4l4.19 4',\n",
       " b'.19c.39.39 1.02.39 1.41 0L20.3 7.7a.984.984 0 0 0 0-1.4.984.984 0 0 0-1.4 0L9 16.2z\"/></svg>    <div class=\"ipc-button__text\">Ad',\n",
       " b'ded to Watchlist</div>\\n        </button>\\n\\n        \\n\\n\\n\\n\\n\\n\\n        <button \\n            class=\"ipc-button uc-add-wl-button-icon--a',\n",
       " b'dd watchlist--title-main-desktop-standalone ipc-button--core-base ipc-button--single-padding ipc-button--default-height\" \\n      ',\n",
       " b'      \\n            \\n            \\n        >\\n\\n\\n<svg xmlns=\"http://www.w3.org/2000/svg\" width=\"24\" height=\"24\" class=\"ipc-icon ipc-',\n",
       " b'icon--add  ipc-button__icon ipc-button__icon--pre\" viewBox=\"0 0 24 24\" fill=\"currentColor\" role=\"presentation\"><path fill=\"none\"',\n",
       " b' d=\"M0 0h24v24H0V0z\"/><path d=\"M18 13h-5v5c0 .55-.45 1-1 1s-1-.45-1-1v-5H6c-.55 0-1-.45-1-1s.45-1 1-1h5V6c0-.55.45-1 1-1s1 .45 1',\n",
       " b' 1v5h5c.55 0 1 .45 1 1s-.45 1-1 1z\"/></svg>    <div class=\"ipc-button__text\">Add to Watchlist</div>\\n        </button>\\n\\n         ',\n",
       " b'   <div class=\"uc-add-wl-pending-icon\"></div>\\n    </div>\\n  <script>\\n    if (\\'csm\\' in window) {\\n      csm.measure(\\'csm_TitleRevie',\n",
       " b'wsAndPopularityWidget_started\\');\\n    }\\n  </script>\\n      <div class=\"titleReviewBar \">           \\n    <div class=\"titleReviewBar',\n",
       " b'Item\">\\n<a href=\"criticreviews\"\\n> <div class=\"metacriticScore score_favorable titleReviewBarSubItem\">\\n<span>84</span>\\n</div></a> ',\n",
       " b'       <div class=\"titleReviewBarSubItem\">\\n            <div><a href=\"criticreviews\"\\n>\\nMetascore\\n</a>            </div>\\n         ',\n",
       " b'   <div><span class=\"subText\"> \\n               From <a href=\"http://www.metacritic.com\"\\ntarget=\\'_blank\\'>metacritic.com</a> \\n    ',\n",
       " b'           </span>\\n            </div>\\n        </div>\\n    </div>\\n                   <div class=\"divider\"></div>\\n           \\n    <',\n",
       " b'div class=\"titleReviewBarItem titleReviewbarItemBorder\">\\n        <div>\\n        Reviews\\n        </div>\\n        <div>\\n            ',\n",
       " b'<span class=\"subText\">\\n                   <a href=\"reviews\"\\n>7,373 user</a>                   \\n                       <span clas',\n",
       " b's=\"ghostText\">|</span>\\n                   <a href=\"externalreviews\"\\n>433 critic</a>\\n             </span>\\n        </div>\\n    </di',\n",
       " b'v>\\n                   <div class=\"divider\"></div>\\n\\n    <div class=\"titleReviewBarItem\">\\n  <div class=\"titleOverviewSprite popula',\n",
       " b'rityTrendDown\"></div>\\n        <div class=\"titleReviewBarSubItem\">\\n            <div>\\n            Popularity\\n            </div>\\n  ',\n",
       " b'          <div>\\n                <span class=\"subText\">\\n                    79\\n      (<span class=\"titleOverviewSprite popularity',\n",
       " b'ImageDown\"></span> <span class=\"popularityDown\">11</span>)\\n                </span>\\n            </div>\\n        </div>            ',\n",
       " b\"                       \\n    </div>\\n      </div>              \\n  <script>\\n    if ('csm' in window) {\\n      csm.measure('csm_Title\",\n",
       " b\"ReviewsAndPopularityWidget_finished');\\n    }\\n  </script>\\n    </div>\\n                <!--To display Pro Title CTA below the revie\",\n",
       " b'w bar for completed titles -->\\n\\n            <div class=\"pro_logo_main_title\">\\n    <div id=title_completed_pro_link class=pro_tit',\n",
       " b'le_link_with_separator>\\n<a href=\"https://pro.imdb.com/title/tt0468569?rf=cons_tt_atf\"\\nclass=\"pro_title_href\" > <img src=\"https:/',\n",
       " b'/m.media-amazon.com/images/S/sash/u4ZG4O9Kh-h0yDb.png\" class=\"pro_logo\" />\\n<span class=\"pro_title_link_text\">\\nView production, b',\n",
       " b'ox office, & company info\\n</span>\\n<img src=\"https://m.media-amazon.com/images/S/sash/mGkoj7mMfYpKOdk.png\"\\nclass=\"pro_link_icon\">',\n",
       " b\"\\n</a>    </div>\\n            </div>\\n        </div>\\n  <script>\\n    if ('csm' in window) {\\n      csm.measure('csm_TitleOverviewWidg\",\n",
       " b'et_finished\\');\\n    }\\n  </script>\\n            </div>\\n\\n<script>\\n    if (typeof uet == \\'function\\') {\\n      uet(\"af\");\\n    }\\n</scrip',\n",
       " b\"t>\\n  <script>\\n    if ('csm' in window) {\\n      csm.measure('csm_atf_main');\\n    }\\n  </script>\\n\\n    </div> \\n\\n<script>\\n    if (typ\",\n",
       " b'eof uet == \\'function\\') {\\n      uet(\"cf\");\\n    }\\n</script>\\n\\n\\n    <div id=\"sidebar\">\\n\\n\\t\\n        <!-- no content received for slot:',\n",
       " b\" top_rhs -->\\n\\t\\n  <script>\\n    if ('csm' in window) {\\n      csm.measure('csm_atf_sidebar');\\n    }\\n  </script>\\n\\n\\n    \\n    \\n    \\n\\n \",\n",
       " b'   \\n    \\n    \\n\\n\\n\\n\\n    \\n    \\n        <a name=\"slot_right-3\"></a>\\n        <div class=\"mini-article\">\\n        \\n    \\n        \\n      ',\n",
       " b'                          \\n\\n    \\n            <script type=\"text/javascript\">if(typeof uet === \\'function\\'){uet(\\'bb\\',\\'NinjaWidget\\'',\n",
       " b',{wb:1});}</script>\\n                                \\n\\n                    \\n    \\n        <span class=\"ab_widget\">\\n        \\n    \\n\\n',\n",
       " b'    <div class=\"ab_ninja\">\\n<span class=\"widget_header\"> <span class=\"oneline\"> <a href=\"/list/ls084640040/mediaviewer/rm18474931',\n",
       " b'21\" > <h3> Our Most Anticipated Movies of 2021</h3> </a> </span> </span> <div class=\"widget_content no_inline_blurb\"> <div class',\n",
       " b'=\"widget_nested\"> <div class=\"ninja_image_pack\"> <div class=\"ninja_center\"> <div class=\"ninja_image first_image last_image\" styl',\n",
       " b'e=\"width:307px;height:auto;\" > <div style=\"width:307px;height:auto;margin:0 auto;\"> <div class=\"widget_image\"> <div class=\"image',\n",
       " b'\"> <a href=\"/list/ls084640040/mediaviewer/rm1847493121\" > <img class=\"pri_image\" src=\"https://m.media-amazon.com/images/M/MV5BYz',\n",
       " b'hjZDQ5ZWMtMGM1Zi00Mjc5LWIxYzUtN2NiYWI0NmIyYTQ4XkEyXkFqcGdeQXVyMTEyMjM2NDc2._V1_SY230_SX307_AL_.jpg\" /> </a> </div> </div> </div>',\n",
       " b' </div> </div> </div> </div> </div> <p class=\"blurb\">Here are the movies we\\'re most excited for in 2021.</p> <p class=\"seemore\">',\n",
       " b' <a href=\"/list/ls084640040/mediaviewer/rm1847493121\" class=\"position_bottom supplemental\" > See the full list</a> </p>    </div',\n",
       " b'>\\n    \\n\\n                        \\n        </span>\\n\\n\\n\\n            <script type=\"text/javascript\">\\n                if(typeof uex ==',\n",
       " b\"= 'function'){uex('ld','NinjaWidget',{wb:1});}\\n            </script>\\n        \\n\\n\\n\\n\\n        </div>\\n    \\n\\n\\n    \\n    \\n    \\n\\n\\t\\n      \",\n",
       " b'  <!-- no content received for slot: rhs_cornerstone -->\\n\\t\\n\\n\\t\\n        <!-- no content received for slot: inline80 -->\\n\\t\\n\\n\\n    \\n ',\n",
       " b'   \\n    \\n\\n<script>\\n    if (typeof uet == \\'function\\') {\\n      uet(\"bb\", \"RelatedNewsWidgetRHS\", {wb: 1});\\n    }\\n</script>\\n    <sc',\n",
       " b\"ript>\\n      if ('csm' in window) {\\n        csm.measure('csm_RelatedNewsWidgetRHS_started');\\n      }\\n    </script>\\n\\n        <div \",\n",
       " b'class=\"mini-article\" >\\n            <h3>Related News</h3>\\n    <ul class=\"ipl-simple-list\">\\n            <li class=\"news_item\">\\n<a ',\n",
       " b'href=\"/news/ni63287298\"\\n> \\xe2\\x80\\x98Wrath of Man\\xe2\\x80\\x99 Review: Guy Ritchie and Jason Statham Reunite for Impressive Crime Thriller\\n</a><br',\n",
       " b' />\\n                <small>\\n                <span>06 May 2021</span>\\n                <span>|</span>\\n                <span>Variet',\n",
       " b'y</span>\\n                </small>\\n            </li>\\n            <li class=\"news_item\">\\n<a href=\"/news/ni63287433\"\\n> J.J. Abrams ',\n",
       " b\"Won't Direct the Superman Remake, But Will Have a Large Footprint on the Dceu\\n</a><br />\\n                <small>\\n               \",\n",
       " b' <span>05 May 2021</span>\\n                <span>|</span>\\n                <span>MovieWeb</span>\\n                </small>\\n        ',\n",
       " b'    </li>\\n            <li class=\"news_item\">\\n<a href=\"/news/ni63286052\"\\n> Tenet Is Christopher Nolan\\xe2\\x80\\x99s Unofficial James Bond M',\n",
       " b'ovie\\n</a><br />\\n                <small>\\n                <span>05 May 2021</span>\\n                <span>|</span>\\n                ',\n",
       " b'<span>Den of Geek</span>\\n                </small>\\n            </li>\\n    </ul>\\n\\n            <div class=\"see-more\">\\n              ',\n",
       " b'  <a href=\"/title/tt0468569/news\"\\n>See all related articles</a>&nbsp;&raquo;\\n            </div>\\n        </div>\\n\\n    <script>\\n   ',\n",
       " b\"   if ('csm' in window) {\\n        csm.measure('csm_RelatedNewsWidgetRHS_finished');\\n      }\\n    </script>\\n<script>\\n    if (typeo\",\n",
       " b'f uet == \\'function\\') {\\n      uet(\"be\", \"RelatedNewsWidgetRHS\", {wb: 1});\\n    }\\n</script>\\n<script>\\n    if (typeof uex == \\'functio',\n",
       " b'n\\') {\\n      uex(\"ld\", \"RelatedNewsWidgetRHS\", {wb: 1});\\n    }\\n</script>\\n\\n\\n    \\n    \\n        <a name=\"slot_right-5\"></a>\\n        ',\n",
       " b'<div class=\"mini-article\">\\n        \\n    \\n        \\n                                \\n\\n    \\n            <script type=\"text/javascri',\n",
       " b'pt\">if(typeof uet === \\'function\\'){uet(\\'bb\\',\\'NinjaWidget\\',{wb:1});}</script>\\n                                \\n\\n                  ',\n",
       " b'  \\n    \\n        <span class=\"ab_widget\">\\n        \\n    \\n\\n    <div class=\"ab_ninja\">\\n<span class=\"widget_header\"> <span class=\"one',\n",
       " b'line\"> <a href=\"/list/ls500571120/mediaviewer/rm843036673/\" > <h3> Upcoming Horror Films We Can\\'t Wait to See</h3> </a> </span> ',\n",
       " b'</span> <div class=\"widget_content no_inline_blurb\"> <div class=\"widget_nested\"> <div class=\"ninja_image_pack\"> <div class=\"ninj',\n",
       " b'a_center\"> <div class=\"ninja_image first_image last_image\" style=\"width:307px;height:auto;\" > <div style=\"width:307px;height:aut',\n",
       " b'o;margin:0 auto;\"> <div class=\"widget_image\"> <div class=\"image\"> <a href=\"/list/ls500571120/mediaviewer/rm843036673/\" > <img cl',\n",
       " b'ass=\"pri_image\" src=\"https://m.media-amazon.com/images/M/MV5BYmQ1MDBjODAtNDBiZC00N2NiLWJlOGMtZDQ1YzcwZDNiZTJlXkEyXkFqcGdeQXVyODk',\n",
       " b'4OTc3MTY@._V1_SY230_SX307_AL_.jpg\" /> </a> </div> </div> </div> </div> </div> </div> </div> </div> <p class=\"blurb\">Our editors ',\n",
       " b'have rounded up their most anticipated horror movies of the year.</p> <p class=\"seemore\"> <a href=\"/list/ls500571120/mediaviewer',\n",
       " b'/rm843036673/\" class=\"position_bottom supplemental\" > See the list</a> </p>    </div>\\n    \\n\\n                        \\n        </s',\n",
       " b'pan>\\n\\n\\n\\n            <script type=\"text/javascript\">\\n                if(typeof uex === \\'function\\'){uex(\\'ld\\',\\'NinjaWidget\\',{wb:1})',\n",
       " b';}\\n            </script>\\n        \\n\\n\\n\\n\\n        </div>\\n    \\n\\n\\t\\n        <!-- no content received for slot: middle_rhs -->\\n\\t\\n\\n\\n    \\n',\n",
       " b'    \\n    \\n\\n\\n    \\n    \\n        <a name=\"slot_right-7\"></a>\\n        <div class=\"mini-article\">\\n        \\n    \\n        \\n            ',\n",
       " b'                    \\n\\n    \\n            <script type=\"text/javascript\">if(typeof uet === \\'function\\'){uet(\\'bb\\',\\'TaboolaWidget\\',{wb',\n",
       " b':1});}</script>\\n                                \\n\\n                    \\n    \\n        <span class=\"ab_widget\">\\n                <di',\n",
       " b'v class=\"ab_taboola\">\\n<span class=\"widget_header\"> <span class=\"oneline\"> <h3> Around The Web</h3> <span>&nbsp;|&nbsp;</span> <h',\n",
       " b'4> <p>Powered by Taboola</p></h4> </span> </span> <div class=\"widget_content no_inline_blurb\"> <div class=\"widget_nested\"> <scri',\n",
       " b'pt> /** * * Wrap script in check for window.Promise for IE compatibility * */ if (window.Promise) { Promise.wait = function (tim',\n",
       " b'e) { return new Promise(function (resolve) { return setTimeout(resolve, time || 0); }); }; Promise.pulse = function (count, func',\n",
       " b', delay) { return func().then(function () { return count > 0 ? Promise.wait(delay).then(function () { return Promise.pulse(count',\n",
       " b' - 1, func, delay); }).catch(function (err) {}) : Promise.reject(); }).catch(function (err) {}); }; function tb_debounce(func, w',\n",
       " b'ait) { var timeout; return function() { var context = this, args = arguments; var later = function() { timeout = null; func.appl',\n",
       " b'y(context, args); }; var callNow = !timeout; clearTimeout(timeout); timeout = setTimeout(later, wait); if (callNow) func.apply(c',\n",
       " b\"ontext, args); }; }; /** On page resize, send notification to taboola to send the resize message */ window.addEventListener('res\",\n",
       " b\"ize', tb_debounce(sendPingToTaboola, 500)); /** When we get a message from taboola, call the resize function */ window.addEventL\",\n",
       " b\"istener('message', function (event) { var ifm = document.getElementById('ads_taboola_iframe'); if (!ifm) { return; } var ifmHeig\",\n",
       " b'ht = event.data.height; var collapseTaboola = event.data.collapseTaboola; if (ifmHeight) { resizeTaboolaIframe(ifmHeight); } els',\n",
       " b'e if (collapseTaboola) { collapseTaboolaIframe(ifm); } }); function getOriginForIframe(ifm) { var dummyA = (document && typeof d',\n",
       " b\"ocument !== 'undefined') ? document.createElement('a') : null; if (dummyA && ifm) { dummyA.href = ifm.src; } var targetOrigin = \",\n",
       " b'dummyA ? dummyA.origin : null; return targetOrigin; } /** Sends message to the taboola iframe to remeasure its height and notify',\n",
       " b\" us with the new size */ function sendPingToTaboola() { var ifm = document.getElementById('ads_taboola_iframe'); if (ifm && ifm.\",\n",
       " b\"src && ifm.src !== '') { ifm.contentWindow.postMessage({resizeTaboola: true}, ifm.src); return true; } return false; } function \",\n",
       " b'sendPingToTaboolaPromise() { return new Promise(function(resolve, reject) { sendPingToTaboola() ? resolve() : reject(); }); } fu',\n",
       " b\"nction pingTaboola() { try { if (typeof uex == 'function') { uex('ld', 'taboola_legacy', {wb: 1}); } Promise.pulse(10, sendPingT\",\n",
       " b\"oTaboolaPromise, 500); /** * * If the taboola widget isn't loaded after 10s, collapse the widget * Why 10s? We want to make sure\",\n",
       " b' we allow enough time for valid requests go through * **/ Promise.wait(10000).then( function() { sendCheckTaboolaLoadedMessage()',\n",
       " b'; }).catch(function (err) {}); } catch (e) { /** Promise not supported in IE11 */ } } function sendCheckTaboolaLoadedMessage() {',\n",
       " b\" if (isIframeCollapsed()) { return; } var ifm = document.getElementById('ads_taboola_iframe'); if (ifm && ifm.src && ifm.src !==\",\n",
       " b' \"\") { ifm.contentWindow.postMessage({checkForLoad: true}, ifm.src); return true; } return false; } function resizeTaboolaIframe',\n",
       " b\"(height) { if (height && height > 300 && height < 900) { ifm.style = 'height:' + height + 'px !important'; } } /** * * Check for\",\n",
       " b' the presence of the widget, then collapse the container with the styling for the * ab_widget. We check for ab_taboola first in ',\n",
       " b'case there are other ab_widgets on the page * **/ function collapseTaboolaIframe() { var taboolaElementList = document.getElemen',\n",
       " b\"tsByClassName('ab_taboola'); var taboolaContainer = taboolaElementList && taboolaElementList[0]; var taboolaParentContainer = ta\",\n",
       " b'boolaContainer && taboolaContainer.parentElement && taboolaContainer.parentElement.parentElement; if (taboolaParentContainer && ',\n",
       " b\"taboolaParentContainer.style) { taboolaParentContainer.style = 'display: none !important;'; } } /** * * Checks if the iframe is \",\n",
       " b'collapsed, and collapses the parent container if it is collapsed * This should catch ad-blockers that automatically set the ifra',\n",
       " b'me style to display: none * * @returns {boolean} True if iframe is collapsed already OR if we collapse it ourselves, * otherwise',\n",
       " b\" false */ function isIframeCollapsed() { var ifm = document.getElementById('ads_taboola_iframe'); if(!ifm) return true; if (ifm.\",\n",
       " b\"style.display == 'none' || ifm.style.height === '') { collapseTaboolaIframe(); return true; } return false; } } if (typeof uet =\",\n",
       " b'= \\'function\\') { uet(\\'bb\\', \\'taboola_legacy\\', {wb: 1}); } </script> <iframe title=\"Sponsored Content\" id=\"ads_taboola_iframe\" clas',\n",
       " b's=\"taboola-frame__sidebar\" scrolling=\"no\" seamless sandbox=\"allow-popups allow-same-origin allow-scripts\" onload=\"pingTaboola &&',\n",
       " b' pingTaboola()\"> </iframe> <script> /** Fetches the canonical url from the head for use in the taboola iframe source */ function',\n",
       " b' getCanonicalUrl() { return document.querySelector(\"link[rel=\\'canonical\\']\") ? document.querySelector(\"link[rel=\\'canonical\\']\").hr',\n",
       " b\"ef : window.location.origin; } var ifm = document.getElementById('ads_taboola_iframe'); var url = getCanonicalUrl(); ifm.src = '\",\n",
       " b\"https://m.media-amazon.com/images/S/sash/jKd0AKtg5tHjOMX.html?placement=Legacy Title Right Rail&mode=thumbnails-b' + '&url=' + u\",\n",
       " b\"rl; if (typeof uet == 'function') { uet('be', 'taboola_legacy', {wb: 1}); } </script> </div> </div>        </div>\\n\\n             \",\n",
       " b'           \\n        </span>\\n\\n\\n\\n            <script type=\"text/javascript\">\\n                if(typeof uex === \\'function\\'){uex(\\'ld',\n",
       " b\"','TaboolaWidget',{wb:1});}\\n            </script>\\n        \\n\\n\\n\\n\\n        </div>\\n    \\n\\n<script>\\n    if (typeof uet == 'function') {\",\n",
       " b'\\n      uet(\"bb\", \"RelatedEditorialListsWidget\", {wb: 1});\\n    }\\n</script>\\n        <div class=\"mini-article\">\\n            <div id',\n",
       " b'=\"relatedEditorialListsWidget\">\\n                <h3>Editorial Lists</h3>\\n                <p>Related lists from IMDb editors</p>\\n',\n",
       " b'\\n    <div class=\"list-preview even\">\\n        <div class=\"list-preview-item-narrow\">\\n<a href=\"/list/ls089681849\"\\n><img height=\"86',\n",
       " b'\" width=\"86\" alt=\"list image\" title=\"list image\" src=\"https://m.media-amazon.com/images/S/sash/8ZhQrGnWn9cWUVQ.png\" class=\"loadl',\n",
       " b'ate hidden \" loadlate=\"https://m.media-amazon.com/images/M/MV5BMmEwM2U2NTYtOTE5My00NWUyLWFjMWMtMDhjNmVlMWNkZTRlXkEyXkFqcGdeQXVyM',\n",
       " b'TkxNjUyNQ@@._V1_UX86_CR0,0,86,86_AL_.jpg\" /></a>        </div>\\n        <div class=\"list_name\">\\n            <strong><a href=\"/lis',\n",
       " b't/ls089681849\"\\n>\\nEverything Coming to Netflix in March 2021\\n</a></strong>\\n        </div>\\n        <div class=\"list_meta\">\\n       ',\n",
       " b'     a list of 93 titles\\n            \\n            <br />updated 2&nbsp;months&nbsp;ago\\n        </div>\\n        <div class=\"clear\"',\n",
       " b'>&nbsp;</div>\\n    </div>\\n    <div class=\"list-preview odd\">\\n        <div class=\"list-preview-item-narrow\">\\n<a href=\"/list/ls0828',\n",
       " b'49306\"\\n><img height=\"86\" width=\"86\" alt=\"list image\" title=\"list image\" src=\"https://m.media-amazon.com/images/S/sash/8ZhQrGnWn9',\n",
       " b'cWUVQ.png\" class=\"loadlate hidden \" loadlate=\"https://m.media-amazon.com/images/M/MV5BZWJhN2M3NzktN2RkNC00ZDgwLTg2ZjktMWQzNTE3Yz',\n",
       " b'AxMGYyXkEyXkFqcGdeQXVyMTY5Nzc4MDY@._V1_UX86_CR0,0,86,86_AL_.jpg\" /></a>        </div>\\n        <div class=\"list_name\">\\n          ',\n",
       " ...]"
      ]
     },
     "metadata": {},
     "execution_count": 37
    }
   ],
   "source": [
    "l = list(page)\n",
    "l"
   ]
  },
  {
   "cell_type": "code",
   "execution_count": 43,
   "metadata": {},
   "outputs": [
    {
     "output_type": "execute_result",
     "data": {
      "text/plain": [
       "1698"
      ]
     },
     "metadata": {},
     "execution_count": 43
    }
   ],
   "source": [
    "len(l)"
   ]
  },
  {
   "cell_type": "code",
   "execution_count": 32,
   "metadata": {},
   "outputs": [],
   "source": [
    "dump_obj(page.content, '../../data/raw/html_with_id/1')"
   ]
  },
  {
   "cell_type": "code",
   "execution_count": 34,
   "metadata": {},
   "outputs": [],
   "source": [
    "o = load_obj('../../data/raw/html_with_id/1')"
   ]
  },
  {
   "cell_type": "code",
   "execution_count": 35,
   "metadata": {},
   "outputs": [
    {
     "output_type": "execute_result",
     "data": {
      "text/plain": [
       "ht=\"10\" viewBox=\"0 0 10 10\" xmlns=\"http://www.w3.org/2000/svg\" fill=\"#000000\"><g><path d=\"M9,9 L1,9 L1,1 L4,1 L4,0 L-1.42108547e-14,0 L-1.42108547e-14,10 L10,10 L10,6 L9,6 L9,9 Z M6,0 L6,1 L8,1 L2.998122,6.03786058 L3.998122,7.03786058 L9,2 L9,4 L10,4 L10,0 L6,0 Z\"></path></g></svg></a></li><li role=\"presentation\" class=\"ipc-inline-list__item\"><a href=\"https://www.amazon.jobs/en/teams/imdb\" target=\"_blank\" class=\"ipc-link ipc-link--baseAlt ipc-link--touch-target ipc-link--inherit-color ipc-link--launch\">Jobs<svg class=\"ipc-link__launch-icon\" width=\"10\" height=\"10\" viewBox=\"0 0 10 10\" xmlns=\"http://www.w3.org/2000/svg\" fill=\"#000000\"><g><path d=\"M9,9 L1,9 L1,1 L4,1 L4,0 L-1.42108547e-14,0 L-1.42108547e-14,10 L10,10 L10,6 L9,6 L9,9 Z M6,0 L6,1 L8,1 L2.998122,6.03786058 L3.998122,7.03786058 L9,2 L9,4 L10,4 L10,0 L6,0 Z\"></path></g></svg></a></li><li role=\"presentation\" class=\"ipc-inline-list__item\"><a href=\"/conditions?ref_=ft_cou\" class=\"ipc-link ipc-link--baseAlt ipc-link--touch-target ipc-link--inherit-color\">Conditions of Use</a></li><li role=\"presentation\" class=\"ipc-inline-list__item\"><a href=\"/privacy?ref_=ft_pvc\" class=\"ipc-link ipc-link--baseAlt ipc-link--touch-target ipc-link--inherit-color\">Privacy Policy</a></li><li role=\"presentation\" class=\"ipc-inline-list__item\"><a href=\"https://www.amazon.com/b/?&amp;node=5160028011\" target=\"_blank\" class=\"ipc-link ipc-link--baseAlt ipc-link--touch-target ipc-link--inherit-color ipc-link--launch\">Interest-Based Ads<svg class=\"ipc-link__launch-icon\" width=\"10\" height=\"10\" viewBox=\"0 0 10 10\" xmlns=\"http://www.w3.org/2000/svg\" fill=\"#000000\"><g><path d=\"M9,9 L1,9 L1,1 L4,1 L4,0 L-1.42108547e-14,0 L-1.42108547e-14,10 L10,10 L10,6 L9,6 L9,9 Z M6,0 L6,1 L8,1 L2.998122,6.03786058 L3.998122,7.03786058 L9,2 L9,4 L10,4 L10,0 L6,0 Z\"></path></g></svg></a></li><li role=\"presentation\" class=\"ipc-inline-list__item\"><div id=\"teconsent\" class=\"_2mulh8fx3PjJyxvyLovP4w\"></div></li></ul></div></div><div class=\"imdb-footer__logo _1eKbSAFyeJgUyBUy2VbcS_\"><svg aria-label=\"IMDb, an Amazon company\" title=\"IMDb, an Amazon company\" width=\"160\" height=\"18\" xmlns=\"http://www.w3.org/2000/svg\" xmlns:xlink=\"http://www.w3.org/1999/xlink\"><defs><path d=\"M26.707 2.45c-3.227 2.374-7.906 3.637-11.935 3.637C9.125 6.087 4.04 4.006.193.542-.11.27.161-.101.523.109 4.675 2.517 9.81 3.968 15.111 3.968c3.577 0 7.51-.74 11.127-2.27.546-.23 1.003.358.47.752z\" id=\"ftr__a\"/><path d=\"M4.113 1.677C3.7 1.15 1.385 1.427.344 1.552c-.315.037-.364-.237-.08-.436C2.112-.178 5.138.196 5.49.629c.354.437-.093 3.462-1.824 4.906-.266.222-.52.104-.401-.19.39-.97 1.261-3.14.848-3.668z\" id=\"ftr__c\"/><path d=\"M.435 1.805V.548A.311.311 0 0 1 .755.23l5.65-.001c.181 0 .326.13.326.317v1.078c-.002.181-.154.417-.425.791L3.378 6.582c1.087-.026 2.236.137 3.224.69.222.125.282.309.3.49v1.342c0 .185-.203.398-.417.287-1.74-.908-4.047-1.008-5.97.011-.197.104-.403-.107-.403-.292V7.835c0-.204.004-.552.21-.863l3.392-4.85H.761a.314.314 0 0 1-.326-.317z\" id=\"ftr__e\"/><path d=\"M2.247 9.655H.528a.323.323 0 0 1-.307-.29L.222.569C.222.393.37.253.554.253h1.601a.323.323 0 0 1 .313.295v1.148h.031C2.917.586 3.703.067 4.762.067c1.075 0 1.75.518 2.23 1.629C7.41.586 8.358.067 9.369.067c.722 0 1.508.296 1.99.963.545.74.433 1.813.433 2.757l-.002 5.551a.324.324 0 0 1-.331.317H9.74a.321.321 0 0 1-.308-.316l-.001-4.663c0-.37.032-1.296-.048-1.647-.128-.593-.514-.76-1.011-.76-.418 0-.85.278-1.027.722-.177.445-.161 1.185-.161 1.685v4.662a.323.323 0 0 1-.331.317H5.137a.322.322 0 0 1-.31-.316l-.001-4.663c0-.981.16-2.424-1.059-2.424-1.236 0-1.188 1.406-1.188 2.424v4.662a.324.324 0 0 1-.332.317z\" id=\"ftr__g\"/><path d=\"M4.037.067c2.551 0 3.931 2.184 3.931 4.96 0 2.684-1.524 4.814-3.931 4.814C1.533 9.84.169 7.656.169 4.935.17 2.195 1.55.067 4.037.067zm.015 1.796c-1.267 0-1.347 1.721-1.347 2.795 0 1.073-.016 3.368 1.332 3.368 1.332 0 1.395-1.851 1.395-2.98 0-.74-.031-1.629-.256-2.332-.193-.61-.578-.851-1.124-.851z\" id=\"ftr__i\"/><path d=\"M2.206 9.655H.493a.321.321 0 0 1-.308-.316L.182.54a.325.325 0 0 1 .33-.287h1.595c.15.007.274.109.305.245v1.346h.033C2.926.641 3.6.067 4.788.067c.77 0 1.524.277 2.006 1.037.449.703.449 1.887.449 2.739v5.535a.325.325 0 0 1-.33.277H5.19a.324.324 0 0 1-.306-.277V4.602c0-.962.113-2.37-1.075-2.37-.418 0-.803.278-.995.704-.24.537-.273 1.074-.273 1.666v4.736a.328.328 0 0 1-.335.317z\" id=\"ftr__k\"/><path d=\"M8.314 8.295c.11.156.134.341-.006.455-.35.294-.974.834-1.318 1.139l-.004-.004a.357.357 0 0 1-.406.04c-.571-.473-.673-.692-.986-1.142-.943.958-1.611 1.246-2.834 1.246-1.447 0-2.573-.89-2.573-2.672 0-1.39.756-2.337 1.833-2.8.933-.409 2.235-.483 3.233-.595V3.74c0-.409.032-.89-.209-1.243-.21-.315-.611-.445-.965-.445-.656 0-1.238.335-1.382 1.029-.03.154-.143.307-.298.315l-1.667-.18c-.14-.032-.297-.144-.256-.358C.859.842 2.684.234 4.32.234c.837 0 1.93.222 2.59.853.836.78.755 1.818.755 2.95v2.67c0 .804.335 1.155.65 1.588zM5.253 5.706v-.37c-1.244 0-2.557.265-2.557 1.724 0 .742.386 1.244 1.045 1.244.483 0 .917-.297 1.19-.78.338-.593.322-1.15.322-1.818z\" id=\"ftr__m\"/><path d=\"M8.203 8.295c.11.156.135.341-.005.455-.352.294-.976.834-1.319 1.139l-.004-.004a.356.356 0 0 1-.406.04c-.571-.473-.673-.692-.985-1.142-.944.958-1.613 1.246-2.835 1.246-1.447 0-2.573-.89-2.573-2.672 0-1.39.756-2.337 1.833-2.8.933-.409 2.236-.483 3.233-.595V3.74c0-.409.032-.89-.21-1.243-.208-.315-.61-.445-.964-.445-.656 0-1.239.335-1.382 1.029-.03.154-.142.307-.298.315l-1.666-.18C.48 3.184.324 3.072.365 2.858.748.842 2.573.234 4.209.234c.836 0 1.93.222 2.59.853.835.78.755 1.818.755 2.95v2.67c0 .804.335 1.155.649 1.588zM5.142 5.706v-.37c-1.243 0-2.557.265-2.557 1.724 0 .742.386 1.244 1.045 1.244.482 0 .917-.297 1.19-.78.338-.593.322-1.15.322-1.818z\" id=\"ftr__o\"/><path d=\"M2.935 10.148c-.88 0-1.583-.25-2.11-.75-.527-.501-.79-1.171-.79-2.011 0-.902.322-1.622.967-2.159.644-.538 1.511-.806 2.602-.806.694 0 1.475.104 2.342.315V3.513c0-.667-.151-1.136-.455-1.408-.304-.271-.821-.407-1.553-.407-.855 0-1.691.123-2.509.37-.285.087-.464.13-.539.13-.148 0-.223-.111-.223-.334v-.5c0-.16.025-.278.075-.352C.79.938.89.87 1.039.808c.383-.173.87-.312 1.459-.417A9.997 9.997 0 0 1 4.255.234c1.177 0 2.045.244 2.602.731.557.489.836 1.233.836 2.233v6.338c0 .247-.124.37-.372.37h-.798c-.236 0-.373-.117-.41-.351l-.093-.612c-.445.383-.939.68-1.477.89-.54.21-1.076.315-1.608.315zm.446-1.39c.41 0 .836-.08 1.282-.241.447-.16.874-.395 1.283-.704v-1.89a8.408 8.408 0 0 0-1.97-.241c-1.401 0-2.1.537-2.1 1.612 0 .47.13.831.39 1.084.26.254.632.38 1.115.38z\" id=\"ftr__q\"/><path d=\"M.467 9.907c-.248 0-.372-.124-.372-.37V.883C.095.635.219.51.467.51h.817c.125 0 .22.026.288.075.068.05.115.142.14.277l.111.686C3 .672 4.24.234 5.541.234c.904 0 1.592.238 2.063.713.471.476.707 1.165.707 2.066v6.524c0 .246-.124.37-.372.37H6.842c-.248 0-.372-.124-.372-.37V3.625c0-.655-.133-1.137-.4-1.445-.266-.31-.684-.464-1.254-.464-.979 0-1.94.315-2.881.946v6.875c0 .246-.125.37-.372.37H.467z\" id=\"ftr__s\"/><path d=\"M4.641 9.859c-1.462 0-2.58-.417-3.355-1.251C.51 7.774.124 6.566.124 4.985c0-1.569.4-2.783 1.2-3.641C2.121.486 3.252.055 4.714.055c.67 0 1.326.118 1.971.353.136.05.232.111.288.185.056.074.083.198.083.37v.501c0 .248-.08.37-.241.37-.062 0-.162-.018-.297-.055a5.488 5.488 0 0 0-1.544-.222c-1.04 0-1.79.262-2.248.787-.459.526-.688 1.362-.688 2.511v.241c0 1.124.232 1.949.697 2.474.465.525 1.198.788 2.203.788a5.98 5.98 0 0 0 1.672-.26c.136-.037.23-.056.279-.056.161 0 .242.124.242.371v.5c0 .162-.025.279-.075.353-.05.074-.148.142-.297.204-.608.259-1.314.389-2.119.389z\" id=\"ftr__u\"/><path d=\"M4.598 10.185c-1.413 0-2.516-.438-3.31-1.316C.497 7.992.1 6.769.1 5.199c0-1.555.397-2.773 1.19-3.65C2.082.673 3.185.235 4.598.235c1.412 0 2.515.438 3.308 1.316.793.876 1.19 2.094 1.19 3.65 0 1.569-.397 2.792-1.19 3.669-.793.878-1.896 1.316-3.308 1.316zm0-1.483c1.747 0 2.62-1.167 2.62-3.502 0-2.323-.873-3.484-2.62-3.484S1.977 2.877 1.977 5.2c0 2.335.874 3.502 2.62 3.502z\" id=\"ftr__w\"/><path d=\"M.396 9.907c-.248 0-.371-.124-.371-.37V.883C.025.635.148.51.396.51h.818a.49.49 0 0 1 .288.075c.068.05.115.142.14.277l.111.594C2.943.64 4.102.234 5.23.234c1.152 0 1.934.438 2.342 1.315C8.798.672 10.025.234 11.25.234c.856 0 1.512.24 1.971.722.458.482.688 1.168.688 2.057v6.524c0 .246-.124.37-.372.37h-1.097c-.248 0-.371-.124-.371-.37V3.533c0-.618-.119-1.075-.354-1.372-.235-.297-.607-.445-1.115-.445-.904 0-1.815.278-2.732.834.012.087.018.18.018.278v6.709c0 .246-.124.37-.372.37H6.42c-.249 0-.372-.124-.372-.37V3.533c0-.618-.118-1.075-.353-1.372-.235-.297-.608-.445-1.115-.445-.942 0-1.847.272-2.714.815v7.006c0 .246-.125.37-.372.37H.396z\" id=\"ftr__y\"/><path d=\"M.617 13.724c-.248 0-.371-.124-.371-.37V.882c0-.247.123-.37.371-.37h.818c.248 0 .39.123.428.37l.093.594C2.897.648 3.944.234 5.096.234c1.203 0 2.15.435 2.845 1.307.693.87 1.04 2.053 1.04 3.548 0 1.52-.365 2.736-1.096 3.65-.731.915-1.704 1.372-2.918 1.372-1.116 0-2.076-.365-2.881-1.094v4.337c0 .246-.125.37-.372.37H.617zM4.54 8.628c1.71 0 2.566-1.149 2.566-3.447 0-1.173-.208-2.044-.624-2.612-.415-.569-1.05-.853-1.904-.853-.88 0-1.711.284-2.491.853v5.17c.805.593 1.623.889 2.453.889z\" id=\"ftr__A\"/><path d=\"M2.971 10.148c-.88 0-1.583-.25-2.11-.75-.526-.501-.79-1.171-.79-2.011 0-.902.322-1.622.967-2.159.644-.538 1.512-.806 2.602-.806.694 0 1.475.104 2.342.315V3.513c0-.667-.15-1.136-.455-1.408-.304-.271-.821-.407-1.552-.407-.855 0-1.692.123-2.509.37-.285.087-.465.13-.54.13-.148 0-.223-.111-.223-.334v-.5c0-.16.025-.278.075-.352.05-.074.148-.142.297-.204.384-.173.87-.312 1.46-.417A9.991 9.991 0 0 1 4.29.234c1.177 0 2.045.244 2.603.731.557.489.836 1.233.836 2.233v6.338c0 .247-.125.37-.372.37h-.799c-.236 0-.372-.117-.41-.351l-.092-.612a5.09 5.09 0 0 1-1.478.89 4.4 4.4 0 0 1-1.608.315zm.446-1.39c.41 0 .836-.08 1.283-.241.446-.16.874-.395 1.282-.704v-1.89a8.403 8.403 0 0 0-1.97-.241c-1.4 0-2.1.537-2.1 1.612 0 .47.13.831.39 1.084.26.254.632.38 1.115.38z\" id=\"ftr__C\"/><path d=\"M.503 9.907c-.248 0-.371-.124-.371-.37V.883C.132.635.255.51.503.51h.818a.49.49 0 0 1 .288.075c.068.05.115.142.14.277l.111.686C3.037.672 4.277.234 5.578.234c.904 0 1.592.238 2.063.713.47.476.706 1.165.706 2.066v6.524c0 .246-.123.37-.371.37H6.879c-.248 0-.372-.124-.372-.37V3.625c0-.655-.133-1.137-.4-1.445-.266-.31-.684-.464-1.254-.464-.98 0-1.94.315-2.882.946v6.875c0 .246-.124.37-.371.37H.503z\" id=\"ftr__E\"/><path d=\"M1.988 13.443c-.397 0-.75-.043-1.059-.13-.15-.037-.251-.1-.307-.185a.684.684 0 0 1-.084-.37v-.483c0-.234.093-.352.28-.352.06 0 .154.013.278.037.124.025.291.037.502.037.459 0 .82-.114 1.087-.343.266-.228.505-.633.716-1.213l.353-.945L.167.675C.08.465.037.316.037.23c0-.149.086-.222.26-.222h1.115c.198 0 .334.03.409.093.075.062.148.197.223.407l2.602 7.19 2.51-7.19c.074-.21.148-.345.222-.407.075-.062.211-.093.41-.093h1.04c.174 0 .261.073.261.222 0 .086-.044.235-.13.445l-4.09 10.377c-.334.853-.725 1.464-1.17 1.835-.446.37-1.017.556-1.711.556z\" id=\"ftr__G\"/></defs><g fill=\"none\" fill-rule=\"evenodd\"><g transform=\"translate(31.496 11.553)\"><mask id=\"ftr__b\" fill=\"currentColor\"><use xlink:href=\"#ftr__a\"/></mask><path fill=\"currentColor\" mask=\"url(#ftr__b)\" d=\"M.04 6.088h26.91V.04H.04z\"/></g><g transform=\"translate(55.433 10.797)\"><mask id=\"ftr__d\" fill=\"currentColor\"><use xlink:href=\"#ftr__c\"/></mask><path fill=\"currentColor\" mask=\"url(#ftr__d)\" d=\"M.05 5.664h5.564V.222H.05z\"/></g><g transform=\"translate(55.433 .97)\"><mask id=\"ftr__f\" fill=\"currentColor\"><use xlink:href=\"#ftr__e\"/></mask><path fill=\"currentColor\" mask=\"url(#ftr__f)\" d=\"M.11 9.444h6.804V.222H.111z\"/></g><g transform=\"translate(33.008 .97)\"><mask id=\"ftr__h\" fill=\"currentColor\"><use xlink:href=\"#ftr__g\"/></mask><path fill=\"currentColor\" mask=\"url(#ftr__h)\" d=\"M.191 9.655h11.611V.04H.192z\"/></g><g transform=\"translate(62.992 .97)\"><mask id=\"ftr__j\" fill=\"currentColor\"><use xlink:href=\"#ftr__i\"/></mask><path fill=\"currentColor\" mask=\"url(#ftr__j)\" d=\"M.141 9.867h7.831V.04H.142z\"/></g><g transform=\"translate(72.063 .97)\"><mask id=\"ftr__l\" fill=\"currentColor\"><use xlink:href=\"#ftr__k\"/></mask><path fill=\"currentColor\" mask=\"url(#ftr__l)\" d=\"M.171 9.655h7.076V.04H.17z\"/></g><g transform=\"translate(46.11 .718)\"><mask id=\"ftr__n\" fill=\"currentColor\"><use xlink:href=\"#ftr__m\"/></mask><path fill=\"currentColor\" mask=\"url(#ftr__n)\" d=\"M.181 10.059h8.225V.232H.18z\"/></g><g transform=\"translate(23.685 .718)\"><mask id=\"ftr__p\" fill=\"currentColor\"><use xlink:href=\"#ftr__o\"/></mask><path fill=\"currentColor\" mask=\"url(#ftr__p)\" d=\"M.05 10.059h8.255V.232H.05z\"/></g><g transform=\"translate(0 .718)\"><mask id=\"ftr__r\" fill=\"currentColor\"><use xlink:href=\"#ftr__q\"/></mask><path fill=\"currentColor\" mask=\"url(#ftr__r)\" d=\"M.03 10.15h7.68V.231H.03z\"/></g><g transform=\"translate(10.33 .718)\"><mask id=\"ftr__t\" fill=\"currentColor\"><use xlink:href=\"#ftr__s\"/></mask><path fill=\"currentColor\" mask=\"url(#ftr__t)\" d=\"M.07 9.907h8.255V.232H.071z\"/></g><g transform=\"translate(84.157 .97)\"><mask id=\"ftr__v\" fill=\"currentColor\"><use xlink:href=\"#ftr__u\"/></mask><path fill=\"currentColor\" mask=\"url(#ftr__v)\" d=\"M.11 9.867h7.046V.04H.11z\"/></g><g transform=\"translate(92.472 .718)\"><mask id=\"ftr__x\" fill=\"currentColor\"><use xlink:href=\"#ftr__w\"/></mask><path fill=\"currentColor\" mask=\"url(#ftr__x)\" d=\"M.08 10.21h9.041V.232H.081z\"/></g><g transform=\"translate(103.811 .718)\"><mask id=\"ftr__z\" fill=\"currentColor\"><use xlink:href=\"#ftr__y\"/></mask><path fill=\"currentColor\" mask=\"url(#ftr__z)\" d=\"M.02 9.907H13.93V.232H.02z\"/></g><g transform=\"translate(120.189 .718)\"><mask id=\"ftr__B\" fill=\"currentColor\"><use xlink:href=\"#ftr__A\"/></mask><path fill=\"currentColor\" mask=\"url(#ftr__B)\" d=\"M.242 13.747H9.01V.232H.242z\"/></g><g transform=\"translate(130.772 .718)\"><mask id=\"ftr__D\" fill=\"currentColor\"><use xlink:href=\"#ftr__C\"/></mask><path fill=\"currentColor\" mask=\"url(#ftr__D)\" d=\"M.06 10.15h7.68V.231H.06z\"/></g><g transform=\"translate(141.102 .718)\"><mask id=\"ftr__F\" fill=\"currentColor\"><use xlink:href=\"#ftr__E\"/></mask><path fill=\"currentColor\" mask=\"url(#ftr__F)\" d=\"M.131 9.907h8.224V.232H.131z\"/></g><g transform=\"translate(150.677 1.222)\"><mask id=\"ftr__H\" fill=\"currentColor\"><use xlink:href=\"#ftr__G\"/></mask><path fill=\"currentColor\" mask=\"url(#ftr__H)\" d=\"M.02 13.455h9.071V0H.021z\"/></g></g></svg></div><p class=\"imdb-footer__copyright _2-iNNCFskmr4l2OFN2DRsf\">\\xc2\\xa9 1990-<!-- -->2021<!-- --> by IMDb.com, Inc.</p></div></footer><svg style=\"width:0;height:0;overflow:hidden;display:block\" xmlns=\"http://www.w3.org/2000/svg\" version=\"1.1\"><defs><linearGradient id=\"ipc-svg-gradient-tv-logo-t\" x1=\"31.973%\" y1=\"53.409%\" x2=\"153.413%\" y2=\"-16.853%\"><stop stop-color=\"#D01F49\" offset=\"21.89%\"></stop><stop stop-color=\"#E8138B\" offset=\"83.44%\"></stop></linearGradient><linearGradient id=\"ipc-svg-gradient-tv-logo-v\" x1=\"-38.521%\" y1=\"84.997%\" x2=\"104.155%\" y2=\"14.735%\"><stop stop-color=\"#D01F49\" offset=\"21.89%\"></stop><stop stop-color=\"#E8138B\" offset=\"83.44%\"></stop></linearGradient></defs></svg>\\n    </div>\\n<script type=\"text/javascript\">\\n    if (!window.RadWidget) {\\n        window.RadWidget = {\\n            registerReactWidgetInstance: function(input) {\\n                window.RadWidget[input.widgetName] = window.RadWidget[input.widgetName] || [];\\n                window.RadWidget[input.widgetName].push({\\n                    id: input.instanceId,\\n                    props: JSON.stringify(input.model)\\n                })\\n            },\\n            getReactWidgetInstances: function(widgetName) {\\n                return window.RadWidget[widgetName] || []\\n            }\\n        };\\n    }\\n</script>    <script type=\"text/javascript\">\\n        window[\\'RadWidget\\'].registerReactWidgetInstance({\\n            widgetName: \"IMDbConsumerSiteFooterFeatureV1\",\\n            instanceId: \"e7f86fcd-b64b-4ed3-9c61-17af957975d9\",\\n            model: {\"ResponsiveFooterModel\":{\"showIMDbTVLink\":false,\"desktopLink\":\"?mode=desktop&ref_=m_ft_dsk\",\"showDesktopLink\":true}}\\n        });\\n    </script>\\n<script>\\n    if (typeof uet == \\'function\\') {\\n      uet(\"be\", \"desktopFooter\", {wb: 1});\\n    }\\n</script>\\n<script>\\n    if (typeof uex == \\'function\\') {\\n      uex(\"ld\", \"desktopFooter\", {wb: 1});\\n    }\\n</script>\\n\\n<script>\\n    if (typeof uet == \\'function\\') {\\n      uet(\"bb\", \"LoadHeaderJS\", {wb: 1});\\n    }\\n</script>\\n\\n\\n\\n<script type=\"text/javascript\" src=\"https://m.media-amazon.com/images/S/sash/EbJ50esdfIcjt2R.js\"></script>\\n<script type=\"text/javascript\" src=\"https://m.media-amazon.com/images/S/sash/rGTSJRR5lL7o$0g.js\"></script>\\n<script type=\"text/javascript\" src=\"https://m.media-amazon.com/images/S/sash/xhHuETOU5JsKksm.js\"></script>\\n\\n\\n\\n<script type=\"text/javascript\">window.webpackManifest_IMDbConsumerSiteNavFeature={}</script><script type=\"text/javascript\">window.webpackManifest_IMDbConsumerSiteFooterFeature={}</script><script crossorigin=\"anonymous\" type=\"text/javascript\" src=\"https://m.media-amazon.com/images/I/81SPm2xfKSL.js\"></script><script crossorigin=\"anonymous\" type=\"text/javascript\" src=\"https://m.media-amazon.com/images/I/61SeeyqsNHL.js\"></script><script crossorigin=\"anonymous\" type=\"text/javascript\" src=\"https://m.media-amazon.com/images/I/61vDTVmJCNL.js\"></script><script crossorigin=\"anonymous\" type=\"text/javascript\" src=\"https://m.media-amazon.com/images/I/31827uXCh4L.js\"></script><script crossorigin=\"anonymous\" type=\"text/javascript\" src=\"https://m.media-amazon.com/images/I/31P6K1kIR-L.js\"></script><script crossorigin=\"anonymous\" type=\"text/javascript\" src=\"https://m.media-amazon.com/images/I/41Dm6cYzV6L.js\"></script><script crossorigin=\"anonymous\" type=\"text/javascript\" src=\"https://m.media-amazon.com/images/I/51GDom0+d0L.js\"></script><script crossorigin=\"anonymous\" type=\"text/javascript\" src=\"https://m.media-amazon.com/images/I/01ZyMmZoX7L.js\"></script><script crossorigin=\"anonymous\" type=\"text/javascript\" src=\"https://m.media-amazon.com/images/I/61Ka2ezTX9L.js\"></script><script crossorigin=\"anonymous\" type=\"text/javascript\" src=\"https://m.media-amazon.com/images/I/019vMGkrlkL.js\"></script><script crossorigin=\"anonymous\" type=\"text/javascript\" src=\"https://m.media-amazon.com/images/I/11UNuUz7BzL.js\"></script><script crossorigin=\"anonymous\" type=\"text/javascript\" src=\"https://m.media-amazon.com/images/I/21QhnrxvhtL.js\"></script><script crossorigin=\"anonymous\" type=\"text/javascript\" src=\"https://m.media-amazon.com/images/I/01EjywnajPL.js\"></script><script crossorigin=\"anonymous\" type=\"text/javascript\" src=\"https://m.media-amazon.com/images/I/01eEXY1YetL.js\"></script><script crossorigin=\"anonymous\" type=\"text/javascript\" src=\"https://m.media-amazon.com/images/I/21n5fdlWBhL.js\"></script><script crossorigin=\"anonymous\" type=\"text/javascript\" src=\"https://m.media-amazon.com/images/I/21a9eB+eAFL.js\"></script><script crossorigin=\"anonymous\" type=\"text/javascript\" src=\"https://m.media-amazon.com/images/I/01X4+ME2ObL.js\"></script><script crossorigin=\"anonymous\" type=\"text/javascript\" src=\"https://m.media-amazon.com/images/I/615xUI92P9L.js\"></script><script crossorigin=\"anonymous\" type=\"text/javascript\" src=\"https://m.media-amazon.com/images/I/81eNomhRmGL.js\"></script><script crossorigin=\"anonymous\" type=\"text/javascript\" src=\"https://m.media-amazon.com/images/I/31ROAIgElzL.js\"></script><script crossorigin=\"anonymous\" type=\"text/javascript\" src=\"https://m.media-amazon.com/images/I/01lfk7y+8rL.js\"></script><script crossorigin=\"anonymous\" type=\"text/javascript\" src=\"https://m.media-amazon.com/images/I/31VYLn8dVDL.js\"></script><script crossorigin=\"anonymous\" type=\"text/javascript\" src=\"https://m.media-amazon.com/images/I/01qhBQyMr+L.js\"></script><script crossorigin=\"anonymous\" type=\"text/javascript\" src=\"https://m.media-amazon.com/images/I/41utkxPA-bL.js\"></script>\\n\\n\\n<script>\\n    if (typeof uet == \\'function\\') {\\n      uet(\"be\", \"LoadFooterJS\", {wb: 1});\\n    }\\n</script>\\n<script>\\n    if (typeof uex == \\'function\\') {\\n      uex(\"ld\", \"LoadFooterJS\", {wb: 1});\\n    }\\n</script>\\n        \\n        <div id=\"servertime\" time=\"907\"/>\\n\\n\\n\\n<script>\\n    if (typeof uet == \\'function\\') {\\n      uet(\"be\");\\n    }\\n</script>\\n        \\n    </body>\\n</html>\\n\\n'"
      ]
     },
     "metadata": {},
     "execution_count": 35
    }
   ],
   "source": [
    "o"
   ]
  },
  {
   "cell_type": "code",
   "execution_count": 30,
   "metadata": {},
   "outputs": [
    {
     "output_type": "execute_result",
     "data": {
      "text/plain": [
       "[]"
      ]
     },
     "metadata": {},
     "execution_count": 30
    }
   ],
   "source": [
    "import os\n",
    "os.listdir('../../data/raw/html_with_id')"
   ]
  },
  {
   "cell_type": "code",
   "execution_count": 8,
   "metadata": {},
   "outputs": [],
   "source": [
    "import requests\n",
    "\n",
    "page = requests.get('https://www.imdb.com/title/tt0468569/')\n",
    "cont = HTMLContainer(page.content, 'html.parser')"
   ]
  },
  {
   "cell_type": "code",
   "execution_count": 14,
   "metadata": {},
   "outputs": [
    {
     "output_type": "error",
     "ename": "NameError",
     "evalue": "name 'cls' is not defined",
     "traceback": [
      "\u001b[1;31m---------------------------------------------------------------------------\u001b[0m",
      "\u001b[1;31mNameError\u001b[0m                                 Traceback (most recent call last)",
      "\u001b[1;32m~\\miniconda3\\lib\\site-packages\\IPython\\core\\formatters.py\u001b[0m in \u001b[0;36m__call__\u001b[1;34m(self, obj)\u001b[0m\n\u001b[0;32m    700\u001b[0m                 \u001b[0mtype_pprinters\u001b[0m\u001b[1;33m=\u001b[0m\u001b[0mself\u001b[0m\u001b[1;33m.\u001b[0m\u001b[0mtype_printers\u001b[0m\u001b[1;33m,\u001b[0m\u001b[1;33m\u001b[0m\u001b[1;33m\u001b[0m\u001b[0m\n\u001b[0;32m    701\u001b[0m                 deferred_pprinters=self.deferred_printers)\n\u001b[1;32m--> 702\u001b[1;33m             \u001b[0mprinter\u001b[0m\u001b[1;33m.\u001b[0m\u001b[0mpretty\u001b[0m\u001b[1;33m(\u001b[0m\u001b[0mobj\u001b[0m\u001b[1;33m)\u001b[0m\u001b[1;33m\u001b[0m\u001b[1;33m\u001b[0m\u001b[0m\n\u001b[0m\u001b[0;32m    703\u001b[0m             \u001b[0mprinter\u001b[0m\u001b[1;33m.\u001b[0m\u001b[0mflush\u001b[0m\u001b[1;33m(\u001b[0m\u001b[1;33m)\u001b[0m\u001b[1;33m\u001b[0m\u001b[1;33m\u001b[0m\u001b[0m\n\u001b[0;32m    704\u001b[0m             \u001b[1;32mreturn\u001b[0m \u001b[0mstream\u001b[0m\u001b[1;33m.\u001b[0m\u001b[0mgetvalue\u001b[0m\u001b[1;33m(\u001b[0m\u001b[1;33m)\u001b[0m\u001b[1;33m\u001b[0m\u001b[1;33m\u001b[0m\u001b[0m\n",
      "\u001b[1;32m~\\miniconda3\\lib\\site-packages\\IPython\\lib\\pretty.py\u001b[0m in \u001b[0;36mpretty\u001b[1;34m(self, obj)\u001b[0m\n\u001b[0;32m    392\u001b[0m                         \u001b[1;32mif\u001b[0m \u001b[0mcls\u001b[0m \u001b[1;32mis\u001b[0m \u001b[1;32mnot\u001b[0m \u001b[0mobject\u001b[0m\u001b[0;31m \u001b[0m\u001b[0;31m\\\u001b[0m\u001b[1;33m\u001b[0m\u001b[1;33m\u001b[0m\u001b[0m\n\u001b[0;32m    393\u001b[0m                                 \u001b[1;32mand\u001b[0m \u001b[0mcallable\u001b[0m\u001b[1;33m(\u001b[0m\u001b[0mcls\u001b[0m\u001b[1;33m.\u001b[0m\u001b[0m__dict__\u001b[0m\u001b[1;33m.\u001b[0m\u001b[0mget\u001b[0m\u001b[1;33m(\u001b[0m\u001b[1;34m'__repr__'\u001b[0m\u001b[1;33m)\u001b[0m\u001b[1;33m)\u001b[0m\u001b[1;33m:\u001b[0m\u001b[1;33m\u001b[0m\u001b[1;33m\u001b[0m\u001b[0m\n\u001b[1;32m--> 394\u001b[1;33m                             \u001b[1;32mreturn\u001b[0m \u001b[0m_repr_pprint\u001b[0m\u001b[1;33m(\u001b[0m\u001b[0mobj\u001b[0m\u001b[1;33m,\u001b[0m \u001b[0mself\u001b[0m\u001b[1;33m,\u001b[0m \u001b[0mcycle\u001b[0m\u001b[1;33m)\u001b[0m\u001b[1;33m\u001b[0m\u001b[1;33m\u001b[0m\u001b[0m\n\u001b[0m\u001b[0;32m    395\u001b[0m \u001b[1;33m\u001b[0m\u001b[0m\n\u001b[0;32m    396\u001b[0m             \u001b[1;32mreturn\u001b[0m \u001b[0m_default_pprint\u001b[0m\u001b[1;33m(\u001b[0m\u001b[0mobj\u001b[0m\u001b[1;33m,\u001b[0m \u001b[0mself\u001b[0m\u001b[1;33m,\u001b[0m \u001b[0mcycle\u001b[0m\u001b[1;33m)\u001b[0m\u001b[1;33m\u001b[0m\u001b[1;33m\u001b[0m\u001b[0m\n",
      "\u001b[1;32m~\\miniconda3\\lib\\site-packages\\IPython\\lib\\pretty.py\u001b[0m in \u001b[0;36m_repr_pprint\u001b[1;34m(obj, p, cycle)\u001b[0m\n\u001b[0;32m    698\u001b[0m     \u001b[1;34m\"\"\"A pprint that just redirects to the normal repr function.\"\"\"\u001b[0m\u001b[1;33m\u001b[0m\u001b[1;33m\u001b[0m\u001b[0m\n\u001b[0;32m    699\u001b[0m     \u001b[1;31m# Find newlines and replace them with p.break_()\u001b[0m\u001b[1;33m\u001b[0m\u001b[1;33m\u001b[0m\u001b[1;33m\u001b[0m\u001b[0m\n\u001b[1;32m--> 700\u001b[1;33m     \u001b[0moutput\u001b[0m \u001b[1;33m=\u001b[0m \u001b[0mrepr\u001b[0m\u001b[1;33m(\u001b[0m\u001b[0mobj\u001b[0m\u001b[1;33m)\u001b[0m\u001b[1;33m\u001b[0m\u001b[1;33m\u001b[0m\u001b[0m\n\u001b[0m\u001b[0;32m    701\u001b[0m     \u001b[0mlines\u001b[0m \u001b[1;33m=\u001b[0m \u001b[0moutput\u001b[0m\u001b[1;33m.\u001b[0m\u001b[0msplitlines\u001b[0m\u001b[1;33m(\u001b[0m\u001b[1;33m)\u001b[0m\u001b[1;33m\u001b[0m\u001b[1;33m\u001b[0m\u001b[0m\n\u001b[0;32m    702\u001b[0m     \u001b[1;32mwith\u001b[0m \u001b[0mp\u001b[0m\u001b[1;33m.\u001b[0m\u001b[0mgroup\u001b[0m\u001b[1;33m(\u001b[0m\u001b[1;33m)\u001b[0m\u001b[1;33m:\u001b[0m\u001b[1;33m\u001b[0m\u001b[1;33m\u001b[0m\u001b[0m\n",
      "\u001b[1;32m<ipython-input-7-8537c4497ca9>\u001b[0m in \u001b[0;36m__repr__\u001b[1;34m(self)\u001b[0m\n\u001b[0;32m      1\u001b[0m \u001b[1;32mclass\u001b[0m \u001b[0mHTMLContainer\u001b[0m\u001b[1;33m(\u001b[0m\u001b[0mBeautifulSoup\u001b[0m\u001b[1;33m)\u001b[0m\u001b[1;33m:\u001b[0m\u001b[1;33m\u001b[0m\u001b[1;33m\u001b[0m\u001b[0m\n\u001b[0;32m      2\u001b[0m     \u001b[1;32mdef\u001b[0m \u001b[0m__repr__\u001b[0m\u001b[1;33m(\u001b[0m\u001b[0mself\u001b[0m\u001b[1;33m)\u001b[0m\u001b[1;33m:\u001b[0m\u001b[1;33m\u001b[0m\u001b[1;33m\u001b[0m\u001b[0m\n\u001b[1;32m----> 3\u001b[1;33m         \u001b[0mprint\u001b[0m\u001b[1;33m(\u001b[0m\u001b[0mcls\u001b[0m\u001b[1;33m)\u001b[0m\u001b[1;33m\u001b[0m\u001b[1;33m\u001b[0m\u001b[0m\n\u001b[0m",
      "\u001b[1;31mNameError\u001b[0m: name 'cls' is not defined"
     ]
    }
   ],
   "source": [
    "cont"
   ]
  },
  {
   "cell_type": "code",
   "execution_count": 13,
   "metadata": {},
   "outputs": [
    {
     "output_type": "execute_result",
     "data": {
      "text/plain": [
       "requests.models.Response"
      ]
     },
     "metadata": {},
     "execution_count": 13
    }
   ],
   "source": [
    "type(page)"
   ]
  },
  {
   "cell_type": "code",
   "execution_count": 11,
   "metadata": {},
   "outputs": [
    {
     "output_type": "execute_result",
     "data": {
      "text/plain": [
       "bytes"
      ]
     },
     "metadata": {},
     "execution_count": 11
    }
   ],
   "source": [
    "type(page.content)"
   ]
  },
  {
   "cell_type": "code",
   "execution_count": 10,
   "metadata": {},
   "outputs": [
    {
     "output_type": "execute_result",
     "data": {
      "text/plain": [
       "[<li class=\"ipc-inline-list__item\" role=\"presentation\"><a aria-disabled=\"false\" aria-label=\"Facebook\" class=\"ipc-icon-link ipc-icon-link--baseAlt ipc-icon-link--onBase\" href=\"https://facebook.com/imdb\" rel=\"nofollow noopener\" role=\"button\" tabindex=\"0\" target=\"_blank\" title=\"Facebook\"><svg class=\"ipc-icon ipc-icon--facebook\" fill=\"currentColor\" height=\"24\" role=\"presentation\" viewbox=\"0 0 24 24\" width=\"24\" xmlns=\"http://www.w3.org/2000/svg\"><path d=\"M20.896 2H3.104C2.494 2 2 2.494 2 3.104v17.792C2 21.506 2.494 22 3.104 22h9.579v-7.745h-2.607v-3.018h2.607V9.01c0-2.584 1.577-3.99 3.882-3.99 1.104 0 2.052.082 2.329.119v2.7h-1.598c-1.254 0-1.496.595-1.496 1.47v1.927h2.989l-.39 3.018h-2.6V22h5.097c.61 0 1.104-.494 1.104-1.104V3.104C22 2.494 21.506 2 20.896 2\"></path></svg></a></li>,\n",
       " <li class=\"ipc-inline-list__item\" role=\"presentation\"><a aria-disabled=\"false\" aria-label=\"Instagram\" class=\"ipc-icon-link ipc-icon-link--baseAlt ipc-icon-link--onBase\" href=\"https://instagram.com/imdb\" rel=\"nofollow noopener\" role=\"button\" tabindex=\"0\" target=\"_blank\" title=\"Instagram\"><svg class=\"ipc-icon ipc-icon--instagram\" fill=\"currentColor\" height=\"24\" role=\"presentation\" viewbox=\"0 0 24 24\" width=\"24\" xmlns=\"http://www.w3.org/2000/svg\"><path d=\"M11.997 2.04c-2.715 0-3.056.011-4.122.06-1.064.048-1.79.217-2.426.463a4.901 4.901 0 0 0-1.771 1.151 4.89 4.89 0 0 0-1.153 1.767c-.247.635-.416 1.36-.465 2.422C2.011 8.967 2 9.307 2 12.017s.011 3.049.06 4.113c.049 1.062.218 1.787.465 2.422a4.89 4.89 0 0 0 1.153 1.767 4.901 4.901 0 0 0 1.77 1.15c.636.248 1.363.416 2.427.465 1.066.048 1.407.06 4.122.06s3.055-.012 4.122-.06c1.064-.049 1.79-.217 2.426-.464a4.901 4.901 0 0 0 1.77-1.15 4.89 4.89 0 0 0 1.154-1.768c.247-.635.416-1.36.465-2.422.048-1.064.06-1.404.06-4.113 0-2.71-.012-3.05-.06-4.114-.049-1.062-.218-1.787-.465-2.422a4.89 4.89 0 0 0-1.153-1.767 4.901 4.901 0 0 0-1.77-1.15c-.637-.247-1.363-.416-2.427-.464-1.067-.049-1.407-.06-4.122-.06m0 1.797c2.67 0 2.985.01 4.04.058.974.045 1.503.207 1.856.344.466.181.8.397 1.15.746.349.35.566.682.747 1.147.137.352.3.88.344 1.853.048 1.052.058 1.368.058 4.032 0 2.664-.01 2.98-.058 4.031-.044.973-.207 1.501-.344 1.853a3.09 3.09 0 0 1-.748 1.147c-.35.35-.683.565-1.15.746-.352.137-.88.3-1.856.344-1.054.048-1.37.058-4.04.058-2.669 0-2.985-.01-4.039-.058-.974-.044-1.504-.207-1.856-.344a3.098 3.098 0 0 1-1.15-.746 3.09 3.09 0 0 1-.747-1.147c-.137-.352-.3-.88-.344-1.853-.049-1.052-.059-1.367-.059-4.031 0-2.664.01-2.98.059-4.032.044-.973.207-1.501.344-1.853a3.09 3.09 0 0 1 .748-1.147c.35-.349.682-.565 1.149-.746.352-.137.882-.3 1.856-.344 1.054-.048 1.37-.058 4.04-.058\"></path><path d=\"M11.997 15.342a3.329 3.329 0 0 1-3.332-3.325 3.329 3.329 0 0 1 3.332-3.326 3.329 3.329 0 0 1 3.332 3.326 3.329 3.329 0 0 1-3.332 3.325m0-8.449a5.128 5.128 0 0 0-5.134 5.124 5.128 5.128 0 0 0 5.134 5.123 5.128 5.128 0 0 0 5.133-5.123 5.128 5.128 0 0 0-5.133-5.124m6.536-.203c0 .662-.537 1.198-1.2 1.198a1.198 1.198 0 1 1 1.2-1.197\"></path></svg></a></li>,\n",
       " <li class=\"ipc-inline-list__item\" role=\"presentation\"><a aria-disabled=\"false\" aria-label=\"Twitch\" class=\"ipc-icon-link ipc-icon-link--baseAlt ipc-icon-link--onBase\" href=\"https://twitch.tv/IMDb\" rel=\"nofollow noopener\" role=\"button\" tabindex=\"0\" target=\"_blank\" title=\"Twitch\"><svg class=\"ipc-icon ipc-icon--twitch\" fill=\"currentColor\" height=\"24\" role=\"presentation\" viewbox=\"0 0 24 24\" width=\"24\" xmlns=\"http://www.w3.org/2000/svg\"><path d=\"M3.406 2h18.596v12.814l-5.469 5.47H12.47L9.813 22.94H7.001v-2.657H2V5.594L3.406 2zm16.721 11.876v-10H5.125v13.126h4.22v2.656L12 17.002h5l3.126-3.126z\"></path><path d=\"M17.002 7.47v5.469h-1.875v-5.47zM12.001 7.47v5.469h-1.875v-5.47z\"></path></svg></a></li>,\n",
       " <li class=\"ipc-inline-list__item\" role=\"presentation\"><a aria-disabled=\"false\" aria-label=\"Twitter\" class=\"ipc-icon-link ipc-icon-link--baseAlt ipc-icon-link--onBase\" href=\"https://twitter.com/imdb\" rel=\"nofollow noopener\" role=\"button\" tabindex=\"0\" target=\"_blank\" title=\"Twitter\"><svg class=\"ipc-icon ipc-icon--twitter\" fill=\"currentColor\" height=\"24\" role=\"presentation\" viewbox=\"0 0 24 24\" width=\"24\" xmlns=\"http://www.w3.org/2000/svg\"><path d=\"M8.29 19.936c7.547 0 11.675-6.13 11.675-11.446 0-.175-.004-.348-.012-.52A8.259 8.259 0 0 0 22 5.886a8.319 8.319 0 0 1-2.356.633 4.052 4.052 0 0 0 1.804-2.225c-.793.46-1.67.796-2.606.976A4.138 4.138 0 0 0 15.847 4c-2.266 0-4.104 1.802-4.104 4.023 0 .315.036.622.107.917a11.728 11.728 0 0 1-8.458-4.203 3.949 3.949 0 0 0-.556 2.022 4 4 0 0 0 1.826 3.348 4.136 4.136 0 0 1-1.858-.503l-.001.051c0 1.949 1.415 3.575 3.292 3.944a4.193 4.193 0 0 1-1.853.07c.522 1.597 2.037 2.76 3.833 2.793a8.34 8.34 0 0 1-5.096 1.722A8.51 8.51 0 0 1 2 18.13a11.785 11.785 0 0 0 6.29 1.807\"></path></svg></a></li>,\n",
       " <li class=\"ipc-inline-list__item\" role=\"presentation\"><a aria-disabled=\"false\" aria-label=\"YouTube\" class=\"ipc-icon-link ipc-icon-link--baseAlt ipc-icon-link--onBase\" href=\"https://youtube.com/imdb/\" rel=\"nofollow noopener\" role=\"button\" tabindex=\"0\" target=\"_blank\" title=\"YouTube\"><svg class=\"ipc-icon ipc-icon--youtube\" fill=\"currentColor\" height=\"24\" role=\"presentation\" viewbox=\"0 0 24 24\" width=\"24\" xmlns=\"http://www.w3.org/2000/svg\"><path d=\"M9.955 14.955v-5.91L15.182 12l-5.227 2.955zm11.627-7.769a2.505 2.505 0 0 0-1.768-1.768C18.254 5 12 5 12 5s-6.254 0-7.814.418c-.86.23-1.538.908-1.768 1.768C2 8.746 2 12 2 12s0 3.254.418 4.814c.23.86.908 1.538 1.768 1.768C5.746 19 12 19 12 19s6.254 0 7.814-.418a2.505 2.505 0 0 0 1.768-1.768C22 15.254 22 12 22 12s0-3.254-.418-4.814z\"></path></svg></a></li>,\n",
       " <li class=\"ipc-inline-list__item zgFV3U-XECrqVQnyDbx2B\" role=\"presentation\"><a class=\"ipc-link ipc-link--baseAlt ipc-link--touch-target ipc-link--inherit-color ipc-link--launch\" href=\"https://slyb.app.link/SKdyQ6A449\" target=\"_blank\">Get the IMDb App<svg class=\"ipc-link__launch-icon\" fill=\"#000000\" height=\"10\" viewbox=\"0 0 10 10\" width=\"10\" xmlns=\"http://www.w3.org/2000/svg\"><g><path d=\"M9,9 L1,9 L1,1 L4,1 L4,0 L-1.42108547e-14,0 L-1.42108547e-14,10 L10,10 L10,6 L9,6 L9,9 Z M6,0 L6,1 L8,1 L2.998122,6.03786058 L3.998122,7.03786058 L9,2 L9,4 L10,4 L10,0 L6,0 Z\"></path></g></svg></a></li>,\n",
       " <li class=\"ipc-inline-list__item X17C45Q1MH_7XboLL_EEG\" role=\"presentation\"><a class=\"ipc-link ipc-link--baseAlt ipc-link--touch-target ipc-link--inherit-color\" href=\"?mode=desktop&amp;ref_=m_ft_dsk\">View Full Site</a></li>,\n",
       " <li class=\"ipc-inline-list__item\" role=\"presentation\"><a class=\"ipc-link ipc-link--baseAlt ipc-link--touch-target ipc-link--inherit-color ipc-link--launch\" href=\"https://help.imdb.com/imdb\" target=\"_blank\">Help<svg class=\"ipc-link__launch-icon\" fill=\"#000000\" height=\"10\" viewbox=\"0 0 10 10\" width=\"10\" xmlns=\"http://www.w3.org/2000/svg\"><g><path d=\"M9,9 L1,9 L1,1 L4,1 L4,0 L-1.42108547e-14,0 L-1.42108547e-14,10 L10,10 L10,6 L9,6 L9,9 Z M6,0 L6,1 L8,1 L2.998122,6.03786058 L3.998122,7.03786058 L9,2 L9,4 L10,4 L10,0 L6,0 Z\"></path></g></svg></a></li>,\n",
       " <li class=\"ipc-inline-list__item\" role=\"presentation\"><a class=\"ipc-link ipc-link--baseAlt ipc-link--touch-target ipc-link--inherit-color ipc-link--launch\" href=\"https://help.imdb.com/article/imdb/general-information/imdb-site-index/GNCX7BHNSPBTFALQ#so\" target=\"_blank\">Site Index<svg class=\"ipc-link__launch-icon\" fill=\"#000000\" height=\"10\" viewbox=\"0 0 10 10\" width=\"10\" xmlns=\"http://www.w3.org/2000/svg\"><g><path d=\"M9,9 L1,9 L1,1 L4,1 L4,0 L-1.42108547e-14,0 L-1.42108547e-14,10 L10,10 L10,6 L9,6 L9,9 Z M6,0 L6,1 L8,1 L2.998122,6.03786058 L3.998122,7.03786058 L9,2 L9,4 L10,4 L10,0 L6,0 Z\"></path></g></svg></a></li>,\n",
       " <li class=\"ipc-inline-list__item\" role=\"presentation\"><a class=\"ipc-link ipc-link--baseAlt ipc-link--touch-target ipc-link--inherit-color ipc-link--launch\" href=\"https://pro.imdb.com?ref_=ft_pro&amp;rf=cons_tf_pro\" target=\"_blank\">IMDbPro<svg class=\"ipc-link__launch-icon\" fill=\"#000000\" height=\"10\" viewbox=\"0 0 10 10\" width=\"10\" xmlns=\"http://www.w3.org/2000/svg\"><g><path d=\"M9,9 L1,9 L1,1 L4,1 L4,0 L-1.42108547e-14,0 L-1.42108547e-14,10 L10,10 L10,6 L9,6 L9,9 Z M6,0 L6,1 L8,1 L2.998122,6.03786058 L3.998122,7.03786058 L9,2 L9,4 L10,4 L10,0 L6,0 Z\"></path></g></svg></a></li>,\n",
       " <li class=\"ipc-inline-list__item\" role=\"presentation\"><a class=\"ipc-link ipc-link--baseAlt ipc-link--touch-target ipc-link--inherit-color ipc-link--launch\" href=\"https://www.boxofficemojo.com\" target=\"_blank\">Box Office Mojo<svg class=\"ipc-link__launch-icon\" fill=\"#000000\" height=\"10\" viewbox=\"0 0 10 10\" width=\"10\" xmlns=\"http://www.w3.org/2000/svg\"><g><path d=\"M9,9 L1,9 L1,1 L4,1 L4,0 L-1.42108547e-14,0 L-1.42108547e-14,10 L10,10 L10,6 L9,6 L9,9 Z M6,0 L6,1 L8,1 L2.998122,6.03786058 L3.998122,7.03786058 L9,2 L9,4 L10,4 L10,0 L6,0 Z\"></path></g></svg></a></li>,\n",
       " <li class=\"ipc-inline-list__item\" role=\"presentation\"><a class=\"ipc-link ipc-link--baseAlt ipc-link--touch-target ipc-link--inherit-color ipc-link--launch\" href=\"https://developer.imdb.com/\" target=\"_blank\">IMDb Developer<svg class=\"ipc-link__launch-icon\" fill=\"#000000\" height=\"10\" viewbox=\"0 0 10 10\" width=\"10\" xmlns=\"http://www.w3.org/2000/svg\"><g><path d=\"M9,9 L1,9 L1,1 L4,1 L4,0 L-1.42108547e-14,0 L-1.42108547e-14,10 L10,10 L10,6 L9,6 L9,9 Z M6,0 L6,1 L8,1 L2.998122,6.03786058 L3.998122,7.03786058 L9,2 L9,4 L10,4 L10,0 L6,0 Z\"></path></g></svg></a></li>,\n",
       " <li class=\"ipc-inline-list__item\" role=\"presentation\"><a class=\"ipc-link ipc-link--baseAlt ipc-link--touch-target ipc-link--inherit-color\" href=\"https://www.imdb.com/pressroom/?ref_=ft_pr\">Press Room</a></li>,\n",
       " <li class=\"ipc-inline-list__item\" role=\"presentation\"><a class=\"ipc-link ipc-link--baseAlt ipc-link--touch-target ipc-link--inherit-color ipc-link--launch\" href=\"https://advertising.amazon.com/resources/ad-specs/imdb/\" target=\"_blank\">Advertising<svg class=\"ipc-link__launch-icon\" fill=\"#000000\" height=\"10\" viewbox=\"0 0 10 10\" width=\"10\" xmlns=\"http://www.w3.org/2000/svg\"><g><path d=\"M9,9 L1,9 L1,1 L4,1 L4,0 L-1.42108547e-14,0 L-1.42108547e-14,10 L10,10 L10,6 L9,6 L9,9 Z M6,0 L6,1 L8,1 L2.998122,6.03786058 L3.998122,7.03786058 L9,2 L9,4 L10,4 L10,0 L6,0 Z\"></path></g></svg></a></li>,\n",
       " <li class=\"ipc-inline-list__item\" role=\"presentation\"><a class=\"ipc-link ipc-link--baseAlt ipc-link--touch-target ipc-link--inherit-color ipc-link--launch\" href=\"https://www.amazon.jobs/en/teams/imdb\" target=\"_blank\">Jobs<svg class=\"ipc-link__launch-icon\" fill=\"#000000\" height=\"10\" viewbox=\"0 0 10 10\" width=\"10\" xmlns=\"http://www.w3.org/2000/svg\"><g><path d=\"M9,9 L1,9 L1,1 L4,1 L4,0 L-1.42108547e-14,0 L-1.42108547e-14,10 L10,10 L10,6 L9,6 L9,9 Z M6,0 L6,1 L8,1 L2.998122,6.03786058 L3.998122,7.03786058 L9,2 L9,4 L10,4 L10,0 L6,0 Z\"></path></g></svg></a></li>,\n",
       " <li class=\"ipc-inline-list__item\" role=\"presentation\"><a class=\"ipc-link ipc-link--baseAlt ipc-link--touch-target ipc-link--inherit-color\" href=\"/conditions?ref_=ft_cou\">Conditions of Use</a></li>,\n",
       " <li class=\"ipc-inline-list__item\" role=\"presentation\"><a class=\"ipc-link ipc-link--baseAlt ipc-link--touch-target ipc-link--inherit-color\" href=\"/privacy?ref_=ft_pvc\">Privacy Policy</a></li>,\n",
       " <li class=\"ipc-inline-list__item\" role=\"presentation\"><a class=\"ipc-link ipc-link--baseAlt ipc-link--touch-target ipc-link--inherit-color ipc-link--launch\" href=\"https://www.amazon.com/b/?&amp;node=5160028011\" target=\"_blank\">Interest-Based Ads<svg class=\"ipc-link__launch-icon\" fill=\"#000000\" height=\"10\" viewbox=\"0 0 10 10\" width=\"10\" xmlns=\"http://www.w3.org/2000/svg\"><g><path d=\"M9,9 L1,9 L1,1 L4,1 L4,0 L-1.42108547e-14,0 L-1.42108547e-14,10 L10,10 L10,6 L9,6 L9,9 Z M6,0 L6,1 L8,1 L2.998122,6.03786058 L3.998122,7.03786058 L9,2 L9,4 L10,4 L10,0 L6,0 Z\"></path></g></svg></a></li>,\n",
       " <li class=\"ipc-inline-list__item\" role=\"presentation\"><div class=\"_2mulh8fx3PjJyxvyLovP4w\" id=\"teconsent\"></div></li>]"
      ]
     },
     "metadata": {},
     "execution_count": 10
    }
   ],
   "source": [
    "cont.find_all(class_=\"ipc-inline-list__item\")"
   ]
  },
  {
   "cell_type": "code",
   "execution_count": 3,
   "metadata": {},
   "outputs": [
    {
     "output_type": "execute_result",
     "data": {
      "text/plain": [
       "ht=\"10\" viewBox=\"0 0 10 10\" xmlns=\"http://www.w3.org/2000/svg\" fill=\"#000000\"><g><path d=\"M9,9 L1,9 L1,1 L4,1 L4,0 L-1.42108547e-14,0 L-1.42108547e-14,10 L10,10 L10,6 L9,6 L9,9 Z M6,0 L6,1 L8,1 L2.998122,6.03786058 L3.998122,7.03786058 L9,2 L9,4 L10,4 L10,0 L6,0 Z\"></path></g></svg></a></li><li role=\"presentation\" class=\"ipc-inline-list__item\"><a href=\"https://www.amazon.jobs/en/teams/imdb\" target=\"_blank\" class=\"ipc-link ipc-link--baseAlt ipc-link--touch-target ipc-link--inherit-color ipc-link--launch\">Jobs<svg class=\"ipc-link__launch-icon\" width=\"10\" height=\"10\" viewBox=\"0 0 10 10\" xmlns=\"http://www.w3.org/2000/svg\" fill=\"#000000\"><g><path d=\"M9,9 L1,9 L1,1 L4,1 L4,0 L-1.42108547e-14,0 L-1.42108547e-14,10 L10,10 L10,6 L9,6 L9,9 Z M6,0 L6,1 L8,1 L2.998122,6.03786058 L3.998122,7.03786058 L9,2 L9,4 L10,4 L10,0 L6,0 Z\"></path></g></svg></a></li><li role=\"presentation\" class=\"ipc-inline-list__item\"><a href=\"/conditions?ref_=ft_cou\" class=\"ipc-link ipc-link--baseAlt ipc-link--touch-target ipc-link--inherit-color\">Conditions of Use</a></li><li role=\"presentation\" class=\"ipc-inline-list__item\"><a href=\"/privacy?ref_=ft_pvc\" class=\"ipc-link ipc-link--baseAlt ipc-link--touch-target ipc-link--inherit-color\">Privacy Policy</a></li><li role=\"presentation\" class=\"ipc-inline-list__item\"><a href=\"https://www.amazon.com/b/?&amp;node=5160028011\" target=\"_blank\" class=\"ipc-link ipc-link--baseAlt ipc-link--touch-target ipc-link--inherit-color ipc-link--launch\">Interest-Based Ads<svg class=\"ipc-link__launch-icon\" width=\"10\" height=\"10\" viewBox=\"0 0 10 10\" xmlns=\"http://www.w3.org/2000/svg\" fill=\"#000000\"><g><path d=\"M9,9 L1,9 L1,1 L4,1 L4,0 L-1.42108547e-14,0 L-1.42108547e-14,10 L10,10 L10,6 L9,6 L9,9 Z M6,0 L6,1 L8,1 L2.998122,6.03786058 L3.998122,7.03786058 L9,2 L9,4 L10,4 L10,0 L6,0 Z\"></path></g></svg></a></li><li role=\"presentation\" class=\"ipc-inline-list__item\"><div id=\"teconsent\" class=\"_2mulh8fx3PjJyxvyLovP4w\"></div></li></ul></div></div><div class=\"imdb-footer__logo _1eKbSAFyeJgUyBUy2VbcS_\"><svg aria-label=\"IMDb, an Amazon company\" title=\"IMDb, an Amazon company\" width=\"160\" height=\"18\" xmlns=\"http://www.w3.org/2000/svg\" xmlns:xlink=\"http://www.w3.org/1999/xlink\"><defs><path d=\"M26.707 2.45c-3.227 2.374-7.906 3.637-11.935 3.637C9.125 6.087 4.04 4.006.193.542-.11.27.161-.101.523.109 4.675 2.517 9.81 3.968 15.111 3.968c3.577 0 7.51-.74 11.127-2.27.546-.23 1.003.358.47.752z\" id=\"ftr__a\"/><path d=\"M4.113 1.677C3.7 1.15 1.385 1.427.344 1.552c-.315.037-.364-.237-.08-.436C2.112-.178 5.138.196 5.49.629c.354.437-.093 3.462-1.824 4.906-.266.222-.52.104-.401-.19.39-.97 1.261-3.14.848-3.668z\" id=\"ftr__c\"/><path d=\"M.435 1.805V.548A.311.311 0 0 1 .755.23l5.65-.001c.181 0 .326.13.326.317v1.078c-.002.181-.154.417-.425.791L3.378 6.582c1.087-.026 2.236.137 3.224.69.222.125.282.309.3.49v1.342c0 .185-.203.398-.417.287-1.74-.908-4.047-1.008-5.97.011-.197.104-.403-.107-.403-.292V7.835c0-.204.004-.552.21-.863l3.392-4.85H.761a.314.314 0 0 1-.326-.317z\" id=\"ftr__e\"/><path d=\"M2.247 9.655H.528a.323.323 0 0 1-.307-.29L.222.569C.222.393.37.253.554.253h1.601a.323.323 0 0 1 .313.295v1.148h.031C2.917.586 3.703.067 4.762.067c1.075 0 1.75.518 2.23 1.629C7.41.586 8.358.067 9.369.067c.722 0 1.508.296 1.99.963.545.74.433 1.813.433 2.757l-.002 5.551a.324.324 0 0 1-.331.317H9.74a.321.321 0 0 1-.308-.316l-.001-4.663c0-.37.032-1.296-.048-1.647-.128-.593-.514-.76-1.011-.76-.418 0-.85.278-1.027.722-.177.445-.161 1.185-.161 1.685v4.662a.323.323 0 0 1-.331.317H5.137a.322.322 0 0 1-.31-.316l-.001-4.663c0-.981.16-2.424-1.059-2.424-1.236 0-1.188 1.406-1.188 2.424v4.662a.324.324 0 0 1-.332.317z\" id=\"ftr__g\"/><path d=\"M4.037.067c2.551 0 3.931 2.184 3.931 4.96 0 2.684-1.524 4.814-3.931 4.814C1.533 9.84.169 7.656.169 4.935.17 2.195 1.55.067 4.037.067zm.015 1.796c-1.267 0-1.347 1.721-1.347 2.795 0 1.073-.016 3.368 1.332 3.368 1.332 0 1.395-1.851 1.395-2.98 0-.74-.031-1.629-.256-2.332-.193-.61-.578-.851-1.124-.851z\" id=\"ftr__i\"/><path d=\"M2.206 9.655H.493a.321.321 0 0 1-.308-.316L.182.54a.325.325 0 0 1 .33-.287h1.595c.15.007.274.109.305.245v1.346h.033C2.926.641 3.6.067 4.788.067c.77 0 1.524.277 2.006 1.037.449.703.449 1.887.449 2.739v5.535a.325.325 0 0 1-.33.277H5.19a.324.324 0 0 1-.306-.277V4.602c0-.962.113-2.37-1.075-2.37-.418 0-.803.278-.995.704-.24.537-.273 1.074-.273 1.666v4.736a.328.328 0 0 1-.335.317z\" id=\"ftr__k\"/><path d=\"M8.314 8.295c.11.156.134.341-.006.455-.35.294-.974.834-1.318 1.139l-.004-.004a.357.357 0 0 1-.406.04c-.571-.473-.673-.692-.986-1.142-.943.958-1.611 1.246-2.834 1.246-1.447 0-2.573-.89-2.573-2.672 0-1.39.756-2.337 1.833-2.8.933-.409 2.235-.483 3.233-.595V3.74c0-.409.032-.89-.209-1.243-.21-.315-.611-.445-.965-.445-.656 0-1.238.335-1.382 1.029-.03.154-.143.307-.298.315l-1.667-.18c-.14-.032-.297-.144-.256-.358C.859.842 2.684.234 4.32.234c.837 0 1.93.222 2.59.853.836.78.755 1.818.755 2.95v2.67c0 .804.335 1.155.65 1.588zM5.253 5.706v-.37c-1.244 0-2.557.265-2.557 1.724 0 .742.386 1.244 1.045 1.244.483 0 .917-.297 1.19-.78.338-.593.322-1.15.322-1.818z\" id=\"ftr__m\"/><path d=\"M8.203 8.295c.11.156.135.341-.005.455-.352.294-.976.834-1.319 1.139l-.004-.004a.356.356 0 0 1-.406.04c-.571-.473-.673-.692-.985-1.142-.944.958-1.613 1.246-2.835 1.246-1.447 0-2.573-.89-2.573-2.672 0-1.39.756-2.337 1.833-2.8.933-.409 2.236-.483 3.233-.595V3.74c0-.409.032-.89-.21-1.243-.208-.315-.61-.445-.964-.445-.656 0-1.239.335-1.382 1.029-.03.154-.142.307-.298.315l-1.666-.18C.48 3.184.324 3.072.365 2.858.748.842 2.573.234 4.209.234c.836 0 1.93.222 2.59.853.835.78.755 1.818.755 2.95v2.67c0 .804.335 1.155.649 1.588zM5.142 5.706v-.37c-1.243 0-2.557.265-2.557 1.724 0 .742.386 1.244 1.045 1.244.482 0 .917-.297 1.19-.78.338-.593.322-1.15.322-1.818z\" id=\"ftr__o\"/><path d=\"M2.935 10.148c-.88 0-1.583-.25-2.11-.75-.527-.501-.79-1.171-.79-2.011 0-.902.322-1.622.967-2.159.644-.538 1.511-.806 2.602-.806.694 0 1.475.104 2.342.315V3.513c0-.667-.151-1.136-.455-1.408-.304-.271-.821-.407-1.553-.407-.855 0-1.691.123-2.509.37-.285.087-.464.13-.539.13-.148 0-.223-.111-.223-.334v-.5c0-.16.025-.278.075-.352C.79.938.89.87 1.039.808c.383-.173.87-.312 1.459-.417A9.997 9.997 0 0 1 4.255.234c1.177 0 2.045.244 2.602.731.557.489.836 1.233.836 2.233v6.338c0 .247-.124.37-.372.37h-.798c-.236 0-.373-.117-.41-.351l-.093-.612c-.445.383-.939.68-1.477.89-.54.21-1.076.315-1.608.315zm.446-1.39c.41 0 .836-.08 1.282-.241.447-.16.874-.395 1.283-.704v-1.89a8.408 8.408 0 0 0-1.97-.241c-1.401 0-2.1.537-2.1 1.612 0 .47.13.831.39 1.084.26.254.632.38 1.115.38z\" id=\"ftr__q\"/><path d=\"M.467 9.907c-.248 0-.372-.124-.372-.37V.883C.095.635.219.51.467.51h.817c.125 0 .22.026.288.075.068.05.115.142.14.277l.111.686C3 .672 4.24.234 5.541.234c.904 0 1.592.238 2.063.713.471.476.707 1.165.707 2.066v6.524c0 .246-.124.37-.372.37H6.842c-.248 0-.372-.124-.372-.37V3.625c0-.655-.133-1.137-.4-1.445-.266-.31-.684-.464-1.254-.464-.979 0-1.94.315-2.881.946v6.875c0 .246-.125.37-.372.37H.467z\" id=\"ftr__s\"/><path d=\"M4.641 9.859c-1.462 0-2.58-.417-3.355-1.251C.51 7.774.124 6.566.124 4.985c0-1.569.4-2.783 1.2-3.641C2.121.486 3.252.055 4.714.055c.67 0 1.326.118 1.971.353.136.05.232.111.288.185.056.074.083.198.083.37v.501c0 .248-.08.37-.241.37-.062 0-.162-.018-.297-.055a5.488 5.488 0 0 0-1.544-.222c-1.04 0-1.79.262-2.248.787-.459.526-.688 1.362-.688 2.511v.241c0 1.124.232 1.949.697 2.474.465.525 1.198.788 2.203.788a5.98 5.98 0 0 0 1.672-.26c.136-.037.23-.056.279-.056.161 0 .242.124.242.371v.5c0 .162-.025.279-.075.353-.05.074-.148.142-.297.204-.608.259-1.314.389-2.119.389z\" id=\"ftr__u\"/><path d=\"M4.598 10.185c-1.413 0-2.516-.438-3.31-1.316C.497 7.992.1 6.769.1 5.199c0-1.555.397-2.773 1.19-3.65C2.082.673 3.185.235 4.598.235c1.412 0 2.515.438 3.308 1.316.793.876 1.19 2.094 1.19 3.65 0 1.569-.397 2.792-1.19 3.669-.793.878-1.896 1.316-3.308 1.316zm0-1.483c1.747 0 2.62-1.167 2.62-3.502 0-2.323-.873-3.484-2.62-3.484S1.977 2.877 1.977 5.2c0 2.335.874 3.502 2.62 3.502z\" id=\"ftr__w\"/><path d=\"M.396 9.907c-.248 0-.371-.124-.371-.37V.883C.025.635.148.51.396.51h.818a.49.49 0 0 1 .288.075c.068.05.115.142.14.277l.111.594C2.943.64 4.102.234 5.23.234c1.152 0 1.934.438 2.342 1.315C8.798.672 10.025.234 11.25.234c.856 0 1.512.24 1.971.722.458.482.688 1.168.688 2.057v6.524c0 .246-.124.37-.372.37h-1.097c-.248 0-.371-.124-.371-.37V3.533c0-.618-.119-1.075-.354-1.372-.235-.297-.607-.445-1.115-.445-.904 0-1.815.278-2.732.834.012.087.018.18.018.278v6.709c0 .246-.124.37-.372.37H6.42c-.249 0-.372-.124-.372-.37V3.533c0-.618-.118-1.075-.353-1.372-.235-.297-.608-.445-1.115-.445-.942 0-1.847.272-2.714.815v7.006c0 .246-.125.37-.372.37H.396z\" id=\"ftr__y\"/><path d=\"M.617 13.724c-.248 0-.371-.124-.371-.37V.882c0-.247.123-.37.371-.37h.818c.248 0 .39.123.428.37l.093.594C2.897.648 3.944.234 5.096.234c1.203 0 2.15.435 2.845 1.307.693.87 1.04 2.053 1.04 3.548 0 1.52-.365 2.736-1.096 3.65-.731.915-1.704 1.372-2.918 1.372-1.116 0-2.076-.365-2.881-1.094v4.337c0 .246-.125.37-.372.37H.617zM4.54 8.628c1.71 0 2.566-1.149 2.566-3.447 0-1.173-.208-2.044-.624-2.612-.415-.569-1.05-.853-1.904-.853-.88 0-1.711.284-2.491.853v5.17c.805.593 1.623.889 2.453.889z\" id=\"ftr__A\"/><path d=\"M2.971 10.148c-.88 0-1.583-.25-2.11-.75-.526-.501-.79-1.171-.79-2.011 0-.902.322-1.622.967-2.159.644-.538 1.512-.806 2.602-.806.694 0 1.475.104 2.342.315V3.513c0-.667-.15-1.136-.455-1.408-.304-.271-.821-.407-1.552-.407-.855 0-1.692.123-2.509.37-.285.087-.465.13-.54.13-.148 0-.223-.111-.223-.334v-.5c0-.16.025-.278.075-.352.05-.074.148-.142.297-.204.384-.173.87-.312 1.46-.417A9.991 9.991 0 0 1 4.29.234c1.177 0 2.045.244 2.603.731.557.489.836 1.233.836 2.233v6.338c0 .247-.125.37-.372.37h-.799c-.236 0-.372-.117-.41-.351l-.092-.612a5.09 5.09 0 0 1-1.478.89 4.4 4.4 0 0 1-1.608.315zm.446-1.39c.41 0 .836-.08 1.283-.241.446-.16.874-.395 1.282-.704v-1.89a8.403 8.403 0 0 0-1.97-.241c-1.4 0-2.1.537-2.1 1.612 0 .47.13.831.39 1.084.26.254.632.38 1.115.38z\" id=\"ftr__C\"/><path d=\"M.503 9.907c-.248 0-.371-.124-.371-.37V.883C.132.635.255.51.503.51h.818a.49.49 0 0 1 .288.075c.068.05.115.142.14.277l.111.686C3.037.672 4.277.234 5.578.234c.904 0 1.592.238 2.063.713.47.476.706 1.165.706 2.066v6.524c0 .246-.123.37-.371.37H6.879c-.248 0-.372-.124-.372-.37V3.625c0-.655-.133-1.137-.4-1.445-.266-.31-.684-.464-1.254-.464-.98 0-1.94.315-2.882.946v6.875c0 .246-.124.37-.371.37H.503z\" id=\"ftr__E\"/><path d=\"M1.988 13.443c-.397 0-.75-.043-1.059-.13-.15-.037-.251-.1-.307-.185a.684.684 0 0 1-.084-.37v-.483c0-.234.093-.352.28-.352.06 0 .154.013.278.037.124.025.291.037.502.037.459 0 .82-.114 1.087-.343.266-.228.505-.633.716-1.213l.353-.945L.167.675C.08.465.037.316.037.23c0-.149.086-.222.26-.222h1.115c.198 0 .334.03.409.093.075.062.148.197.223.407l2.602 7.19 2.51-7.19c.074-.21.148-.345.222-.407.075-.062.211-.093.41-.093h1.04c.174 0 .261.073.261.222 0 .086-.044.235-.13.445l-4.09 10.377c-.334.853-.725 1.464-1.17 1.835-.446.37-1.017.556-1.711.556z\" id=\"ftr__G\"/></defs><g fill=\"none\" fill-rule=\"evenodd\"><g transform=\"translate(31.496 11.553)\"><mask id=\"ftr__b\" fill=\"currentColor\"><use xlink:href=\"#ftr__a\"/></mask><path fill=\"currentColor\" mask=\"url(#ftr__b)\" d=\"M.04 6.088h26.91V.04H.04z\"/></g><g transform=\"translate(55.433 10.797)\"><mask id=\"ftr__d\" fill=\"currentColor\"><use xlink:href=\"#ftr__c\"/></mask><path fill=\"currentColor\" mask=\"url(#ftr__d)\" d=\"M.05 5.664h5.564V.222H.05z\"/></g><g transform=\"translate(55.433 .97)\"><mask id=\"ftr__f\" fill=\"currentColor\"><use xlink:href=\"#ftr__e\"/></mask><path fill=\"currentColor\" mask=\"url(#ftr__f)\" d=\"M.11 9.444h6.804V.222H.111z\"/></g><g transform=\"translate(33.008 .97)\"><mask id=\"ftr__h\" fill=\"currentColor\"><use xlink:href=\"#ftr__g\"/></mask><path fill=\"currentColor\" mask=\"url(#ftr__h)\" d=\"M.191 9.655h11.611V.04H.192z\"/></g><g transform=\"translate(62.992 .97)\"><mask id=\"ftr__j\" fill=\"currentColor\"><use xlink:href=\"#ftr__i\"/></mask><path fill=\"currentColor\" mask=\"url(#ftr__j)\" d=\"M.141 9.867h7.831V.04H.142z\"/></g><g transform=\"translate(72.063 .97)\"><mask id=\"ftr__l\" fill=\"currentColor\"><use xlink:href=\"#ftr__k\"/></mask><path fill=\"currentColor\" mask=\"url(#ftr__l)\" d=\"M.171 9.655h7.076V.04H.17z\"/></g><g transform=\"translate(46.11 .718)\"><mask id=\"ftr__n\" fill=\"currentColor\"><use xlink:href=\"#ftr__m\"/></mask><path fill=\"currentColor\" mask=\"url(#ftr__n)\" d=\"M.181 10.059h8.225V.232H.18z\"/></g><g transform=\"translate(23.685 .718)\"><mask id=\"ftr__p\" fill=\"currentColor\"><use xlink:href=\"#ftr__o\"/></mask><path fill=\"currentColor\" mask=\"url(#ftr__p)\" d=\"M.05 10.059h8.255V.232H.05z\"/></g><g transform=\"translate(0 .718)\"><mask id=\"ftr__r\" fill=\"currentColor\"><use xlink:href=\"#ftr__q\"/></mask><path fill=\"currentColor\" mask=\"url(#ftr__r)\" d=\"M.03 10.15h7.68V.231H.03z\"/></g><g transform=\"translate(10.33 .718)\"><mask id=\"ftr__t\" fill=\"currentColor\"><use xlink:href=\"#ftr__s\"/></mask><path fill=\"currentColor\" mask=\"url(#ftr__t)\" d=\"M.07 9.907h8.255V.232H.071z\"/></g><g transform=\"translate(84.157 .97)\"><mask id=\"ftr__v\" fill=\"currentColor\"><use xlink:href=\"#ftr__u\"/></mask><path fill=\"currentColor\" mask=\"url(#ftr__v)\" d=\"M.11 9.867h7.046V.04H.11z\"/></g><g transform=\"translate(92.472 .718)\"><mask id=\"ftr__x\" fill=\"currentColor\"><use xlink:href=\"#ftr__w\"/></mask><path fill=\"currentColor\" mask=\"url(#ftr__x)\" d=\"M.08 10.21h9.041V.232H.081z\"/></g><g transform=\"translate(103.811 .718)\"><mask id=\"ftr__z\" fill=\"currentColor\"><use xlink:href=\"#ftr__y\"/></mask><path fill=\"currentColor\" mask=\"url(#ftr__z)\" d=\"M.02 9.907H13.93V.232H.02z\"/></g><g transform=\"translate(120.189 .718)\"><mask id=\"ftr__B\" fill=\"currentColor\"><use xlink:href=\"#ftr__A\"/></mask><path fill=\"currentColor\" mask=\"url(#ftr__B)\" d=\"M.242 13.747H9.01V.232H.242z\"/></g><g transform=\"translate(130.772 .718)\"><mask id=\"ftr__D\" fill=\"currentColor\"><use xlink:href=\"#ftr__C\"/></mask><path fill=\"currentColor\" mask=\"url(#ftr__D)\" d=\"M.06 10.15h7.68V.231H.06z\"/></g><g transform=\"translate(141.102 .718)\"><mask id=\"ftr__F\" fill=\"currentColor\"><use xlink:href=\"#ftr__E\"/></mask><path fill=\"currentColor\" mask=\"url(#ftr__F)\" d=\"M.131 9.907h8.224V.232H.131z\"/></g><g transform=\"translate(150.677 1.222)\"><mask id=\"ftr__H\" fill=\"currentColor\"><use xlink:href=\"#ftr__G\"/></mask><path fill=\"currentColor\" mask=\"url(#ftr__H)\" d=\"M.02 13.455h9.071V0H.021z\"/></g></g></svg></div><p class=\"imdb-footer__copyright _2-iNNCFskmr4l2OFN2DRsf\">\\xc2\\xa9 1990-<!-- -->2021<!-- --> by IMDb.com, Inc.</p></div></footer><svg style=\"width:0;height:0;overflow:hidden;display:block\" xmlns=\"http://www.w3.org/2000/svg\" version=\"1.1\"><defs><linearGradient id=\"ipc-svg-gradient-tv-logo-t\" x1=\"31.973%\" y1=\"53.409%\" x2=\"153.413%\" y2=\"-16.853%\"><stop stop-color=\"#D01F49\" offset=\"21.89%\"></stop><stop stop-color=\"#E8138B\" offset=\"83.44%\"></stop></linearGradient><linearGradient id=\"ipc-svg-gradient-tv-logo-v\" x1=\"-38.521%\" y1=\"84.997%\" x2=\"104.155%\" y2=\"14.735%\"><stop stop-color=\"#D01F49\" offset=\"21.89%\"></stop><stop stop-color=\"#E8138B\" offset=\"83.44%\"></stop></linearGradient></defs></svg>\\n    </div>\\n<script type=\"text/javascript\">\\n    if (!window.RadWidget) {\\n        window.RadWidget = {\\n            registerReactWidgetInstance: function(input) {\\n                window.RadWidget[input.widgetName] = window.RadWidget[input.widgetName] || [];\\n                window.RadWidget[input.widgetName].push({\\n                    id: input.instanceId,\\n                    props: JSON.stringify(input.model)\\n                })\\n            },\\n            getReactWidgetInstances: function(widgetName) {\\n                return window.RadWidget[widgetName] || []\\n            }\\n        };\\n    }\\n</script>    <script type=\"text/javascript\">\\n        window[\\'RadWidget\\'].registerReactWidgetInstance({\\n            widgetName: \"IMDbConsumerSiteFooterFeatureV1\",\\n            instanceId: \"e7f86fcd-b64b-4ed3-9c61-17af957975d9\",\\n            model: {\"ResponsiveFooterModel\":{\"showIMDbTVLink\":false,\"desktopLink\":\"?mode=desktop&ref_=m_ft_dsk\",\"showDesktopLink\":true}}\\n        });\\n    </script>\\n<script>\\n    if (typeof uet == \\'function\\') {\\n      uet(\"be\", \"desktopFooter\", {wb: 1});\\n    }\\n</script>\\n<script>\\n    if (typeof uex == \\'function\\') {\\n      uex(\"ld\", \"desktopFooter\", {wb: 1});\\n    }\\n</script>\\n\\n<script>\\n    if (typeof uet == \\'function\\') {\\n      uet(\"bb\", \"LoadHeaderJS\", {wb: 1});\\n    }\\n</script>\\n\\n\\n\\n<script type=\"text/javascript\" src=\"https://m.media-amazon.com/images/S/sash/EbJ50esdfIcjt2R.js\"></script>\\n<script type=\"text/javascript\" src=\"https://m.media-amazon.com/images/S/sash/rGTSJRR5lL7o$0g.js\"></script>\\n<script type=\"text/javascript\" src=\"https://m.media-amazon.com/images/S/sash/xhHuETOU5JsKksm.js\"></script>\\n\\n\\n\\n<script type=\"text/javascript\">window.webpackManifest_IMDbConsumerSiteFooterFeature={}</script><script type=\"text/javascript\">window.webpackManifest_IMDbConsumerSiteNavFeature={}</script><script crossorigin=\"anonymous\" type=\"text/javascript\" src=\"https://m.media-amazon.com/images/I/81eNomhRmGL.js\"></script><script crossorigin=\"anonymous\" type=\"text/javascript\" src=\"https://m.media-amazon.com/images/I/61SeeyqsNHL.js\"></script><script crossorigin=\"anonymous\" type=\"text/javascript\" src=\"https://m.media-amazon.com/images/I/31ROAIgElzL.js\"></script><script crossorigin=\"anonymous\" type=\"text/javascript\" src=\"https://m.media-amazon.com/images/I/01lfk7y+8rL.js\"></script><script crossorigin=\"anonymous\" type=\"text/javascript\" src=\"https://m.media-amazon.com/images/I/61Ka2ezTX9L.js\"></script><script crossorigin=\"anonymous\" type=\"text/javascript\" src=\"https://m.media-amazon.com/images/I/019vMGkrlkL.js\"></script><script crossorigin=\"anonymous\" type=\"text/javascript\" src=\"https://m.media-amazon.com/images/I/31VYLn8dVDL.js\"></script><script crossorigin=\"anonymous\" type=\"text/javascript\" src=\"https://m.media-amazon.com/images/I/01qhBQyMr+L.js\"></script><script crossorigin=\"anonymous\" type=\"text/javascript\" src=\"https://m.media-amazon.com/images/I/21QhnrxvhtL.js\"></script><script crossorigin=\"anonymous\" type=\"text/javascript\" src=\"https://m.media-amazon.com/images/I/01EjywnajPL.js\"></script><script crossorigin=\"anonymous\" type=\"text/javascript\" src=\"https://m.media-amazon.com/images/I/01eEXY1YetL.js\"></script><script crossorigin=\"anonymous\" type=\"text/javascript\" src=\"https://m.media-amazon.com/images/I/21a9eB+eAFL.js\"></script><script crossorigin=\"anonymous\" type=\"text/javascript\" src=\"https://m.media-amazon.com/images/I/41utkxPA-bL.js\"></script><script crossorigin=\"anonymous\" type=\"text/javascript\" src=\"https://m.media-amazon.com/images/I/81SPm2xfKSL.js\"></script><script crossorigin=\"anonymous\" type=\"text/javascript\" src=\"https://m.media-amazon.com/images/I/61vDTVmJCNL.js\"></script><script crossorigin=\"anonymous\" type=\"text/javascript\" src=\"https://m.media-amazon.com/images/I/31827uXCh4L.js\"></script><script crossorigin=\"anonymous\" type=\"text/javascript\" src=\"https://m.media-amazon.com/images/I/31P6K1kIR-L.js\"></script><script crossorigin=\"anonymous\" type=\"text/javascript\" src=\"https://m.media-amazon.com/images/I/41Dm6cYzV6L.js\"></script><script crossorigin=\"anonymous\" type=\"text/javascript\" src=\"https://m.media-amazon.com/images/I/51GDom0+d0L.js\"></script><script crossorigin=\"anonymous\" type=\"text/javascript\" src=\"https://m.media-amazon.com/images/I/01ZyMmZoX7L.js\"></script><script crossorigin=\"anonymous\" type=\"text/javascript\" src=\"https://m.media-amazon.com/images/I/11UNuUz7BzL.js\"></script><script crossorigin=\"anonymous\" type=\"text/javascript\" src=\"https://m.media-amazon.com/images/I/21n5fdlWBhL.js\"></script><script crossorigin=\"anonymous\" type=\"text/javascript\" src=\"https://m.media-amazon.com/images/I/01X4+ME2ObL.js\"></script><script crossorigin=\"anonymous\" type=\"text/javascript\" src=\"https://m.media-amazon.com/images/I/615xUI92P9L.js\"></script>\\n\\n\\n<script>\\n    if (typeof uet == \\'function\\') {\\n      uet(\"be\", \"LoadFooterJS\", {wb: 1});\\n    }\\n</script>\\n<script>\\n    if (typeof uex == \\'function\\') {\\n      uex(\"ld\", \"LoadFooterJS\", {wb: 1});\\n    }\\n</script>\\n        \\n        <div id=\"servertime\" time=\"380\"/>\\n\\n\\n\\n<script>\\n    if (typeof uet == \\'function\\') {\\n      uet(\"be\");\\n    }\\n</script>\\n        \\n    </body>\\n</html>\\n\\n'"
      ]
     },
     "metadata": {},
     "execution_count": 3
    }
   ],
   "source": [
    "page.content"
   ]
  },
  {
   "cell_type": "code",
   "execution_count": 2,
   "metadata": {},
   "outputs": [],
   "source": [
    "URL = 'https://www.imdb.com/title/tt0468569/'\n",
    "\n",
    "soup = get_soup(URL)"
   ]
  },
  {
   "cell_type": "code",
   "execution_count": 7,
   "metadata": {},
   "outputs": [
    {
     "output_type": "execute_result",
     "data": {
      "text/plain": [
       "'The Dark Knight (original title)'"
      ]
     },
     "metadata": {},
     "execution_count": 7
    }
   ],
   "source": [
    "from bs4 import BeautifulSoup\n",
    "from typing import List\n",
    "\n",
    "def extract_original_title(container: BeautifulSoup) -> str:\n",
    "    title_raw = container.find(class_='originalTitle')\n",
    "    return title_raw.text\n",
    "\n",
    "def extract_total_rating(container: BeautifulSoup) -> str:\n",
    "    rating_raw = container.find(class_='ratingValue')\n",
    "    return rating_raw.strong['title']\n",
    "\n",
    "def parse_technical_details(raw_s: str) -> List[str]:\n",
    "    pass\n",
    "\n",
    "def extract_technical_details(container: BeautifulSoup) -> str:\n",
    "    details_raw = container.find(class_='subtext')\n",
    "    return details_raw.text\n",
    "\n",
    "def parse_genres_and_keywords(raw_s: str) -> List[str]:\n",
    "    pass\n",
    "\n",
    "def extract_genres(container: BeautifulSoup) -> str:\n",
    "    pass\n",
    "\n",
    "extract_original_title(soup)"
   ]
  },
  {
   "cell_type": "code",
   "execution_count": 18,
   "metadata": {},
   "outputs": [],
   "source": [
    "s = extract_total_rating(soup)"
   ]
  },
  {
   "cell_type": "code",
   "execution_count": 31,
   "metadata": {},
   "outputs": [],
   "source": [
    "s = soup.find(id='titleDetails')"
   ]
  },
  {
   "cell_type": "code",
   "execution_count": 66,
   "metadata": {},
   "outputs": [],
   "source": [
    "genres = soup.findAll(class_='see-more inline canwrap')"
   ]
  },
  {
   "cell_type": "code",
   "execution_count": 69,
   "metadata": {},
   "outputs": [
    {
     "output_type": "execute_result",
     "data": {
      "text/plain": [
       "['\\nPlot Keywords:\\n dc comics\\n|\\n joker\\n|\\n psychopath\\n|\\n clown\\n|\\n criminal mastermind\\n|\\xa0See All (787)\\xa0»\\n',\n",
       " '\\nGenres:\\n Action\\xa0|\\n Crime\\xa0|\\n Drama\\xa0|\\n Thriller\\n']"
      ]
     },
     "metadata": {},
     "execution_count": 69
    }
   ],
   "source": [
    "[g.text for g in genres]"
   ]
  },
  {
   "cell_type": "code",
   "execution_count": 33,
   "metadata": {},
   "outputs": [
    {
     "output_type": "error",
     "ename": "AttributeError",
     "evalue": "'NavigableString' object has no attribute 'text'",
     "traceback": [
      "\u001b[1;31m---------------------------------------------------------------------------\u001b[0m",
      "\u001b[1;31mAttributeError\u001b[0m                            Traceback (most recent call last)",
      "\u001b[1;32m<ipython-input-33-2485cc992506>\u001b[0m in \u001b[0;36m<module>\u001b[1;34m\u001b[0m\n\u001b[1;32m----> 1\u001b[1;33m \u001b[1;33m[\u001b[0m\u001b[0mel\u001b[0m\u001b[1;33m.\u001b[0m\u001b[0mtext\u001b[0m \u001b[1;32mfor\u001b[0m \u001b[0mel\u001b[0m \u001b[1;32min\u001b[0m \u001b[0ms\u001b[0m\u001b[1;33m]\u001b[0m\u001b[1;33m\u001b[0m\u001b[1;33m\u001b[0m\u001b[0m\n\u001b[0m",
      "\u001b[1;32m<ipython-input-33-2485cc992506>\u001b[0m in \u001b[0;36m<listcomp>\u001b[1;34m(.0)\u001b[0m\n\u001b[1;32m----> 1\u001b[1;33m \u001b[1;33m[\u001b[0m\u001b[0mel\u001b[0m\u001b[1;33m.\u001b[0m\u001b[0mtext\u001b[0m \u001b[1;32mfor\u001b[0m \u001b[0mel\u001b[0m \u001b[1;32min\u001b[0m \u001b[0ms\u001b[0m\u001b[1;33m]\u001b[0m\u001b[1;33m\u001b[0m\u001b[1;33m\u001b[0m\u001b[0m\n\u001b[0m",
      "\u001b[1;32m~\\miniconda3\\lib\\site-packages\\bs4\\element.py\u001b[0m in \u001b[0;36m__getattr__\u001b[1;34m(self, attr)\u001b[0m\n\u001b[0;32m    919\u001b[0m             \u001b[1;32mreturn\u001b[0m \u001b[0mself\u001b[0m\u001b[1;33m\u001b[0m\u001b[1;33m\u001b[0m\u001b[0m\n\u001b[0;32m    920\u001b[0m         \u001b[1;32melse\u001b[0m\u001b[1;33m:\u001b[0m\u001b[1;33m\u001b[0m\u001b[1;33m\u001b[0m\u001b[0m\n\u001b[1;32m--> 921\u001b[1;33m             raise AttributeError(\n\u001b[0m\u001b[0;32m    922\u001b[0m                 \"'%s' object has no attribute '%s'\" % (\n\u001b[0;32m    923\u001b[0m                     self.__class__.__name__, attr))\n",
      "\u001b[1;31mAttributeError\u001b[0m: 'NavigableString' object has no attribute 'text'"
     ]
    }
   ],
   "source": [
    "[el.text for el in s]"
   ]
  },
  {
   "cell_type": "code",
   "execution_count": 38,
   "metadata": {},
   "outputs": [],
   "source": [
    "ss = s.findAll(class_='txt-block')"
   ]
  },
  {
   "cell_type": "code",
   "execution_count": 56,
   "metadata": {},
   "outputs": [
    {
     "output_type": "execute_result",
     "data": {
      "text/plain": [
       "[<h4 class=\"inline\">Country:</h4>,\n",
       " <a href=\"/search/title?country_of_origin=us\">USA</a>,\n",
       " <span class=\"ghost\">|</span>,\n",
       " <a href=\"/search/title?country_of_origin=gb\">UK</a>]"
      ]
     },
     "metadata": {},
     "execution_count": 56
    }
   ],
   "source": [
    "ss[1].findAll()"
   ]
  },
  {
   "cell_type": "code",
   "execution_count": 64,
   "metadata": {},
   "outputs": [
    {
     "output_type": "stream",
     "name": "stdout",
     "text": [
      "\nOfficial Sites:\n\n            Official Facebook\n    \n\n\n\n\nCountry:\nUSA\n|\nUK\n\n\nLanguage:\nEnglish\n|\nMandarin\n\n\nRelease Date: 14 August 2008 (Russia)\n    \nSee more »\n    \n\n\nAlso Known As: Темный рыцарь\n      \nSee more »\n      \n\n\nFilming Locations:\nTimes Square, Causeway Bay, Hong Kong\n\nSee more »\n      \n\n\nBudget:$185,000,000\n            (estimated)\n\n\nOpening Weekend USA: $158,411,483,\n20 July 2008 \n\nGross USA: $534,858,444        \n\nCumulative Worldwide Gross: $1,005,973,645        \n\nProduction Co:\n Warner Bros., Legendary Entertainment, Syncopy \nSee more »\n      \n\n\n  Show more on\n  IMDbPro »\n  \n\nRuntime:\n152 min\n\n\nSound Mix:\nDolby Digital\n| SDDS\n| DTS\n| IMAX 6-Track\n(IMAX version)    \n\nColor:\nColor\n(Technicolor)    \n\nAspect Ratio: 2.39 : 1\n    \n"
     ]
    }
   ],
   "source": [
    "for ss_el in ss:\n",
    "    print(ss_el.text)"
   ]
  },
  {
   "cell_type": "code",
   "execution_count": 59,
   "metadata": {},
   "outputs": [
    {
     "output_type": "execute_result",
     "data": {
      "text/plain": [
       "[<div class=\"txt-block\">\n",
       " <h4 class=\"inline\">Official Sites:</h4>\n",
       " <a class=\"tracked-offsite-link\" data-page-action=\"offsite-facebook\" data-page-action-const=\"\" data-page-const=\"\" data-page-type=\"\" data-ref=\"tt_pdt_ofs_offsite_0\" data-subpage-type=\"\" href=\"https://www.facebook.com/darkknighttrilogy/\" rel=\"\" target=\"_blank\">\n",
       "             Official Facebook\n",
       "     </a>\n",
       " <span class=\"see-more inline\">\n",
       " </span>\n",
       " </div>,\n",
       " <div class=\"txt-block\">\n",
       " <h4 class=\"inline\">Country:</h4>\n",
       " <a href=\"/search/title?country_of_origin=us\">USA</a>\n",
       " <span class=\"ghost\">|</span>\n",
       " <a href=\"/search/title?country_of_origin=gb\">UK</a>\n",
       " </div>,\n",
       " <div class=\"txt-block\">\n",
       " <h4 class=\"inline\">Language:</h4>\n",
       " <a href=\"/search/title?title_type=feature&amp;primary_language=en&amp;sort=moviemeter,asc\">English</a>\n",
       " <span class=\"ghost\">|</span>\n",
       " <a href=\"/search/title?title_type=feature&amp;primary_language=cmn&amp;sort=moviemeter,asc\">Mandarin</a>\n",
       " </div>,\n",
       " <div class=\"txt-block\">\n",
       " <h4 class=\"inline\">Release Date:</h4> 14 August 2008 (Russia)\n",
       "     <span class=\"see-more inline\">\n",
       " <a href=\"releaseinfo\">See more</a> »\n",
       "     </span>\n",
       " </div>,\n",
       " <div class=\"txt-block\">\n",
       " <h4 class=\"inline\">Also Known As:</h4> Темный рыцарь\n",
       "       <span class=\"see-more inline\">\n",
       " <a href=\"releaseinfo#akas\">See more</a> »\n",
       "       </span>\n",
       " </div>,\n",
       " <div class=\"txt-block\">\n",
       " <h4 class=\"inline\">Filming Locations:</h4>\n",
       " <a href=\"/search/title?locations=Times%20Square,%20Causeway%20Bay,%20Hong%20Kong\">Times Square, Causeway Bay, Hong Kong</a>\n",
       " <span class=\"see-more inline\">\n",
       " <a href=\"locations\">See more</a> »\n",
       "       </span>\n",
       " </div>,\n",
       " <div class=\"txt-block\">\n",
       " <h4 class=\"inline\">Budget:</h4>$185,000,000\n",
       "             <span class=\"attribute\">(estimated)</span>\n",
       " </div>,\n",
       " <div class=\"txt-block\">\n",
       " <h4 class=\"inline\">Opening Weekend USA:</h4> $158,411,483,\n",
       " <span class=\"attribute\">20 July 2008</span> </div>,\n",
       " <div class=\"txt-block\">\n",
       " <h4 class=\"inline\">Gross USA:</h4> $534,858,444        </div>,\n",
       " <div class=\"txt-block\">\n",
       " <h4 class=\"inline\">Cumulative Worldwide Gross:</h4> $1,005,973,645        </div>,\n",
       " <div class=\"txt-block\">\n",
       " <h4 class=\"inline\">Production Co:</h4>\n",
       " <a href=\"/company/co0002663\"> Warner Bros.</a>,<a href=\"/company/co0159111\"> Legendary Entertainment</a>,<a href=\"/company/co0147954\"> Syncopy</a> <span class=\"see-more inline\">\n",
       " <a href=\"companycredits\">See more</a> »\n",
       "       </span>\n",
       " </div>,\n",
       " <div class=\"txt-block\">\n",
       "   Show more on\n",
       "   <a href=\"https://pro.imdb.com/title/tt0468569/companycredits?rf=cons_tt_cocred_tt\">IMDbPro</a> »\n",
       "   </div>,\n",
       " <div class=\"txt-block\">\n",
       " <h4 class=\"inline\">Runtime:</h4>\n",
       " <time datetime=\"PT152M\">152 min</time>\n",
       " </div>,\n",
       " <div class=\"txt-block\">\n",
       " <h4 class=\"inline\">Sound Mix:</h4>\n",
       " <a href=\"/search/title?sound_mixes=dolby_digital\">Dolby Digital</a>\n",
       " <span class=\"ghost\">|</span> <a href=\"/search/title?sound_mixes=sdds\">SDDS</a>\n",
       " <span class=\"ghost\">|</span> <a href=\"/search/title?sound_mixes=dts\">DTS</a>\n",
       " <span class=\"ghost\">|</span> <a href=\"/search/title?sound_mixes=imax_6_track\">IMAX 6-Track</a>\n",
       " (IMAX version)    </div>,\n",
       " <div class=\"txt-block\">\n",
       " <h4 class=\"inline\">Color:</h4>\n",
       " <a href=\"/search/title?colors=color\">Color</a>\n",
       " (Technicolor)    </div>,\n",
       " <div class=\"txt-block\">\n",
       " <h4 class=\"inline\">Aspect Ratio:</h4> 2.39 : 1\n",
       "     </div>]"
      ]
     },
     "metadata": {},
     "execution_count": 59
    }
   ],
   "source": [
    "ss.findAll()"
   ]
  },
  {
   "cell_type": "code",
   "execution_count": null,
   "metadata": {},
   "outputs": [],
   "source": []
  }
 ]
}