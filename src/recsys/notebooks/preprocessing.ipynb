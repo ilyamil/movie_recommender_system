{
 "metadata": {
  "language_info": {
   "codemirror_mode": {
    "name": "ipython",
    "version": 3
   },
   "file_extension": ".py",
   "mimetype": "text/x-python",
   "name": "python",
   "nbconvert_exporter": "python",
   "pygments_lexer": "ipython3",
   "version": "3.8.5-final"
  },
  "orig_nbformat": 2,
  "kernelspec": {
   "name": "python3",
   "display_name": "Python 3.8.5 64-bit ('milyu': virtualenv)",
   "metadata": {
    "interpreter": {
     "hash": "90702062affdb4fd7474f32c7adfa24760649a3812f3df3f74e1a8a029923a87"
    }
   }
  }
 },
 "nbformat": 4,
 "nbformat_minor": 2,
 "cells": [
  {
   "cell_type": "code",
   "execution_count": 1,
   "metadata": {},
   "outputs": [],
   "source": [
    "import os\n",
    "import re\n",
    "import pandas as pd\n",
    "import numpy as np\n",
    "import matplotlib.pyplot as plt"
   ]
  },
  {
   "cell_type": "code",
   "execution_count": 3,
   "metadata": {},
   "outputs": [
    {
     "output_type": "execute_result",
     "data": {
      "text/plain": [
       "            movie_id                                               text  \\\n",
       "0  /title/tt0048424/  It's a unique experience for me to see a movie...   \n",
       "1  /title/tt0048424/  Wow, I just cannot say enough bad things about...   \n",
       "2  /title/tt0048424/  Made in 1955 with all of the savvy, subtlety, ...   \n",
       "3  /title/tt0048424/  From the baffling editing of sequences at the ...   \n",
       "4  /title/tt0048424/  There was absolutely nothing redeeming about t...   \n",
       "\n",
       "   rating             date                                              title  \\\n",
       "0     1.0  14 January 2005               Unsettling, but not in a good way.\\n   \n",
       "1     1.0  14 October 2006   WHY does this film receive so much critical a...   \n",
       "2     1.0    10 March 2002                                    laughably bad\\n   \n",
       "3     1.0     22 July 2006                                  Simply dreadful\\n   \n",
       "4     1.0     5 March 2009                                         Wretched\\n   \n",
       "\n",
       "              author                                        helpfulness  \n",
       "0   /user/ur4405603/  \\n                    82 out of 160 found this...  \n",
       "1   /user/ur8775945/  \\n                    70 out of 135 found this...  \n",
       "2   /user/ur1644061/  \\n                    63 out of 134 found this...  \n",
       "3   /user/ur2619392/  \\n                    47 out of 100 found this...  \n",
       "4  /user/ur17081554/  \\n                    46 out of 99 found this ...  "
      ],
      "text/html": "<div>\n<style scoped>\n    .dataframe tbody tr th:only-of-type {\n        vertical-align: middle;\n    }\n\n    .dataframe tbody tr th {\n        vertical-align: top;\n    }\n\n    .dataframe thead th {\n        text-align: right;\n    }\n</style>\n<table border=\"1\" class=\"dataframe\">\n  <thead>\n    <tr style=\"text-align: right;\">\n      <th></th>\n      <th>movie_id</th>\n      <th>text</th>\n      <th>rating</th>\n      <th>date</th>\n      <th>title</th>\n      <th>author</th>\n      <th>helpfulness</th>\n    </tr>\n  </thead>\n  <tbody>\n    <tr>\n      <th>0</th>\n      <td>/title/tt0048424/</td>\n      <td>It's a unique experience for me to see a movie...</td>\n      <td>1.0</td>\n      <td>14 January 2005</td>\n      <td>Unsettling, but not in a good way.\\n</td>\n      <td>/user/ur4405603/</td>\n      <td>\\n                    82 out of 160 found this...</td>\n    </tr>\n    <tr>\n      <th>1</th>\n      <td>/title/tt0048424/</td>\n      <td>Wow, I just cannot say enough bad things about...</td>\n      <td>1.0</td>\n      <td>14 October 2006</td>\n      <td>WHY does this film receive so much critical a...</td>\n      <td>/user/ur8775945/</td>\n      <td>\\n                    70 out of 135 found this...</td>\n    </tr>\n    <tr>\n      <th>2</th>\n      <td>/title/tt0048424/</td>\n      <td>Made in 1955 with all of the savvy, subtlety, ...</td>\n      <td>1.0</td>\n      <td>10 March 2002</td>\n      <td>laughably bad\\n</td>\n      <td>/user/ur1644061/</td>\n      <td>\\n                    63 out of 134 found this...</td>\n    </tr>\n    <tr>\n      <th>3</th>\n      <td>/title/tt0048424/</td>\n      <td>From the baffling editing of sequences at the ...</td>\n      <td>1.0</td>\n      <td>22 July 2006</td>\n      <td>Simply dreadful\\n</td>\n      <td>/user/ur2619392/</td>\n      <td>\\n                    47 out of 100 found this...</td>\n    </tr>\n    <tr>\n      <th>4</th>\n      <td>/title/tt0048424/</td>\n      <td>There was absolutely nothing redeeming about t...</td>\n      <td>1.0</td>\n      <td>5 March 2009</td>\n      <td>Wretched\\n</td>\n      <td>/user/ur17081554/</td>\n      <td>\\n                    46 out of 99 found this ...</td>\n    </tr>\n  </tbody>\n</table>\n</div>"
     },
     "metadata": {},
     "execution_count": 3
    }
   ],
   "source": [
    "PARENT_FOLDER = '../data'\n",
    "data_path = os.listdir(PARENT_FOLDER)\n",
    "reviews_path = [path for path in data_path if 'reviews_all_genres_200_' in path]\n",
    "\n",
    "reviews_dfs = [pd.read_csv(PARENT_FOLDER + '/' + path) for path in reviews_path]\n",
    "reviews = pd.concat(reviews_dfs).reset_index(drop=True)\n",
    "reviews.head()"
   ]
  },
  {
   "cell_type": "code",
   "execution_count": 4,
   "metadata": {},
   "outputs": [],
   "source": [
    "reviews['date'] = pd.to_datetime(reviews['date'])\n",
    "reviews['rating'] = reviews['rating'].fillna(-1)\n",
    "reviews['rating'] = reviews['rating'].astype(np.float32)\n",
    "reviews['helpfulness'] = reviews['helpfulness'].str.replace(',', '')\n",
    "reviews['helpfulness'] = reviews['helpfulness'].apply(lambda s: re.findall('\\d+', s))\n",
    "reviews[['helpful_votes', 'total_votes']] = pd.DataFrame(reviews['helpfulness'].to_list(), \n",
    "                                                         index=reviews.index)\n",
    "reviews.drop(['helpfulness'], axis=1, inplace=True)"
   ]
  },
  {
   "cell_type": "code",
   "execution_count": 5,
   "metadata": {},
   "outputs": [],
   "source": [
    "reviews.to_csv('../data/reviews_all_genres_200.csv', index=False)"
   ]
  }
 ]
}