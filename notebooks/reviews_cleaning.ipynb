{
 "cells": [
  {
   "cell_type": "code",
   "execution_count": 39,
   "metadata": {},
   "outputs": [
    {
     "data": {
      "text/html": [
       "<div>\n",
       "<style scoped>\n",
       "    .dataframe tbody tr th:only-of-type {\n",
       "        vertical-align: middle;\n",
       "    }\n",
       "\n",
       "    .dataframe tbody tr th {\n",
       "        vertical-align: top;\n",
       "    }\n",
       "\n",
       "    .dataframe thead th {\n",
       "        text-align: right;\n",
       "    }\n",
       "</style>\n",
       "<table border=\"1\" class=\"dataframe\">\n",
       "  <thead>\n",
       "    <tr style=\"text-align: right;\">\n",
       "      <th></th>\n",
       "      <th>original_title</th>\n",
       "      <th>review_summary</th>\n",
       "      <th>agg_rating</th>\n",
       "      <th>actors</th>\n",
       "      <th>imdb_recommendations</th>\n",
       "      <th>storyline</th>\n",
       "      <th>tagline</th>\n",
       "      <th>certificate</th>\n",
       "      <th>details</th>\n",
       "      <th>boxoffice</th>\n",
       "      <th>techspecs</th>\n",
       "      <th>title_id</th>\n",
       "    </tr>\n",
       "  </thead>\n",
       "  <tbody>\n",
       "    <tr>\n",
       "      <th>0</th>\n",
       "      <td>Original title: The Dark Knight</td>\n",
       "      <td>{'n_user_reviews': '7.7KUser reviews', 'n_crit...</td>\n",
       "      <td>9.0/102.5M</td>\n",
       "      <td>{'Christian Bale': '/name/nm0000288?ref_=tt_cl...</td>\n",
       "      <td>['/title/tt1345836/?ref_=tt_sims_tt_t_1', '/ti...</td>\n",
       "      <td>Set within a year after the events of Batman B...</td>\n",
       "      <td>TaglinesWhy So Serious?</td>\n",
       "      <td>Certificate14+</td>\n",
       "      <td>Release dateAugust 14, 2008 (Russia)Countries ...</td>\n",
       "      <td>Budget$185,000,000 (estimated)Gross US &amp; Canad...</td>\n",
       "      <td>Runtime2 hours 32 minutesSound mixDolby Digita...</td>\n",
       "      <td>/title/tt0468569/</td>\n",
       "    </tr>\n",
       "    <tr>\n",
       "      <th>1</th>\n",
       "      <td>Original title: Inception</td>\n",
       "      <td>{'n_user_reviews': '4.4KUser reviews', 'n_crit...</td>\n",
       "      <td>8.8/102.2M</td>\n",
       "      <td>{'Leonardo DiCaprio': '/name/nm0000138?ref_=tt...</td>\n",
       "      <td>['/title/tt0816692/?ref_=tt_sims_tt_t_1', '/ti...</td>\n",
       "      <td>Dom Cobb is a skilled thief, the absolute best...</td>\n",
       "      <td>TaglinesYour mind is the scene of the crime</td>\n",
       "      <td>Certificate12+</td>\n",
       "      <td>Release dateJuly 22, 2010 (Russia)Countries of...</td>\n",
       "      <td>Budget$160,000,000 (estimated)Gross US &amp; Canad...</td>\n",
       "      <td>Runtime2 hours 28 minutesColorColorSound mixDo...</td>\n",
       "      <td>/title/tt1375666/</td>\n",
       "    </tr>\n",
       "    <tr>\n",
       "      <th>2</th>\n",
       "      <td>Original title: The Matrix</td>\n",
       "      <td>{'n_user_reviews': '4.6KUser reviews', 'n_crit...</td>\n",
       "      <td>8.7/101.8M</td>\n",
       "      <td>{'Keanu Reeves': '/name/nm0000206?ref_=tt_cl_t...</td>\n",
       "      <td>['/title/tt1375666/?ref_=tt_sims_tt_t_1', '/ti...</td>\n",
       "      <td>Thomas A. Anderson is a man living two lives. ...</td>\n",
       "      <td>TaglinesFree your mind</td>\n",
       "      <td>Certificate16+</td>\n",
       "      <td>Release dateOctober 14, 1999 (Russia)Countries...</td>\n",
       "      <td>Budget$63,000,000 (estimated)Gross US &amp; Canada...</td>\n",
       "      <td>Runtime2 hours 16 minutesColorColorSound mixDo...</td>\n",
       "      <td>/title/tt0133093/</td>\n",
       "    </tr>\n",
       "    <tr>\n",
       "      <th>3</th>\n",
       "      <td>Original title: The Lord of the Rings: The Fel...</td>\n",
       "      <td>{'n_user_reviews': '5.5KUser reviews', 'n_crit...</td>\n",
       "      <td>8.8/101.7M</td>\n",
       "      <td>{'Elijah Wood': '/name/nm0000704?ref_=tt_cl_t_...</td>\n",
       "      <td>['/title/tt0167261/?ref_=tt_sims_tt_t_1', '/ti...</td>\n",
       "      <td>An ancient Ring thought lost for centuries has...</td>\n",
       "      <td>TaglinesThe Legend Comes to Life</td>\n",
       "      <td>Certificate12+</td>\n",
       "      <td>Release dateMarch 1, 2002 (Russia)Countries of...</td>\n",
       "      <td>Budget$93,000,000 (estimated)Gross US &amp; Canada...</td>\n",
       "      <td>Runtime2 hours 58 minutesColorColorSound mixDT...</td>\n",
       "      <td>/title/tt0120737/</td>\n",
       "    </tr>\n",
       "    <tr>\n",
       "      <th>4</th>\n",
       "      <td>Original title: The Lord of the Rings: The Ret...</td>\n",
       "      <td>{'n_user_reviews': '3.9KUser reviews', 'n_crit...</td>\n",
       "      <td>8.9/101.7M</td>\n",
       "      <td>{'Elijah Wood': '/name/nm0000704?ref_=tt_cl_t_...</td>\n",
       "      <td>['/title/tt0167261/?ref_=tt_sims_tt_t_1', '/ti...</td>\n",
       "      <td>The final confrontation between the forces of ...</td>\n",
       "      <td>TaglinesThe eye of the enemy is moving.</td>\n",
       "      <td>Certificate12+</td>\n",
       "      <td>Release dateJanuary 22, 2004 (Russia)Countries...</td>\n",
       "      <td>Budget$94,000,000 (estimated)Gross US &amp; Canada...</td>\n",
       "      <td>Runtime3 hours 21 minutesColorColorSound mixDT...</td>\n",
       "      <td>/title/tt0167260/</td>\n",
       "    </tr>\n",
       "  </tbody>\n",
       "</table>\n",
       "</div>"
      ],
      "text/plain": [
       "                                      original_title  \\\n",
       "0                    Original title: The Dark Knight   \n",
       "1                          Original title: Inception   \n",
       "2                         Original title: The Matrix   \n",
       "3  Original title: The Lord of the Rings: The Fel...   \n",
       "4  Original title: The Lord of the Rings: The Ret...   \n",
       "\n",
       "                                      review_summary  agg_rating  \\\n",
       "0  {'n_user_reviews': '7.7KUser reviews', 'n_crit...  9.0/102.5M   \n",
       "1  {'n_user_reviews': '4.4KUser reviews', 'n_crit...  8.8/102.2M   \n",
       "2  {'n_user_reviews': '4.6KUser reviews', 'n_crit...  8.7/101.8M   \n",
       "3  {'n_user_reviews': '5.5KUser reviews', 'n_crit...  8.8/101.7M   \n",
       "4  {'n_user_reviews': '3.9KUser reviews', 'n_crit...  8.9/101.7M   \n",
       "\n",
       "                                              actors  \\\n",
       "0  {'Christian Bale': '/name/nm0000288?ref_=tt_cl...   \n",
       "1  {'Leonardo DiCaprio': '/name/nm0000138?ref_=tt...   \n",
       "2  {'Keanu Reeves': '/name/nm0000206?ref_=tt_cl_t...   \n",
       "3  {'Elijah Wood': '/name/nm0000704?ref_=tt_cl_t_...   \n",
       "4  {'Elijah Wood': '/name/nm0000704?ref_=tt_cl_t_...   \n",
       "\n",
       "                                imdb_recommendations  \\\n",
       "0  ['/title/tt1345836/?ref_=tt_sims_tt_t_1', '/ti...   \n",
       "1  ['/title/tt0816692/?ref_=tt_sims_tt_t_1', '/ti...   \n",
       "2  ['/title/tt1375666/?ref_=tt_sims_tt_t_1', '/ti...   \n",
       "3  ['/title/tt0167261/?ref_=tt_sims_tt_t_1', '/ti...   \n",
       "4  ['/title/tt0167261/?ref_=tt_sims_tt_t_1', '/ti...   \n",
       "\n",
       "                                           storyline  \\\n",
       "0  Set within a year after the events of Batman B...   \n",
       "1  Dom Cobb is a skilled thief, the absolute best...   \n",
       "2  Thomas A. Anderson is a man living two lives. ...   \n",
       "3  An ancient Ring thought lost for centuries has...   \n",
       "4  The final confrontation between the forces of ...   \n",
       "\n",
       "                                       tagline     certificate  \\\n",
       "0                      TaglinesWhy So Serious?  Certificate14+   \n",
       "1  TaglinesYour mind is the scene of the crime  Certificate12+   \n",
       "2                       TaglinesFree your mind  Certificate16+   \n",
       "3             TaglinesThe Legend Comes to Life  Certificate12+   \n",
       "4      TaglinesThe eye of the enemy is moving.  Certificate12+   \n",
       "\n",
       "                                             details  \\\n",
       "0  Release dateAugust 14, 2008 (Russia)Countries ...   \n",
       "1  Release dateJuly 22, 2010 (Russia)Countries of...   \n",
       "2  Release dateOctober 14, 1999 (Russia)Countries...   \n",
       "3  Release dateMarch 1, 2002 (Russia)Countries of...   \n",
       "4  Release dateJanuary 22, 2004 (Russia)Countries...   \n",
       "\n",
       "                                           boxoffice  \\\n",
       "0  Budget$185,000,000 (estimated)Gross US & Canad...   \n",
       "1  Budget$160,000,000 (estimated)Gross US & Canad...   \n",
       "2  Budget$63,000,000 (estimated)Gross US & Canada...   \n",
       "3  Budget$93,000,000 (estimated)Gross US & Canada...   \n",
       "4  Budget$94,000,000 (estimated)Gross US & Canada...   \n",
       "\n",
       "                                           techspecs           title_id  \n",
       "0  Runtime2 hours 32 minutesSound mixDolby Digita...  /title/tt0468569/  \n",
       "1  Runtime2 hours 28 minutesColorColorSound mixDo...  /title/tt1375666/  \n",
       "2  Runtime2 hours 16 minutesColorColorSound mixDo...  /title/tt0133093/  \n",
       "3  Runtime2 hours 58 minutesColorColorSound mixDT...  /title/tt0120737/  \n",
       "4  Runtime3 hours 21 minutesColorColorSound mixDT...  /title/tt0167260/  "
      ]
     },
     "execution_count": 39,
     "metadata": {},
     "output_type": "execute_result"
    }
   ],
   "source": [
    "import pandas as pd\n",
    "data_path = '../data/raw/details/1pct/action.csv'\n",
    "action = pd.read_csv(data_path)\n",
    "action.head()"
   ]
  },
  {
   "cell_type": "code",
   "execution_count": 1,
   "metadata": {},
   "outputs": [],
   "source": [
    "import bs4 as bs\n",
    "from recsys.imdb_parser import details\n",
    "\n",
    "import requests\n",
    "%load_ext autoreload\n",
    "%autoreload 2\n",
    "response = requests.get('https://www.imdb.com/title/tt0468569/')"
   ]
  },
  {
   "cell_type": "code",
   "execution_count": 4,
   "metadata": {},
   "outputs": [],
   "source": [
    "soup = bs.BeautifulSoup(response.text, 'lxml')\n",
    "soup_det = details.DetailsCollector.collect_title_details(soup)"
   ]
  },
  {
   "cell_type": "code",
   "execution_count": 19,
   "metadata": {},
   "outputs": [
    {
     "data": {
      "text/plain": [
       "['8KUser reviews', '8K', '430Critic reviews', '430', '84Metascore', '84']"
      ]
     },
     "execution_count": 19,
     "metadata": {},
     "output_type": "execute_result"
    }
   ],
   "source": [
    "[el.text for el in soup.find_all('span', class_=['three-Elements', 'score'])]"
   ]
  },
  {
   "cell_type": "code",
   "execution_count": 52,
   "metadata": {},
   "outputs": [
    {
     "data": {
      "text/plain": [
       "['Release date',\n",
       " 'Also known as',\n",
       " 'Filming locations',\n",
       " 'Production companies',\n",
       " 'See more company credits at IMDbPro']"
      ]
     },
     "execution_count": 52,
     "metadata": {},
     "output_type": "execute_result"
    }
   ],
   "source": [
    "s = soup.find('div', {'data-testid': 'title-details-section'}).find_all('ul')\n",
    "# [e.text for e in s]\n",
    "# for tag in s.find_all('li'):\n",
    "#     print(tag.text)\n",
    "# s.find_all('li')\n",
    "\n",
    "# for el in s:\n",
    "#     print([e.text for e in el.find_all('li', class_='ipc-inline-list__item')])\n",
    "\n",
    "labels = s[0].find_all('a', class_='ipc-metadata-list-item__label ipc-metadata-list-item__label--link')\n",
    "labels = [l.text for l in labels]\n",
    "labels"
   ]
  },
  {
   "cell_type": "code",
   "execution_count": 5,
   "metadata": {},
   "outputs": [
    {
     "data": {
      "text/plain": [
       "dict_keys(['original_title', 'poster', 'review_summary', 'agg_rating', 'actors', 'imdb_recommendations', 'storyline', 'tagline', 'certificate', 'details', 'boxoffice', 'techspecs'])"
      ]
     },
     "execution_count": 5,
     "metadata": {},
     "output_type": "execute_result"
    }
   ],
   "source": [
    "soup_det.keys()"
   ]
  },
  {
   "cell_type": "code",
   "execution_count": 25,
   "metadata": {},
   "outputs": [
    {
     "data": {
      "text/plain": [
       "'Release dateAugust 14, 2008 (Russia)Countries of originUnited StatesUnited KingdomOfficial siteFacebookLanguagesEnglishMandarinAlso known asThe Dark KnightFilming locationsChicago, Illinois, USAProduction companiesWarner Bros.Legendary EntertainmentSyncopySee more company credits at IMDbPro'"
      ]
     },
     "execution_count": 25,
     "metadata": {},
     "output_type": "execute_result"
    }
   ],
   "source": [
    "soup_det['details']"
   ]
  },
  {
   "cell_type": "code",
   "execution_count": 6,
   "metadata": {},
   "outputs": [
    {
     "data": {
      "text/plain": [
       "'Original title: The Dark Knight'"
      ]
     },
     "execution_count": 6,
     "metadata": {},
     "output_type": "execute_result"
    }
   ],
   "source": [
    "soup_det['original_title']"
   ]
  },
  {
   "cell_type": "code",
   "execution_count": 7,
   "metadata": {},
   "outputs": [
    {
     "data": {
      "text/plain": [
       "{'n_user_reviews': '8KUser reviews',\n",
       " 'n_critic_reviews': '430Critic reviews',\n",
       " 'metascore': '84Metascore'}"
      ]
     },
     "execution_count": 7,
     "metadata": {},
     "output_type": "execute_result"
    }
   ],
   "source": [
    "soup_det['review_summary']"
   ]
  },
  {
   "cell_type": "code",
   "execution_count": 9,
   "metadata": {},
   "outputs": [],
   "source": [
    "soup_det['agg_rating']"
   ]
  },
  {
   "cell_type": "code",
   "execution_count": 11,
   "metadata": {},
   "outputs": [
    {
     "data": {
      "text/plain": [
       "['/title/tt1345836/?ref_=tt_sims_tt_t_1',\n",
       " '/title/tt0372784/?ref_=tt_sims_tt_t_2',\n",
       " '/title/tt7286456/?ref_=tt_sims_tt_t_3',\n",
       " '/title/tt1375666/?ref_=tt_sims_tt_t_4',\n",
       " '/title/tt0111161/?ref_=tt_sims_tt_t_5',\n",
       " '/title/tt0816692/?ref_=tt_sims_tt_t_6',\n",
       " '/title/tt0068646/?ref_=tt_sims_tt_t_7',\n",
       " '/title/tt0137523/?ref_=tt_sims_tt_t_8',\n",
       " '/title/tt0109830/?ref_=tt_sims_tt_t_9',\n",
       " '/title/tt0167260/?ref_=tt_sims_tt_t_10',\n",
       " '/title/tt4154756/?ref_=tt_sims_tt_t_11',\n",
       " '/title/tt4154796/?ref_=tt_sims_tt_t_12']"
      ]
     },
     "execution_count": 11,
     "metadata": {},
     "output_type": "execute_result"
    }
   ],
   "source": [
    "soup_det['imdb_recommendations']"
   ]
  },
  {
   "cell_type": "code",
   "execution_count": 12,
   "metadata": {},
   "outputs": [
    {
     "data": {
      "text/plain": [
       "'Set within a year after the events of Batman Begins (2005), Batman, Lieutenant James Gordon, and new District Attorney Harvey Dent successfully begin to round up the criminals that plague Gotham City, until a mysterious and sadistic criminal mastermind known only as \"The Joker\" appears in Gotham, creating a new wave of chaos. Batman\\'s struggle against The Joker becomes deeply personal, forcing him to \"confront everything he believes\" and improve his technology to stop him. A love triangle develops between Bruce Wayne, Dent, and Rachel Dawes. —Leon Lombardi'"
      ]
     },
     "execution_count": 12,
     "metadata": {},
     "output_type": "execute_result"
    }
   ],
   "source": [
    "soup_det['storyline']"
   ]
  },
  {
   "cell_type": "code",
   "execution_count": 13,
   "metadata": {},
   "outputs": [
    {
     "data": {
      "text/plain": [
       "'TaglinesWhy So Serious?'"
      ]
     },
     "execution_count": 13,
     "metadata": {},
     "output_type": "execute_result"
    }
   ],
   "source": [
    "soup_det['tagline']"
   ]
  },
  {
   "cell_type": "code",
   "execution_count": 14,
   "metadata": {},
   "outputs": [
    {
     "data": {
      "text/plain": [
       "'Certificate14+'"
      ]
     },
     "execution_count": 14,
     "metadata": {},
     "output_type": "execute_result"
    }
   ],
   "source": [
    "soup_det['certificate']"
   ]
  },
  {
   "cell_type": "code",
   "execution_count": 10,
   "metadata": {},
   "outputs": [
    {
     "data": {
      "text/plain": [
       "{'Christian Bale': '/name/nm0000288?ref_=tt_cl_t_1',\n",
       " 'Heath Ledger': '/name/nm0005132?ref_=tt_cl_t_2',\n",
       " 'Aaron Eckhart': '/name/nm0001173?ref_=tt_cl_t_3',\n",
       " 'Michael Caine': '/name/nm0000323?ref_=tt_cl_t_4',\n",
       " 'Maggie Gyllenhaal': '/name/nm0350454?ref_=tt_cl_t_5',\n",
       " 'Gary Oldman': '/name/nm0000198?ref_=tt_cl_t_6',\n",
       " 'Morgan Freeman': '/name/nm0000151?ref_=tt_cl_t_7',\n",
       " 'Monique Gabriela Curnen': '/name/nm1010931?ref_=tt_cl_t_8',\n",
       " 'Ron Dean': '/name/nm0212939?ref_=tt_cl_t_9',\n",
       " 'Cillian Murphy': '/name/nm0614165?ref_=tt_cl_t_10'}"
      ]
     },
     "execution_count": 10,
     "metadata": {},
     "output_type": "execute_result"
    }
   ],
   "source": [
    "soup_det['actors']"
   ]
  },
  {
   "cell_type": "code",
   "execution_count": 148,
   "metadata": {},
   "outputs": [
    {
     "name": "stdout",
     "output_type": "stream",
     "text": [
      "The autoreload extension is already loaded. To reload it, use:\n",
      "  %reload_ext autoreload\n"
     ]
    }
   ],
   "source": [
    "import pandas as pd\n",
    "from recsys.core.data import CSVDataLoader\n",
    "from recsys.etl.transformers import RawReviewsTransformer, RawDetailsTransformer\n",
    "%load_ext autoreload\n",
    "%autoreload 2"
   ]
  },
  {
   "cell_type": "code",
   "execution_count": 149,
   "metadata": {},
   "outputs": [],
   "source": [
    "data_path = '../data/raw/details/1pct/action.csv'\n",
    "loader = CSVDataLoader(data_path)\n",
    "action_proc = RawDetailsTransformer(loader).transform()"
   ]
  },
  {
   "cell_type": "code",
   "execution_count": 150,
   "metadata": {},
   "outputs": [
    {
     "data": {
      "text/html": [
       "<div>\n",
       "<style scoped>\n",
       "    .dataframe tbody tr th:only-of-type {\n",
       "        vertical-align: middle;\n",
       "    }\n",
       "\n",
       "    .dataframe tbody tr th {\n",
       "        vertical-align: top;\n",
       "    }\n",
       "\n",
       "    .dataframe thead th {\n",
       "        text-align: right;\n",
       "    }\n",
       "</style>\n",
       "<table border=\"1\" class=\"dataframe\">\n",
       "  <thead>\n",
       "    <tr style=\"text-align: right;\">\n",
       "      <th></th>\n",
       "      <th>original_title</th>\n",
       "      <th>review_summary</th>\n",
       "      <th>agg_rating</th>\n",
       "      <th>actors</th>\n",
       "      <th>imdb_recommendations</th>\n",
       "      <th>storyline</th>\n",
       "      <th>tagline</th>\n",
       "      <th>certificate</th>\n",
       "      <th>details</th>\n",
       "      <th>boxoffice</th>\n",
       "      <th>techspecs</th>\n",
       "      <th>title_id</th>\n",
       "    </tr>\n",
       "  </thead>\n",
       "  <tbody>\n",
       "    <tr>\n",
       "      <th>0</th>\n",
       "      <td>Original title: The Dark Knight</td>\n",
       "      <td>{'n_user_reviews': '7.7KUser reviews', 'n_crit...</td>\n",
       "      <td>9.0/102.5M</td>\n",
       "      <td>{'Christian Bale': '/name/nm0000288?ref_=tt_cl...</td>\n",
       "      <td>['/title/tt1345836/?ref_=tt_sims_tt_t_1', '/ti...</td>\n",
       "      <td>Set within a year after the events of Batman B...</td>\n",
       "      <td>TaglinesWhy So Serious?</td>\n",
       "      <td>Certificate14+</td>\n",
       "      <td>Release dateAugust 14, 2008 (Russia)Countries ...</td>\n",
       "      <td>Budget$185,000,000 (estimated)Gross US &amp; Canad...</td>\n",
       "      <td>Runtime2 hours 32 minutesSound mixDolby Digita...</td>\n",
       "      <td>/title/tt0468569/</td>\n",
       "    </tr>\n",
       "    <tr>\n",
       "      <th>1</th>\n",
       "      <td>Original title: Inception</td>\n",
       "      <td>{'n_user_reviews': '4.4KUser reviews', 'n_crit...</td>\n",
       "      <td>8.8/102.2M</td>\n",
       "      <td>{'Leonardo DiCaprio': '/name/nm0000138?ref_=tt...</td>\n",
       "      <td>['/title/tt0816692/?ref_=tt_sims_tt_t_1', '/ti...</td>\n",
       "      <td>Dom Cobb is a skilled thief, the absolute best...</td>\n",
       "      <td>TaglinesYour mind is the scene of the crime</td>\n",
       "      <td>Certificate12+</td>\n",
       "      <td>Release dateJuly 22, 2010 (Russia)Countries of...</td>\n",
       "      <td>Budget$160,000,000 (estimated)Gross US &amp; Canad...</td>\n",
       "      <td>Runtime2 hours 28 minutesColorColorSound mixDo...</td>\n",
       "      <td>/title/tt1375666/</td>\n",
       "    </tr>\n",
       "    <tr>\n",
       "      <th>2</th>\n",
       "      <td>Original title: The Matrix</td>\n",
       "      <td>{'n_user_reviews': '4.6KUser reviews', 'n_crit...</td>\n",
       "      <td>8.7/101.8M</td>\n",
       "      <td>{'Keanu Reeves': '/name/nm0000206?ref_=tt_cl_t...</td>\n",
       "      <td>['/title/tt1375666/?ref_=tt_sims_tt_t_1', '/ti...</td>\n",
       "      <td>Thomas A. Anderson is a man living two lives. ...</td>\n",
       "      <td>TaglinesFree your mind</td>\n",
       "      <td>Certificate16+</td>\n",
       "      <td>Release dateOctober 14, 1999 (Russia)Countries...</td>\n",
       "      <td>Budget$63,000,000 (estimated)Gross US &amp; Canada...</td>\n",
       "      <td>Runtime2 hours 16 minutesColorColorSound mixDo...</td>\n",
       "      <td>/title/tt0133093/</td>\n",
       "    </tr>\n",
       "    <tr>\n",
       "      <th>3</th>\n",
       "      <td>Original title: The Lord of the Rings: The Fel...</td>\n",
       "      <td>{'n_user_reviews': '5.5KUser reviews', 'n_crit...</td>\n",
       "      <td>8.8/101.7M</td>\n",
       "      <td>{'Elijah Wood': '/name/nm0000704?ref_=tt_cl_t_...</td>\n",
       "      <td>['/title/tt0167261/?ref_=tt_sims_tt_t_1', '/ti...</td>\n",
       "      <td>An ancient Ring thought lost for centuries has...</td>\n",
       "      <td>TaglinesThe Legend Comes to Life</td>\n",
       "      <td>Certificate12+</td>\n",
       "      <td>Release dateMarch 1, 2002 (Russia)Countries of...</td>\n",
       "      <td>Budget$93,000,000 (estimated)Gross US &amp; Canada...</td>\n",
       "      <td>Runtime2 hours 58 minutesColorColorSound mixDT...</td>\n",
       "      <td>/title/tt0120737/</td>\n",
       "    </tr>\n",
       "    <tr>\n",
       "      <th>4</th>\n",
       "      <td>Original title: The Lord of the Rings: The Ret...</td>\n",
       "      <td>{'n_user_reviews': '3.9KUser reviews', 'n_crit...</td>\n",
       "      <td>8.9/101.7M</td>\n",
       "      <td>{'Elijah Wood': '/name/nm0000704?ref_=tt_cl_t_...</td>\n",
       "      <td>['/title/tt0167261/?ref_=tt_sims_tt_t_1', '/ti...</td>\n",
       "      <td>The final confrontation between the forces of ...</td>\n",
       "      <td>TaglinesThe eye of the enemy is moving.</td>\n",
       "      <td>Certificate12+</td>\n",
       "      <td>Release dateJanuary 22, 2004 (Russia)Countries...</td>\n",
       "      <td>Budget$94,000,000 (estimated)Gross US &amp; Canada...</td>\n",
       "      <td>Runtime3 hours 21 minutesColorColorSound mixDT...</td>\n",
       "      <td>/title/tt0167260/</td>\n",
       "    </tr>\n",
       "  </tbody>\n",
       "</table>\n",
       "</div>"
      ],
      "text/plain": [
       "                                      original_title  \\\n",
       "0                    Original title: The Dark Knight   \n",
       "1                          Original title: Inception   \n",
       "2                         Original title: The Matrix   \n",
       "3  Original title: The Lord of the Rings: The Fel...   \n",
       "4  Original title: The Lord of the Rings: The Ret...   \n",
       "\n",
       "                                      review_summary  agg_rating  \\\n",
       "0  {'n_user_reviews': '7.7KUser reviews', 'n_crit...  9.0/102.5M   \n",
       "1  {'n_user_reviews': '4.4KUser reviews', 'n_crit...  8.8/102.2M   \n",
       "2  {'n_user_reviews': '4.6KUser reviews', 'n_crit...  8.7/101.8M   \n",
       "3  {'n_user_reviews': '5.5KUser reviews', 'n_crit...  8.8/101.7M   \n",
       "4  {'n_user_reviews': '3.9KUser reviews', 'n_crit...  8.9/101.7M   \n",
       "\n",
       "                                              actors  \\\n",
       "0  {'Christian Bale': '/name/nm0000288?ref_=tt_cl...   \n",
       "1  {'Leonardo DiCaprio': '/name/nm0000138?ref_=tt...   \n",
       "2  {'Keanu Reeves': '/name/nm0000206?ref_=tt_cl_t...   \n",
       "3  {'Elijah Wood': '/name/nm0000704?ref_=tt_cl_t_...   \n",
       "4  {'Elijah Wood': '/name/nm0000704?ref_=tt_cl_t_...   \n",
       "\n",
       "                                imdb_recommendations  \\\n",
       "0  ['/title/tt1345836/?ref_=tt_sims_tt_t_1', '/ti...   \n",
       "1  ['/title/tt0816692/?ref_=tt_sims_tt_t_1', '/ti...   \n",
       "2  ['/title/tt1375666/?ref_=tt_sims_tt_t_1', '/ti...   \n",
       "3  ['/title/tt0167261/?ref_=tt_sims_tt_t_1', '/ti...   \n",
       "4  ['/title/tt0167261/?ref_=tt_sims_tt_t_1', '/ti...   \n",
       "\n",
       "                                           storyline  \\\n",
       "0  Set within a year after the events of Batman B...   \n",
       "1  Dom Cobb is a skilled thief, the absolute best...   \n",
       "2  Thomas A. Anderson is a man living two lives. ...   \n",
       "3  An ancient Ring thought lost for centuries has...   \n",
       "4  The final confrontation between the forces of ...   \n",
       "\n",
       "                                       tagline     certificate  \\\n",
       "0                      TaglinesWhy So Serious?  Certificate14+   \n",
       "1  TaglinesYour mind is the scene of the crime  Certificate12+   \n",
       "2                       TaglinesFree your mind  Certificate16+   \n",
       "3             TaglinesThe Legend Comes to Life  Certificate12+   \n",
       "4      TaglinesThe eye of the enemy is moving.  Certificate12+   \n",
       "\n",
       "                                             details  \\\n",
       "0  Release dateAugust 14, 2008 (Russia)Countries ...   \n",
       "1  Release dateJuly 22, 2010 (Russia)Countries of...   \n",
       "2  Release dateOctober 14, 1999 (Russia)Countries...   \n",
       "3  Release dateMarch 1, 2002 (Russia)Countries of...   \n",
       "4  Release dateJanuary 22, 2004 (Russia)Countries...   \n",
       "\n",
       "                                           boxoffice  \\\n",
       "0  Budget$185,000,000 (estimated)Gross US & Canad...   \n",
       "1  Budget$160,000,000 (estimated)Gross US & Canad...   \n",
       "2  Budget$63,000,000 (estimated)Gross US & Canada...   \n",
       "3  Budget$93,000,000 (estimated)Gross US & Canada...   \n",
       "4  Budget$94,000,000 (estimated)Gross US & Canada...   \n",
       "\n",
       "                                           techspecs           title_id  \n",
       "0  Runtime2 hours 32 minutesSound mixDolby Digita...  /title/tt0468569/  \n",
       "1  Runtime2 hours 28 minutesColorColorSound mixDo...  /title/tt1375666/  \n",
       "2  Runtime2 hours 16 minutesColorColorSound mixDo...  /title/tt0133093/  \n",
       "3  Runtime2 hours 58 minutesColorColorSound mixDT...  /title/tt0120737/  \n",
       "4  Runtime3 hours 21 minutesColorColorSound mixDT...  /title/tt0167260/  "
      ]
     },
     "execution_count": 150,
     "metadata": {},
     "output_type": "execute_result"
    }
   ],
   "source": [
    "action = loader.load_data()\n",
    "action.head()"
   ]
  },
  {
   "cell_type": "code",
   "execution_count": 151,
   "metadata": {},
   "outputs": [],
   "source": [
    "from recsys.etl.functions import extract_movie_details"
   ]
  },
  {
   "cell_type": "code",
   "execution_count": 154,
   "metadata": {},
   "outputs": [
    {
     "data": {
      "text/html": [
       "<div>\n",
       "<style scoped>\n",
       "    .dataframe tbody tr th:only-of-type {\n",
       "        vertical-align: middle;\n",
       "    }\n",
       "\n",
       "    .dataframe tbody tr th {\n",
       "        vertical-align: top;\n",
       "    }\n",
       "\n",
       "    .dataframe thead th {\n",
       "        text-align: right;\n",
       "    }\n",
       "</style>\n",
       "<table border=\"1\" class=\"dataframe\">\n",
       "  <thead>\n",
       "    <tr style=\"text-align: right;\">\n",
       "      <th></th>\n",
       "      <th>original_title</th>\n",
       "      <th>review_summary</th>\n",
       "      <th>agg_rating</th>\n",
       "      <th>actors</th>\n",
       "      <th>imdb_recommendations</th>\n",
       "      <th>storyline</th>\n",
       "      <th>tagline</th>\n",
       "      <th>certificate</th>\n",
       "      <th>boxoffice</th>\n",
       "      <th>techspecs</th>\n",
       "      <th>title_id</th>\n",
       "      <th>release_date</th>\n",
       "      <th>country_of_origin</th>\n",
       "      <th>production_company</th>\n",
       "    </tr>\n",
       "  </thead>\n",
       "  <tbody>\n",
       "    <tr>\n",
       "      <th>0</th>\n",
       "      <td>Original title: The Dark Knight</td>\n",
       "      <td>{'n_user_reviews': '7.7KUser reviews', 'n_crit...</td>\n",
       "      <td>9.0/102.5M</td>\n",
       "      <td>{'Christian Bale': '/name/nm0000288?ref_=tt_cl...</td>\n",
       "      <td>['/title/tt1345836/?ref_=tt_sims_tt_t_1', '/ti...</td>\n",
       "      <td>Set within a year after the events of Batman B...</td>\n",
       "      <td>TaglinesWhy So Serious?</td>\n",
       "      <td>Certificate14+</td>\n",
       "      <td>Budget$185,000,000 (estimated)Gross US &amp; Canad...</td>\n",
       "      <td>Runtime2 hours 32 minutesSound mixDolby Digita...</td>\n",
       "      <td>/title/tt0468569/</td>\n",
       "      <td>2008-08-14</td>\n",
       "      <td>[United States, United Kingdom]</td>\n",
       "      <td>[Warner Bros., Legendary Entertainment, Syncopy]</td>\n",
       "    </tr>\n",
       "    <tr>\n",
       "      <th>1</th>\n",
       "      <td>Original title: Inception</td>\n",
       "      <td>{'n_user_reviews': '4.4KUser reviews', 'n_crit...</td>\n",
       "      <td>8.8/102.2M</td>\n",
       "      <td>{'Leonardo DiCaprio': '/name/nm0000138?ref_=tt...</td>\n",
       "      <td>['/title/tt0816692/?ref_=tt_sims_tt_t_1', '/ti...</td>\n",
       "      <td>Dom Cobb is a skilled thief, the absolute best...</td>\n",
       "      <td>TaglinesYour mind is the scene of the crime</td>\n",
       "      <td>Certificate12+</td>\n",
       "      <td>Budget$160,000,000 (estimated)Gross US &amp; Canad...</td>\n",
       "      <td>Runtime2 hours 28 minutesColorColorSound mixDo...</td>\n",
       "      <td>/title/tt1375666/</td>\n",
       "      <td>2010-07-22</td>\n",
       "      <td>[United Kingdom, United States]</td>\n",
       "      <td>[Warner Bros., Legendary Entertainment, Syncopy]</td>\n",
       "    </tr>\n",
       "  </tbody>\n",
       "</table>\n",
       "</div>"
      ],
      "text/plain": [
       "                    original_title  \\\n",
       "0  Original title: The Dark Knight   \n",
       "1        Original title: Inception   \n",
       "\n",
       "                                      review_summary  agg_rating  \\\n",
       "0  {'n_user_reviews': '7.7KUser reviews', 'n_crit...  9.0/102.5M   \n",
       "1  {'n_user_reviews': '4.4KUser reviews', 'n_crit...  8.8/102.2M   \n",
       "\n",
       "                                              actors  \\\n",
       "0  {'Christian Bale': '/name/nm0000288?ref_=tt_cl...   \n",
       "1  {'Leonardo DiCaprio': '/name/nm0000138?ref_=tt...   \n",
       "\n",
       "                                imdb_recommendations  \\\n",
       "0  ['/title/tt1345836/?ref_=tt_sims_tt_t_1', '/ti...   \n",
       "1  ['/title/tt0816692/?ref_=tt_sims_tt_t_1', '/ti...   \n",
       "\n",
       "                                           storyline  \\\n",
       "0  Set within a year after the events of Batman B...   \n",
       "1  Dom Cobb is a skilled thief, the absolute best...   \n",
       "\n",
       "                                       tagline     certificate  \\\n",
       "0                      TaglinesWhy So Serious?  Certificate14+   \n",
       "1  TaglinesYour mind is the scene of the crime  Certificate12+   \n",
       "\n",
       "                                           boxoffice  \\\n",
       "0  Budget$185,000,000 (estimated)Gross US & Canad...   \n",
       "1  Budget$160,000,000 (estimated)Gross US & Canad...   \n",
       "\n",
       "                                           techspecs           title_id  \\\n",
       "0  Runtime2 hours 32 minutesSound mixDolby Digita...  /title/tt0468569/   \n",
       "1  Runtime2 hours 28 minutesColorColorSound mixDo...  /title/tt1375666/   \n",
       "\n",
       "  release_date                country_of_origin  \\\n",
       "0   2008-08-14  [United States, United Kingdom]   \n",
       "1   2010-07-22  [United Kingdom, United States]   \n",
       "\n",
       "                                 production_company  \n",
       "0  [Warner Bros., Legendary Entertainment, Syncopy]  \n",
       "1  [Warner Bros., Legendary Entertainment, Syncopy]  "
      ]
     },
     "execution_count": 154,
     "metadata": {},
     "output_type": "execute_result"
    }
   ],
   "source": [
    "extract_movie_details(action.iloc[:2,:])"
   ]
  },
  {
   "cell_type": "code",
   "execution_count": 8,
   "metadata": {},
   "outputs": [],
   "source": [
    "data_path = '../data/raw/reviews/1pct/action.csv'\n",
    "loader = CSVDataLoader(data_path)"
   ]
  },
  {
   "cell_type": "code",
   "execution_count": 10,
   "metadata": {},
   "outputs": [
    {
     "data": {
      "text/html": [
       "<div>\n",
       "<style scoped>\n",
       "    .dataframe tbody tr th:only-of-type {\n",
       "        vertical-align: middle;\n",
       "    }\n",
       "\n",
       "    .dataframe tbody tr th {\n",
       "        vertical-align: top;\n",
       "    }\n",
       "\n",
       "    .dataframe thead th {\n",
       "        text-align: right;\n",
       "    }\n",
       "</style>\n",
       "<table border=\"1\" class=\"dataframe\">\n",
       "  <thead>\n",
       "    <tr style=\"text-align: right;\">\n",
       "      <th></th>\n",
       "      <th>id</th>\n",
       "      <th>text</th>\n",
       "      <th>rating</th>\n",
       "      <th>date</th>\n",
       "      <th>title</th>\n",
       "      <th>author</th>\n",
       "      <th>helpfulness</th>\n",
       "    </tr>\n",
       "  </thead>\n",
       "  <tbody>\n",
       "    <tr>\n",
       "      <th>0</th>\n",
       "      <td>/title/tt0468569/</td>\n",
       "      <td>Best movie ever. Heath ledger's work is phenom...</td>\n",
       "      <td>10.0</td>\n",
       "      <td>12 January 2021</td>\n",
       "      <td>Perfect combo\\n</td>\n",
       "      <td>/user/ur95396995/?ref_=tt_urv</td>\n",
       "      <td>\\n                    171 out of 185 found thi...</td>\n",
       "    </tr>\n",
       "    <tr>\n",
       "      <th>1</th>\n",
       "      <td>/title/tt0468569/</td>\n",
       "      <td>Totally one of the greatest movie titles ever ...</td>\n",
       "      <td>10.0</td>\n",
       "      <td>9 January 2021</td>\n",
       "      <td>The Dark Knight\\n</td>\n",
       "      <td>/user/ur109215140/?ref_=tt_urv</td>\n",
       "      <td>\\n                    144 out of 158 found thi...</td>\n",
       "    </tr>\n",
       "    <tr>\n",
       "      <th>2</th>\n",
       "      <td>/title/tt0468569/</td>\n",
       "      <td>This movie is a work of art. The finest sequel...</td>\n",
       "      <td>10.0</td>\n",
       "      <td>17 February 2021</td>\n",
       "      <td>This town deserves a better class of criminal!\\n</td>\n",
       "      <td>/user/ur129557514/?ref_=tt_urv</td>\n",
       "      <td>\\n                    50 out of 54 found this ...</td>\n",
       "    </tr>\n",
       "    <tr>\n",
       "      <th>3</th>\n",
       "      <td>/title/tt0468569/</td>\n",
       "      <td>Confidently directed, dark, brooding, and pack...</td>\n",
       "      <td>10.0</td>\n",
       "      <td>12 February 2020</td>\n",
       "      <td>The Dark Knight\\n</td>\n",
       "      <td>/user/ur87850731/?ref_=tt_urv</td>\n",
       "      <td>\\n                    404 out of 471 found thi...</td>\n",
       "    </tr>\n",
       "    <tr>\n",
       "      <th>4</th>\n",
       "      <td>/title/tt0468569/</td>\n",
       "      <td>It is just what you want for the best movie. G...</td>\n",
       "      <td>10.0</td>\n",
       "      <td>7 October 2019</td>\n",
       "      <td>MASTERPIECE\\n</td>\n",
       "      <td>/user/ur108519953/?ref_=tt_urv</td>\n",
       "      <td>\\n                    217 out of 251 found thi...</td>\n",
       "    </tr>\n",
       "  </tbody>\n",
       "</table>\n",
       "</div>"
      ],
      "text/plain": [
       "                  id                                               text  \\\n",
       "0  /title/tt0468569/  Best movie ever. Heath ledger's work is phenom...   \n",
       "1  /title/tt0468569/  Totally one of the greatest movie titles ever ...   \n",
       "2  /title/tt0468569/  This movie is a work of art. The finest sequel...   \n",
       "3  /title/tt0468569/  Confidently directed, dark, brooding, and pack...   \n",
       "4  /title/tt0468569/  It is just what you want for the best movie. G...   \n",
       "\n",
       "   rating              date  \\\n",
       "0    10.0   12 January 2021   \n",
       "1    10.0    9 January 2021   \n",
       "2    10.0  17 February 2021   \n",
       "3    10.0  12 February 2020   \n",
       "4    10.0    7 October 2019   \n",
       "\n",
       "                                               title  \\\n",
       "0                                    Perfect combo\\n   \n",
       "1                                  The Dark Knight\\n   \n",
       "2   This town deserves a better class of criminal!\\n   \n",
       "3                                  The Dark Knight\\n   \n",
       "4                                      MASTERPIECE\\n   \n",
       "\n",
       "                           author  \\\n",
       "0   /user/ur95396995/?ref_=tt_urv   \n",
       "1  /user/ur109215140/?ref_=tt_urv   \n",
       "2  /user/ur129557514/?ref_=tt_urv   \n",
       "3   /user/ur87850731/?ref_=tt_urv   \n",
       "4  /user/ur108519953/?ref_=tt_urv   \n",
       "\n",
       "                                         helpfulness  \n",
       "0  \\n                    171 out of 185 found thi...  \n",
       "1  \\n                    144 out of 158 found thi...  \n",
       "2  \\n                    50 out of 54 found this ...  \n",
       "3  \\n                    404 out of 471 found thi...  \n",
       "4  \\n                    217 out of 251 found thi...  "
      ]
     },
     "execution_count": 10,
     "metadata": {},
     "output_type": "execute_result"
    }
   ],
   "source": [
    "action = loader.load_data()\n",
    "action.head()"
   ]
  },
  {
   "cell_type": "code",
   "execution_count": 27,
   "metadata": {},
   "outputs": [
    {
     "data": {
      "text/plain": [
       "'If someone else acted as Joker, I would give the movie 7-8 stars. The majority of people ended up loving the villain more than the hero, and that rarely happends in movies.Rest in peace Heath Ledger.'"
      ]
     },
     "execution_count": 27,
     "metadata": {},
     "output_type": "execute_result"
    }
   ],
   "source": [
    "action['text'][15]"
   ]
  },
  {
   "cell_type": "code",
   "execution_count": 28,
   "metadata": {},
   "outputs": [],
   "source": [
    "reviews_processor = RawReviewsTransformer(loader)\n",
    "a = reviews_processor.transform()"
   ]
  },
  {
   "cell_type": "code",
   "execution_count": 33,
   "metadata": {},
   "outputs": [
    {
     "data": {
      "text/plain": [
       "0         /user/ur95396995/\n",
       "1        /user/ur109215140/\n",
       "2        /user/ur129557514/\n",
       "3         /user/ur87850731/\n",
       "4        /user/ur108519953/\n",
       "                ...        \n",
       "66269     /user/ur53639379/\n",
       "66270     /user/ur51801975/\n",
       "66271     /user/ur36303263/\n",
       "66272     /user/ur35145579/\n",
       "66273     /user/ur44754847/\n",
       "Name: 0, Length: 66274, dtype: object"
      ]
     },
     "execution_count": 33,
     "metadata": {},
     "output_type": "execute_result"
    }
   ],
   "source": [
    "a['author'].str.split('?', expand=True)[0]"
   ]
  },
  {
   "cell_type": "code",
   "execution_count": 36,
   "metadata": {},
   "outputs": [
    {
     "data": {
      "text/plain": [
       "0                                          Perfect combo\n",
       "1                                        The Dark Knight\n",
       "2         This town deserves a better class of criminal!\n",
       "3                                        The Dark Knight\n",
       "4                                            MASTERPIECE\n",
       "                              ...                       \n",
       "66269                                 Unbelievably awful\n",
       "66270                          How is this rated so low?\n",
       "66271                     Good film despite bad reviews.\n",
       "66272                 Pretty funny for a buddy cop movie\n",
       "66273                                        Funny movie\n",
       "Name: 0, Length: 66274, dtype: object"
      ]
     },
     "execution_count": 36,
     "metadata": {},
     "output_type": "execute_result"
    }
   ],
   "source": [
    "a['title'].str.split('\\n', expand=True)[0]"
   ]
  },
  {
   "cell_type": "code",
   "execution_count": null,
   "metadata": {},
   "outputs": [],
   "source": []
  }
 ],
 "metadata": {
  "interpreter": {
   "hash": "b94e1a786d65ae5959653f3d1112b1212e7c37cf5ba9bdab68295d0cb5ddd1d0"
  },
  "kernelspec": {
   "display_name": "Python 3.9.5 64-bit ('movie_recsys': conda)",
   "language": "python",
   "name": "python3"
  },
  "language_info": {
   "codemirror_mode": {
    "name": "ipython",
    "version": 3
   },
   "file_extension": ".py",
   "mimetype": "text/x-python",
   "name": "python",
   "nbconvert_exporter": "python",
   "pygments_lexer": "ipython3",
   "version": "3.9.5"
  },
  "orig_nbformat": 4
 },
 "nbformat": 4,
 "nbformat_minor": 2
}
