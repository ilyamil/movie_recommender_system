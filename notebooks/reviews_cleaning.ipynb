{
 "cells": [
  {
   "cell_type": "code",
   "execution_count": 1,
   "metadata": {},
   "outputs": [],
   "source": [
    "import os\n",
    "import pandas as pd\n",
    "\n",
    "DATA_DIR = os.path.join('..', 'data', 'raw', 'reviews', '1pct_10pct')"
   ]
  },
  {
   "cell_type": "code",
   "execution_count": 2,
   "metadata": {},
   "outputs": [],
   "source": [
    "genre_df = (pd.read_csv(os.path.join(DATA_DIR, file))\n",
    "            for file in os.listdir(DATA_DIR))\n",
    "\n",
    "reviews = pd.concat(genre_df, ignore_index=True)"
   ]
  },
  {
   "cell_type": "code",
   "execution_count": 3,
   "metadata": {},
   "outputs": [
    {
     "data": {
      "text/html": [
       "<div>\n",
       "<style scoped>\n",
       "    .dataframe tbody tr th:only-of-type {\n",
       "        vertical-align: middle;\n",
       "    }\n",
       "\n",
       "    .dataframe tbody tr th {\n",
       "        vertical-align: top;\n",
       "    }\n",
       "\n",
       "    .dataframe thead th {\n",
       "        text-align: right;\n",
       "    }\n",
       "</style>\n",
       "<table border=\"1\" class=\"dataframe\">\n",
       "  <thead>\n",
       "    <tr style=\"text-align: right;\">\n",
       "      <th></th>\n",
       "      <th>id</th>\n",
       "      <th>text</th>\n",
       "      <th>rating</th>\n",
       "      <th>date</th>\n",
       "      <th>title</th>\n",
       "      <th>author</th>\n",
       "      <th>helpfulness</th>\n",
       "    </tr>\n",
       "  </thead>\n",
       "  <tbody>\n",
       "    <tr>\n",
       "      <th>0</th>\n",
       "      <td>/title/tt0468569/</td>\n",
       "      <td>Best movie ever. Heath ledger's work is phenom...</td>\n",
       "      <td>10.0</td>\n",
       "      <td>12 January 2021</td>\n",
       "      <td>Perfect combo\\n</td>\n",
       "      <td>/user/ur95396995/?ref_=tt_urv</td>\n",
       "      <td>\\n                    171 out of 185 found thi...</td>\n",
       "    </tr>\n",
       "    <tr>\n",
       "      <th>1</th>\n",
       "      <td>/title/tt0468569/</td>\n",
       "      <td>Totally one of the greatest movie titles ever ...</td>\n",
       "      <td>10.0</td>\n",
       "      <td>9 January 2021</td>\n",
       "      <td>The Dark Knight\\n</td>\n",
       "      <td>/user/ur109215140/?ref_=tt_urv</td>\n",
       "      <td>\\n                    144 out of 158 found thi...</td>\n",
       "    </tr>\n",
       "    <tr>\n",
       "      <th>2</th>\n",
       "      <td>/title/tt0468569/</td>\n",
       "      <td>This movie is a work of art. The finest sequel...</td>\n",
       "      <td>10.0</td>\n",
       "      <td>17 February 2021</td>\n",
       "      <td>This town deserves a better class of criminal!\\n</td>\n",
       "      <td>/user/ur129557514/?ref_=tt_urv</td>\n",
       "      <td>\\n                    50 out of 54 found this ...</td>\n",
       "    </tr>\n",
       "    <tr>\n",
       "      <th>3</th>\n",
       "      <td>/title/tt0468569/</td>\n",
       "      <td>Confidently directed, dark, brooding, and pack...</td>\n",
       "      <td>10.0</td>\n",
       "      <td>12 February 2020</td>\n",
       "      <td>The Dark Knight\\n</td>\n",
       "      <td>/user/ur87850731/?ref_=tt_urv</td>\n",
       "      <td>\\n                    404 out of 471 found thi...</td>\n",
       "    </tr>\n",
       "    <tr>\n",
       "      <th>4</th>\n",
       "      <td>/title/tt0468569/</td>\n",
       "      <td>It is just what you want for the best movie. G...</td>\n",
       "      <td>10.0</td>\n",
       "      <td>7 October 2019</td>\n",
       "      <td>MASTERPIECE\\n</td>\n",
       "      <td>/user/ur108519953/?ref_=tt_urv</td>\n",
       "      <td>\\n                    217 out of 251 found thi...</td>\n",
       "    </tr>\n",
       "  </tbody>\n",
       "</table>\n",
       "</div>"
      ],
      "text/plain": [
       "                  id                                               text  \\\n",
       "0  /title/tt0468569/  Best movie ever. Heath ledger's work is phenom...   \n",
       "1  /title/tt0468569/  Totally one of the greatest movie titles ever ...   \n",
       "2  /title/tt0468569/  This movie is a work of art. The finest sequel...   \n",
       "3  /title/tt0468569/  Confidently directed, dark, brooding, and pack...   \n",
       "4  /title/tt0468569/  It is just what you want for the best movie. G...   \n",
       "\n",
       "   rating              date  \\\n",
       "0    10.0   12 January 2021   \n",
       "1    10.0    9 January 2021   \n",
       "2    10.0  17 February 2021   \n",
       "3    10.0  12 February 2020   \n",
       "4    10.0    7 October 2019   \n",
       "\n",
       "                                               title  \\\n",
       "0                                    Perfect combo\\n   \n",
       "1                                  The Dark Knight\\n   \n",
       "2   This town deserves a better class of criminal!\\n   \n",
       "3                                  The Dark Knight\\n   \n",
       "4                                      MASTERPIECE\\n   \n",
       "\n",
       "                           author  \\\n",
       "0   /user/ur95396995/?ref_=tt_urv   \n",
       "1  /user/ur109215140/?ref_=tt_urv   \n",
       "2  /user/ur129557514/?ref_=tt_urv   \n",
       "3   /user/ur87850731/?ref_=tt_urv   \n",
       "4  /user/ur108519953/?ref_=tt_urv   \n",
       "\n",
       "                                         helpfulness  \n",
       "0  \\n                    171 out of 185 found thi...  \n",
       "1  \\n                    144 out of 158 found thi...  \n",
       "2  \\n                    50 out of 54 found this ...  \n",
       "3  \\n                    404 out of 471 found thi...  \n",
       "4  \\n                    217 out of 251 found thi...  "
      ]
     },
     "execution_count": 3,
     "metadata": {},
     "output_type": "execute_result"
    }
   ],
   "source": [
    "reviews.head()"
   ]
  },
  {
   "cell_type": "code",
   "execution_count": 49,
   "metadata": {},
   "outputs": [],
   "source": [
    "class Foo:\n",
    "    def __init__(self, x):\n",
    "        self.x = x\n",
    "\n",
    "    def __call__(self, x):\n",
    "        return x + self.x\n",
    "\n",
    "class Bar:\n",
    "    def __init__(self):\n",
    "        pass\n",
    "\n",
    "    def __call__(self, x):\n",
    "        return x + '__bar'\n",
    "\n",
    "\n",
    "from copy import copy\n",
    "from typing import Iterable, Callable\n",
    "\n",
    "\n",
    "class Pipeline:\n",
    "    def __init__(self, *steps: Iterable[str]):\n",
    "        self._pipeline = []\n",
    "        for step_num, step in enumerate(steps):\n",
    "            if len(step) == 0:\n",
    "                raise AttributeError(f'Step #{step_num + 1} is empty!')\n",
    "            if len(step) != 2:\n",
    "                raise AttributeError(\n",
    "                    'Each step must be of length 2'\n",
    "                    ' and match a form (<step_name>, <step_class>)'\n",
    "                )\n",
    "            self._pipeline.append({'step_name': step[0],\n",
    "                                   'step_func': step[1]})\n",
    "\n",
    "    @property\n",
    "    def schema(self):\n",
    "        print('Pipeline schema:')\n",
    "        for num, step in enumerate(self._pipeline):\n",
    "            name, func = step.values()\n",
    "            print(f'{num + 1}. Name: {name:<5}',\n",
    "                  f'Transformer: {func}', sep='\\n   ')\n",
    "\n",
    "    def compose(self, data):\n",
    "        result = copy(data)\n",
    "        for step in self._pipeline:\n",
    "            step_func = step['step_func']\n",
    "            result = step_func(result)\n",
    "        return result\n",
    "\n",
    "    def __call__(self):\n",
    "        return 1"
   ]
  },
  {
   "cell_type": "code",
   "execution_count": 50,
   "metadata": {},
   "outputs": [],
   "source": [
    "pipeline = Pipeline(('foo', Foo('__foo')), ('bar', Bar()))"
   ]
  },
  {
   "cell_type": "code",
   "execution_count": 51,
   "metadata": {},
   "outputs": [
    {
     "data": {
      "text/plain": [
       "'string__foo__bar'"
      ]
     },
     "execution_count": 51,
     "metadata": {},
     "output_type": "execute_result"
    }
   ],
   "source": [
    "pipeline.compose('string')"
   ]
  },
  {
   "cell_type": "code",
   "execution_count": null,
   "metadata": {},
   "outputs": [],
   "source": []
  }
 ],
 "metadata": {
  "interpreter": {
   "hash": "b94e1a786d65ae5959653f3d1112b1212e7c37cf5ba9bdab68295d0cb5ddd1d0"
  },
  "kernelspec": {
   "display_name": "Python 3.9.5 64-bit ('movie_recsys': conda)",
   "language": "python",
   "name": "python3"
  },
  "language_info": {
   "codemirror_mode": {
    "name": "ipython",
    "version": 3
   },
   "file_extension": ".py",
   "mimetype": "text/x-python",
   "name": "python",
   "nbconvert_exporter": "python",
   "pygments_lexer": "ipython3",
   "version": "3.9.5"
  },
  "orig_nbformat": 4
 },
 "nbformat": 4,
 "nbformat_minor": 2
}
