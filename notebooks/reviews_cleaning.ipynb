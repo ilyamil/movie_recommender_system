{
 "cells": [
  {
   "cell_type": "code",
   "execution_count": 9,
   "metadata": {},
   "outputs": [],
   "source": [
    "import os\n",
    "import pandas as pd\n",
    "\n",
    "DATA_DIR = os.path.join('..', 'data', 'raw', 'reviews', '1pct_10pct')"
   ]
  },
  {
   "cell_type": "code",
   "execution_count": 11,
   "metadata": {},
   "outputs": [],
   "source": [
    "genre_df = (pd.read_csv(os.path.join(DATA_DIR, file))\n",
    "            for file in os.listdir(DATA_DIR))\n",
    "\n",
    "reviews = pd.concat(genre_df, ignore_index=True)"
   ]
  },
  {
   "cell_type": "code",
   "execution_count": 16,
   "metadata": {},
   "outputs": [
    {
     "data": {
      "text/html": [
       "<div>\n",
       "<style scoped>\n",
       "    .dataframe tbody tr th:only-of-type {\n",
       "        vertical-align: middle;\n",
       "    }\n",
       "\n",
       "    .dataframe tbody tr th {\n",
       "        vertical-align: top;\n",
       "    }\n",
       "\n",
       "    .dataframe thead th {\n",
       "        text-align: right;\n",
       "    }\n",
       "</style>\n",
       "<table border=\"1\" class=\"dataframe\">\n",
       "  <thead>\n",
       "    <tr style=\"text-align: right;\">\n",
       "      <th></th>\n",
       "      <th>id</th>\n",
       "      <th>text</th>\n",
       "      <th>rating</th>\n",
       "      <th>date</th>\n",
       "      <th>title</th>\n",
       "      <th>author</th>\n",
       "      <th>helpfulness</th>\n",
       "    </tr>\n",
       "  </thead>\n",
       "  <tbody>\n",
       "    <tr>\n",
       "      <th>0</th>\n",
       "      <td>/title/tt0468569/</td>\n",
       "      <td>Best movie ever. Heath ledger's work is phenom...</td>\n",
       "      <td>10.0</td>\n",
       "      <td>12 January 2021</td>\n",
       "      <td>Perfect combo\\n</td>\n",
       "      <td>/user/ur95396995/?ref_=tt_urv</td>\n",
       "      <td>\\n                    171 out of 185 found thi...</td>\n",
       "    </tr>\n",
       "    <tr>\n",
       "      <th>1</th>\n",
       "      <td>/title/tt0468569/</td>\n",
       "      <td>Totally one of the greatest movie titles ever ...</td>\n",
       "      <td>10.0</td>\n",
       "      <td>9 January 2021</td>\n",
       "      <td>The Dark Knight\\n</td>\n",
       "      <td>/user/ur109215140/?ref_=tt_urv</td>\n",
       "      <td>\\n                    144 out of 158 found thi...</td>\n",
       "    </tr>\n",
       "    <tr>\n",
       "      <th>2</th>\n",
       "      <td>/title/tt0468569/</td>\n",
       "      <td>This movie is a work of art. The finest sequel...</td>\n",
       "      <td>10.0</td>\n",
       "      <td>17 February 2021</td>\n",
       "      <td>This town deserves a better class of criminal!\\n</td>\n",
       "      <td>/user/ur129557514/?ref_=tt_urv</td>\n",
       "      <td>\\n                    50 out of 54 found this ...</td>\n",
       "    </tr>\n",
       "    <tr>\n",
       "      <th>3</th>\n",
       "      <td>/title/tt0468569/</td>\n",
       "      <td>Confidently directed, dark, brooding, and pack...</td>\n",
       "      <td>10.0</td>\n",
       "      <td>12 February 2020</td>\n",
       "      <td>The Dark Knight\\n</td>\n",
       "      <td>/user/ur87850731/?ref_=tt_urv</td>\n",
       "      <td>\\n                    404 out of 471 found thi...</td>\n",
       "    </tr>\n",
       "    <tr>\n",
       "      <th>4</th>\n",
       "      <td>/title/tt0468569/</td>\n",
       "      <td>It is just what you want for the best movie. G...</td>\n",
       "      <td>10.0</td>\n",
       "      <td>7 October 2019</td>\n",
       "      <td>MASTERPIECE\\n</td>\n",
       "      <td>/user/ur108519953/?ref_=tt_urv</td>\n",
       "      <td>\\n                    217 out of 251 found thi...</td>\n",
       "    </tr>\n",
       "  </tbody>\n",
       "</table>\n",
       "</div>"
      ],
      "text/plain": [
       "                  id                                               text  \\\n",
       "0  /title/tt0468569/  Best movie ever. Heath ledger's work is phenom...   \n",
       "1  /title/tt0468569/  Totally one of the greatest movie titles ever ...   \n",
       "2  /title/tt0468569/  This movie is a work of art. The finest sequel...   \n",
       "3  /title/tt0468569/  Confidently directed, dark, brooding, and pack...   \n",
       "4  /title/tt0468569/  It is just what you want for the best movie. G...   \n",
       "\n",
       "   rating              date  \\\n",
       "0    10.0   12 January 2021   \n",
       "1    10.0    9 January 2021   \n",
       "2    10.0  17 February 2021   \n",
       "3    10.0  12 February 2020   \n",
       "4    10.0    7 October 2019   \n",
       "\n",
       "                                               title  \\\n",
       "0                                    Perfect combo\\n   \n",
       "1                                  The Dark Knight\\n   \n",
       "2   This town deserves a better class of criminal!\\n   \n",
       "3                                  The Dark Knight\\n   \n",
       "4                                      MASTERPIECE\\n   \n",
       "\n",
       "                           author  \\\n",
       "0   /user/ur95396995/?ref_=tt_urv   \n",
       "1  /user/ur109215140/?ref_=tt_urv   \n",
       "2  /user/ur129557514/?ref_=tt_urv   \n",
       "3   /user/ur87850731/?ref_=tt_urv   \n",
       "4  /user/ur108519953/?ref_=tt_urv   \n",
       "\n",
       "                                         helpfulness  \n",
       "0  \\n                    171 out of 185 found thi...  \n",
       "1  \\n                    144 out of 158 found thi...  \n",
       "2  \\n                    50 out of 54 found this ...  \n",
       "3  \\n                    404 out of 471 found thi...  \n",
       "4  \\n                    217 out of 251 found thi...  "
      ]
     },
     "execution_count": 16,
     "metadata": {},
     "output_type": "execute_result"
    }
   ],
   "source": [
    "reviews.head()"
   ]
  },
  {
   "cell_type": "code",
   "execution_count": 18,
   "metadata": {},
   "outputs": [
    {
     "data": {
      "text/plain": [
       "156531"
      ]
     },
     "execution_count": 18,
     "metadata": {},
     "output_type": "execute_result"
    }
   ],
   "source": [
    "def split_helpfulness_col(df_raw: pd.DataFrame) -> pd.DataFrame:\n",
    "    \"\"\"\n",
    "    Split 'helpfulness' column of input dataframe into two\n",
    "    distinct columns: 'upvotes' and 'total_votes'.\n",
    "\n",
    "    Args:\n",
    "        df_raw (pd.DataFrame): input data with column \n",
    "\n",
    "    Returns:\n",
    "        pd.DataFrame: Output data frame \n",
    "    \"\"\"\n",
    "    df_ = df_raw.copy(deep=False)\n",
    "    df_[['upvotes', 'total_votes']] = (\n",
    "        reviews['helpfulness']\n",
    "        .str.replace(',', '')\n",
    "        .str.extractall('(\\d+)')\n",
    "        .unstack('match')\n",
    "        .values\n",
    "    )\n",
    "    return df_.drop(columns=['helpfulness'])\n",
    "    "
   ]
  },
  {
   "cell_type": "code",
   "execution_count": 46,
   "metadata": {},
   "outputs": [
    {
     "data": {
      "text/html": [
       "<div>\n",
       "<style scoped>\n",
       "    .dataframe tbody tr th:only-of-type {\n",
       "        vertical-align: middle;\n",
       "    }\n",
       "\n",
       "    .dataframe tbody tr th {\n",
       "        vertical-align: top;\n",
       "    }\n",
       "\n",
       "    .dataframe thead tr th {\n",
       "        text-align: left;\n",
       "    }\n",
       "</style>\n",
       "<table border=\"1\" class=\"dataframe\">\n",
       "  <thead>\n",
       "    <tr>\n",
       "      <th></th>\n",
       "      <th colspan=\"2\" halign=\"left\">0</th>\n",
       "    </tr>\n",
       "    <tr>\n",
       "      <th>match</th>\n",
       "      <th>0</th>\n",
       "      <th>1</th>\n",
       "    </tr>\n",
       "  </thead>\n",
       "  <tbody>\n",
       "    <tr>\n",
       "      <th>0</th>\n",
       "      <td>171</td>\n",
       "      <td>185</td>\n",
       "    </tr>\n",
       "    <tr>\n",
       "      <th>1</th>\n",
       "      <td>144</td>\n",
       "      <td>158</td>\n",
       "    </tr>\n",
       "    <tr>\n",
       "      <th>2</th>\n",
       "      <td>50</td>\n",
       "      <td>54</td>\n",
       "    </tr>\n",
       "    <tr>\n",
       "      <th>3</th>\n",
       "      <td>404</td>\n",
       "      <td>471</td>\n",
       "    </tr>\n",
       "    <tr>\n",
       "      <th>4</th>\n",
       "      <td>217</td>\n",
       "      <td>251</td>\n",
       "    </tr>\n",
       "    <tr>\n",
       "      <th>...</th>\n",
       "      <td>...</td>\n",
       "      <td>...</td>\n",
       "    </tr>\n",
       "    <tr>\n",
       "      <th>604280</th>\n",
       "      <td>8</td>\n",
       "      <td>12</td>\n",
       "    </tr>\n",
       "    <tr>\n",
       "      <th>604281</th>\n",
       "      <td>12</td>\n",
       "      <td>20</td>\n",
       "    </tr>\n",
       "    <tr>\n",
       "      <th>604282</th>\n",
       "      <td>4</td>\n",
       "      <td>5</td>\n",
       "    </tr>\n",
       "    <tr>\n",
       "      <th>604283</th>\n",
       "      <td>4</td>\n",
       "      <td>5</td>\n",
       "    </tr>\n",
       "    <tr>\n",
       "      <th>604284</th>\n",
       "      <td>10</td>\n",
       "      <td>17</td>\n",
       "    </tr>\n",
       "  </tbody>\n",
       "</table>\n",
       "<p>604285 rows × 2 columns</p>\n",
       "</div>"
      ],
      "text/plain": [
       "          0     \n",
       "match     0    1\n",
       "0       171  185\n",
       "1       144  158\n",
       "2        50   54\n",
       "3       404  471\n",
       "4       217  251\n",
       "...     ...  ...\n",
       "604280    8   12\n",
       "604281   12   20\n",
       "604282    4    5\n",
       "604283    4    5\n",
       "604284   10   17\n",
       "\n",
       "[604285 rows x 2 columns]"
      ]
     },
     "execution_count": 46,
     "metadata": {},
     "output_type": "execute_result"
    }
   ],
   "source": [
    "result = (\n",
    "    reviews['helpfulness']\n",
    "    .str.replace(',', '')\n",
    "    .str.extractall('(\\d+)')\n",
    "    .unstack('match')\n",
    ")\n",
    "result"
   ]
  },
  {
   "cell_type": "code",
   "execution_count": 52,
   "metadata": {},
   "outputs": [
    {
     "data": {
      "text/html": [
       "<div>\n",
       "<style scoped>\n",
       "    .dataframe tbody tr th:only-of-type {\n",
       "        vertical-align: middle;\n",
       "    }\n",
       "\n",
       "    .dataframe tbody tr th {\n",
       "        vertical-align: top;\n",
       "    }\n",
       "\n",
       "    .dataframe thead th {\n",
       "        text-align: right;\n",
       "    }\n",
       "</style>\n",
       "<table border=\"1\" class=\"dataframe\">\n",
       "  <thead>\n",
       "    <tr style=\"text-align: right;\">\n",
       "      <th></th>\n",
       "      <th>id</th>\n",
       "      <th>helpfulness</th>\n",
       "    </tr>\n",
       "  </thead>\n",
       "  <tbody>\n",
       "    <tr>\n",
       "      <th>0</th>\n",
       "      <td>1</td>\n",
       "      <td>10 out of 12</td>\n",
       "    </tr>\n",
       "    <tr>\n",
       "      <th>1</th>\n",
       "      <td>2</td>\n",
       "      <td>100 out of 101</td>\n",
       "    </tr>\n",
       "  </tbody>\n",
       "</table>\n",
       "</div>"
      ],
      "text/plain": [
       "   id     helpfulness\n",
       "0   1    10 out of 12\n",
       "1   2  100 out of 101"
      ]
     },
     "execution_count": 52,
     "metadata": {},
     "output_type": "execute_result"
    }
   ],
   "source": [
    "data = [\n",
    "    {'id': 1, 'helpfulness': '10 out of 12'},\n",
    "    {'id': 2, 'helpfulness': '100 out of 101'}\n",
    "]\n",
    "pd.DataFrame(data)"
   ]
  },
  {
   "cell_type": "code",
   "execution_count": 54,
   "metadata": {},
   "outputs": [
    {
     "data": {
      "text/plain": [
       "'\\n                    171 out of 185 found this helpful.\\n                        \\n                            Was this review helpful?  Sign in to vote.\\n                        \\n\\nPermalink\\n'"
      ]
     },
     "execution_count": 54,
     "metadata": {},
     "output_type": "execute_result"
    }
   ],
   "source": [
    "reviews['helpfulness'][0]"
   ]
  },
  {
   "cell_type": "code",
   "execution_count": 62,
   "metadata": {},
   "outputs": [
    {
     "data": {
      "text/plain": [
       "id        /title/tt0468569/\n",
       "rating                 10.0\n",
       "Name: 0, dtype: object"
      ]
     },
     "execution_count": 62,
     "metadata": {},
     "output_type": "execute_result"
    }
   ],
   "source": [
    "reviews.loc[0, ['id', 'rating']]"
   ]
  },
  {
   "cell_type": "code",
   "execution_count": 67,
   "metadata": {},
   "outputs": [
    {
     "data": {
      "text/plain": [
       "0        2021-01-12\n",
       "1        2021-01-09\n",
       "2        2021-02-17\n",
       "3        2020-02-12\n",
       "4        2019-10-07\n",
       "            ...    \n",
       "604280   2010-02-04\n",
       "604281   2000-03-06\n",
       "604282   2020-03-08\n",
       "604283   2019-09-24\n",
       "604284   2011-01-09\n",
       "Name: date, Length: 604285, dtype: datetime64[ns]"
      ]
     },
     "execution_count": 67,
     "metadata": {},
     "output_type": "execute_result"
    }
   ],
   "source": [
    "dates = pd.to_datetime(reviews['date'])\n",
    "dates"
   ]
  },
  {
   "cell_type": "code",
   "execution_count": 70,
   "metadata": {},
   "outputs": [
    {
     "data": {
      "text/plain": [
       "datetime.date(2021, 1, 12)"
      ]
     },
     "execution_count": 70,
     "metadata": {},
     "output_type": "execute_result"
    }
   ],
   "source": [
    "dates[0].date()"
   ]
  },
  {
   "cell_type": "code",
   "execution_count": 71,
   "metadata": {},
   "outputs": [],
   "source": [
    "from datetime import datetime"
   ]
  },
  {
   "cell_type": "code",
   "execution_count": 77,
   "metadata": {},
   "outputs": [
    {
     "data": {
      "text/plain": [
       "True"
      ]
     },
     "execution_count": 77,
     "metadata": {},
     "output_type": "execute_result"
    }
   ],
   "source": [
    "datetime(2021, 1, 12).date() == dates[0].date()"
   ]
  },
  {
   "cell_type": "code",
   "execution_count": 74,
   "metadata": {},
   "outputs": [
    {
     "data": {
      "text/plain": [
       "datetime.date(2021, 1, 12)"
      ]
     },
     "execution_count": 74,
     "metadata": {},
     "output_type": "execute_result"
    }
   ],
   "source": [
    "dates[0].date()"
   ]
  },
  {
   "cell_type": "code",
   "execution_count": 76,
   "metadata": {},
   "outputs": [
    {
     "data": {
      "text/plain": [
       "datetime.date(2021, 1, 12)"
      ]
     },
     "execution_count": 76,
     "metadata": {},
     "output_type": "execute_result"
    }
   ],
   "source": [
    "datetime(2021, 1, 12).date()"
   ]
  },
  {
   "cell_type": "code",
   "execution_count": 78,
   "metadata": {},
   "outputs": [],
   "source": [
    "from recsys.utils import dump_obj"
   ]
  },
  {
   "cell_type": "code",
   "execution_count": 79,
   "metadata": {},
   "outputs": [],
   "source": [
    "import requests"
   ]
  },
  {
   "cell_type": "code",
   "execution_count": 86,
   "metadata": {},
   "outputs": [],
   "source": [
    "s = requests.get('https://www.imdb.com/title/tt7991608/?ref_=adv_li_tt')"
   ]
  },
  {
   "cell_type": "code",
   "execution_count": 87,
   "metadata": {},
   "outputs": [],
   "source": [
    "from bs4 import BeautifulSoup"
   ]
  },
  {
   "cell_type": "code",
   "execution_count": 89,
   "metadata": {},
   "outputs": [],
   "source": [
    "soup = BeautifulSoup(s.text, 'lxml')"
   ]
  },
  {
   "cell_type": "code",
   "execution_count": 95,
   "metadata": {},
   "outputs": [
    {
     "data": {
      "text/plain": [
       "bs4.BeautifulSoup"
      ]
     },
     "execution_count": 95,
     "metadata": {},
     "output_type": "execute_result"
    }
   ],
   "source": [
    "type(soup)"
   ]
  },
  {
   "cell_type": "code",
   "execution_count": 150,
   "metadata": {},
   "outputs": [],
   "source": [
    "import re\n",
    "from typing import Optional, Dict, Any\n",
    "from recsys.utils import send_request\n",
    "\n",
    "BASE_URL = 'https://www.imdb.com{}'\n",
    "\n",
    "def collect_original_title(soup: BeautifulSoup) -> Optional[str]:\n",
    "    try:\n",
    "        return (\n",
    "            soup\n",
    "            .find('div', {'data-testid': 'hero-title-block__original-title'})\n",
    "            .text\n",
    "        )\n",
    "    except Exception:\n",
    "        return None\n",
    "\n",
    "\n",
    "def collect_poster(soup: BeautifulSoup) -> Optional[bytes]:\n",
    "    try:\n",
    "        img_id = (\n",
    "            soup\n",
    "            .find('a', {'aria-label': 'View {Title} Poster'})\n",
    "            .get('href')\n",
    "            .split('?')[0]\n",
    "        )\n",
    "        inter_response = send_request(BASE_URL.format(img_id))\n",
    "        img_download_link = (\n",
    "            BeautifulSoup(inter_response.text, 'lxml')\n",
    "            .find('img')['src']\n",
    "        )\n",
    "        response = send_request(img_download_link)\n",
    "        return response.content\n",
    "    except Exception:\n",
    "        return None\n",
    "\n",
    "\n",
    "def collect_review_content(soup: BeautifulSoup)\\\n",
    "        -> Optional[Dict[str, Any]]:\n",
    "    review_content_raw = (\n",
    "        soup\n",
    "        .find('ul', {'data-testid': 'reviewContent-all-reviews'})\n",
    "        .find_all('span', {'class', 'three-Elements'})\n",
    "    )\n",
    "\n",
    "    try:\n",
    "        user_reviews = review_content_raw[0].text\n",
    "    except Exception:\n",
    "        user_reviews = None\n",
    "\n",
    "    try:\n",
    "        critic_reviews = review_content_raw[1].text\n",
    "    except Exception:\n",
    "        critic_reviews = None\n",
    "\n",
    "    try:\n",
    "        metascore = review_content_raw[2].text\n",
    "    except Exception:\n",
    "        metascore = None\n",
    "\n",
    "    return {\n",
    "        'n_user_reviews': user_reviews,\n",
    "        'n_critic_reviews': critic_reviews,\n",
    "        'metascore': metascore,\n",
    "    }\n",
    "\n",
    "def collect_aggregate_rating(soup: BeautifulSoup) -> Optional[str]:\n",
    "    try:\n",
    "        regexp = re.compile('AggregateRatingButton')\n",
    "        return (\n",
    "            soup\n",
    "            .find('div', {'class', regexp})\n",
    "            .text\n",
    "        )\n",
    "    except Exception:\n",
    "        return None\n",
    "\n",
    "\n",
    "details = {\n",
    "    'original_title': collect_original_title,\n",
    "    'poster': collect_poster,\n",
    "    'review_content': collect_review_content\n",
    "}"
   ]
  },
  {
   "cell_type": "code",
   "execution_count": 194,
   "metadata": {},
   "outputs": [],
   "source": [
    "from recsys.imdb_parser.details import DetailsCollector"
   ]
  },
  {
   "cell_type": "code",
   "execution_count": 101,
   "metadata": {},
   "outputs": [],
   "source": [
    "from PIL import Image\n",
    "import io\n",
    "\n",
    "image = Image.open(io.BytesIO(img.content))\n",
    "image.show()"
   ]
  },
  {
   "cell_type": "code",
   "execution_count": 208,
   "metadata": {},
   "outputs": [
    {
     "data": {
      "text/plain": [
       "'Certificate12+'"
      ]
     },
     "execution_count": 208,
     "metadata": {},
     "output_type": "execute_result"
    }
   ],
   "source": [
    "soup.find('li', {'data-testid': 'storyline-certificate'}).text"
   ]
  },
  {
   "cell_type": "code",
   "execution_count": 217,
   "metadata": {},
   "outputs": [
    {
     "data": {
      "text/plain": [
       "['Release dateNovember 12, 2021 (Russia)',\n",
       " 'United StatesOfficial siteOfficial NetflixLanguagesEnglishRussianItalianSpanishIndonesianAlso known asRed NoticeFilming locationsRome, ItalyProduction companiesNetflixSeven Bucks ProductionsFlynn Picture CompanySee more company credits at IMDbPro']"
      ]
     },
     "execution_count": 217,
     "metadata": {},
     "output_type": "execute_result"
    }
   ],
   "source": [
    "sections = [\n",
    "    'Release date',\n",
    "    'Country of origin',\n",
    "    'Official site',\n",
    "    'Languages',\n",
    "    'Also known as',\n",
    "    'Filming locations',\n",
    "    'Production companies'\n",
    "]\n",
    "details = soup.find('div', {'data-testid': 'title-details-section'}).text\n",
    "details.split(sections[1])"
   ]
  },
  {
   "cell_type": "code",
   "execution_count": 218,
   "metadata": {},
   "outputs": [
    {
     "data": {
      "text/plain": [
       "{'Release date': 'November 12, 2021 (Russia)',\n",
       " 'Country of origin': 'United States',\n",
       " 'Official site': 'Official Netflix',\n",
       " 'Languages': 'EnglishRussianItalianSpanishIndonesian',\n",
       " 'Also known as': 'Red Notice',\n",
       " 'Filming locations': 'Rome, Italy'}"
      ]
     },
     "execution_count": 218,
     "metadata": {},
     "output_type": "execute_result"
    }
   ],
   "source": [
    "from typing import List\n",
    "\n",
    "sections = [\n",
    "    'Release date',\n",
    "    'Country of origin',\n",
    "    'Official site',\n",
    "    'Languages',\n",
    "    'Also known as',\n",
    "    'Filming locations',\n",
    "    'Production companies'\n",
    "]\n",
    "\n",
    "def extract_substrings_between_sections(details_str: str, sections: List[str])\\\n",
    "    -> Optional[Dict[str, str]]:\n",
    "    details = {}\n",
    "    for section_num in range(len(sections) - 1):\n",
    "        start = sections[section_num]\n",
    "        end = sections[section_num + 1]\n",
    "        left_loc = details_str.find(start)\n",
    "        right_loc = details_str.rfind(end)\n",
    "        details[start] = details_str[left_loc + len(start): right_loc]\n",
    "    return details"
   ]
  },
  {
   "cell_type": "code",
   "execution_count": 248,
   "metadata": {},
   "outputs": [
    {
     "name": "stdout",
     "output_type": "stream",
     "text": [
      "{'anchor1': ' some string ', 'anchor2': ' another string'}\n",
      "{'anchor1': ' some string ', 'anchor2': ' another string', 'anchor3': None, 'anchor4': None}\n",
      "{'anchor1': ' some string ', 'anchor2': ' another string', 'anchor3': None, 'anchor4': None}\n"
     ]
    }
   ],
   "source": [
    "def extract_substrings_after_anchors(details_str: str, anchors: List[str])\\\n",
    "    -> Optional[Dict[str, str]]:\n",
    "    details = {}\n",
    "    empty_anchords = [anchor for anchor in anchors if anchor not in details_str]\n",
    "    use_anchors = [anchor for anchor in anchors if anchor not in empty_anchords]\n",
    "    for section_num in range(len(use_anchors)):\n",
    "        start = use_anchors[section_num]\n",
    "        left_loc = details_str.find(start)\n",
    "        if section_num != len(use_anchors) - 1:\n",
    "            end = use_anchors[section_num + 1]\n",
    "            right_loc = details_str.rfind(end)\n",
    "            details[start] = details_str[left_loc + len(start): right_loc]\n",
    "        else:\n",
    "            details[start] = details_str[left_loc + len(start):]\n",
    "    details.update(**dict.fromkeys(empty_anchords))\n",
    "    return details\n",
    "\n",
    "\n",
    "def test_extract_substrings_after_anchors():\n",
    "    s = 'anchor1 some string anchor2 another string'\n",
    "    anchors = ['anchor1', 'anchor2', 'anchor3', 'anchor4']\n",
    "    substrings = extract_substrings_after_anchors(s, anchors)\n",
    "    print(substrings)\n",
    "    # assert all(anchor in substrings.keys() for anchor in anchors)\n",
    "\n",
    "\n",
    "test_extract_substrings_after_anchors()"
   ]
  },
  {
   "cell_type": "code",
   "execution_count": null,
   "metadata": {},
   "outputs": [],
   "source": []
  }
 ],
 "metadata": {
  "interpreter": {
   "hash": "b94e1a786d65ae5959653f3d1112b1212e7c37cf5ba9bdab68295d0cb5ddd1d0"
  },
  "kernelspec": {
   "display_name": "Python 3.9.5 64-bit ('movie_recsys': conda)",
   "language": "python",
   "name": "python3"
  },
  "language_info": {
   "codemirror_mode": {
    "name": "ipython",
    "version": 3
   },
   "file_extension": ".py",
   "mimetype": "text/x-python",
   "name": "python",
   "nbconvert_exporter": "python",
   "pygments_lexer": "ipython3",
   "version": "3.9.5"
  },
  "orig_nbformat": 4
 },
 "nbformat": 4,
 "nbformat_minor": 2
}
