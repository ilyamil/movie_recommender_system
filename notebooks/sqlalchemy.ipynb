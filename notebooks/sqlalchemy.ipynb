{
 "cells": [
  {
   "cell_type": "code",
   "execution_count": 1,
   "metadata": {},
   "outputs": [],
   "source": [
    "import sqlalchemy as db\n",
    "import sqlite3 as sqlite\n",
    "import os"
   ]
  },
  {
   "cell_type": "code",
   "execution_count": 11,
   "metadata": {},
   "outputs": [],
   "source": [
    "engine = db.create_engine('sqlite:///' + os.path.abspath(DB_PATH))"
   ]
  },
  {
   "cell_type": "code",
   "execution_count": 12,
   "metadata": {},
   "outputs": [],
   "source": [
    "conn = engine.connect()"
   ]
  },
  {
   "cell_type": "code",
   "execution_count": 16,
   "metadata": {},
   "outputs": [],
   "source": [
    "metadata = db.MetaData()\n",
    "\n",
    "emp = db.Table('emp', metadata,\n",
    "              db.Column('Id', db.Integer()),\n",
    "              db.Column('name', db.String(255), nullable=False),\n",
    "              db.Column('salary', db.Float(), default=100.0),\n",
    "              db.Column('active', db.Boolean(), default=True)\n",
    "              )\n",
    "metadata.create_all(engine)"
   ]
  },
  {
   "cell_type": "code",
   "execution_count": 17,
   "metadata": {},
   "outputs": [],
   "source": [
    "#Inserting many records at ones\n",
    "query = db.insert(emp) \n",
    "values_list = [{'Id':'2', 'name':'ram', 'salary':80000, 'active':False},\n",
    "               {'Id':'3', 'name':'ramesh', 'salary':70000, 'active':True}]\n",
    "ResultProxy = conn.execute(query,values_list)"
   ]
  },
  {
   "cell_type": "code",
   "execution_count": 18,
   "metadata": {},
   "outputs": [
    {
     "data": {
      "text/html": [
       "<div>\n",
       "<style scoped>\n",
       "    .dataframe tbody tr th:only-of-type {\n",
       "        vertical-align: middle;\n",
       "    }\n",
       "\n",
       "    .dataframe tbody tr th {\n",
       "        vertical-align: top;\n",
       "    }\n",
       "\n",
       "    .dataframe thead th {\n",
       "        text-align: right;\n",
       "    }\n",
       "</style>\n",
       "<table border=\"1\" class=\"dataframe\">\n",
       "  <thead>\n",
       "    <tr style=\"text-align: right;\">\n",
       "      <th></th>\n",
       "      <th>Id</th>\n",
       "      <th>name</th>\n",
       "      <th>salary</th>\n",
       "      <th>active</th>\n",
       "    </tr>\n",
       "  </thead>\n",
       "  <tbody>\n",
       "    <tr>\n",
       "      <th>0</th>\n",
       "      <td>2</td>\n",
       "      <td>ram</td>\n",
       "      <td>80000.0</td>\n",
       "      <td>False</td>\n",
       "    </tr>\n",
       "    <tr>\n",
       "      <th>1</th>\n",
       "      <td>3</td>\n",
       "      <td>ramesh</td>\n",
       "      <td>70000.0</td>\n",
       "      <td>True</td>\n",
       "    </tr>\n",
       "  </tbody>\n",
       "</table>\n",
       "</div>"
      ],
      "text/plain": [
       "   Id    name   salary  active\n",
       "0   2     ram  80000.0   False\n",
       "1   3  ramesh  70000.0    True"
      ]
     },
     "execution_count": 18,
     "metadata": {},
     "output_type": "execute_result"
    }
   ],
   "source": [
    "import pandas as pd\n",
    "\n",
    "results = conn.execute(db.select([emp])).fetchall()\n",
    "df = pd.DataFrame(results)\n",
    "df.columns = results[0].keys()\n",
    "df.head(4)"
   ]
  },
  {
   "cell_type": "code",
   "execution_count": 12,
   "metadata": {},
   "outputs": [],
   "source": [
    "from pathlib import Path\n",
    "\n",
    "DB_PATH = os.path.join('..', 'data', 'movie_metadata.db')\n",
    "DB_URL = 'sqlite://' + str(Path(DB_PATH).resolve())\n",
    "\n",
    "\n",
    "import sqlite3 as sqlite\n",
    "\n",
    "def create_sqlite_db(path: str):\n",
    "    conn = None\n",
    "    try:\n",
    "        conn = sqlite.connect(path)\n",
    "    except sqlite.Error as error:\n",
    "        raise error\n",
    "    finally:\n",
    "        if conn:\n",
    "            conn.close()\n",
    "\n",
    "create_sqlite_db(DB_PATH)"
   ]
  },
  {
   "cell_type": "code",
   "execution_count": 13,
   "metadata": {},
   "outputs": [],
   "source": [
    "conn = sqlite.connect(DB_PATH) \n",
    "c = conn.cursor()\n",
    "\n",
    "c.execute('''\n",
    "          CREATE TABLE IF NOT EXISTS products\n",
    "          ([product_id] INTEGER PRIMARY KEY, [product_name] TEXT)\n",
    "          ''')\n",
    "          \n",
    "c.execute('''\n",
    "          CREATE TABLE IF NOT EXISTS prices\n",
    "          ([product_id] INTEGER PRIMARY KEY, [price] INTEGER)\n",
    "          ''')\n",
    "                     \n",
    "conn.commit()"
   ]
  },
  {
   "cell_type": "code",
   "execution_count": 14,
   "metadata": {},
   "outputs": [],
   "source": [
    "c.execute('''\n",
    "          INSERT INTO products (product_id, product_name)\n",
    "\n",
    "                VALUES\n",
    "                (1,'Computer'),\n",
    "                (2,'Printer'),\n",
    "                (3,'Tablet'),\n",
    "                (4,'Desk'),\n",
    "                (5,'Chair')\n",
    "          ''')\n",
    "\n",
    "c.execute('''\n",
    "          INSERT INTO prices (product_id, price)\n",
    "\n",
    "                VALUES\n",
    "                (1,800),\n",
    "                (2,200),\n",
    "                (3,300),\n",
    "                (4,450),\n",
    "                (5,150)\n",
    "          ''')\n",
    "\n",
    "conn.commit()"
   ]
  },
  {
   "cell_type": "code",
   "execution_count": 16,
   "metadata": {},
   "outputs": [
    {
     "name": "stdout",
     "output_type": "stream",
     "text": [
      "  product_name  price\n",
      "0     Computer    800\n",
      "1      Printer    200\n",
      "2       Tablet    300\n",
      "3         Desk    450\n",
      "4        Chair    150\n"
     ]
    }
   ],
   "source": [
    "import pandas as pd\n",
    "\n",
    "c = conn.cursor()\n",
    "                   \n",
    "c.execute('''\n",
    "          SELECT\n",
    "          a.product_name,\n",
    "          b.price\n",
    "          FROM products a\n",
    "          LEFT JOIN prices b ON a.product_id = b.product_id\n",
    "          ''')\n",
    "\n",
    "df = pd.DataFrame(c.fetchall(), columns=['product_name','price'])\n",
    "print(df)"
   ]
  },
  {
   "cell_type": "code",
   "execution_count": 20,
   "metadata": {},
   "outputs": [
    {
     "data": {
      "text/plain": [
       "[[(800,)]]"
      ]
     },
     "execution_count": 20,
     "metadata": {},
     "output_type": "execute_result"
    }
   ],
   "source": [
    "c.execute('SELECT MAX(price) from prices').fetchall()"
   ]
  },
  {
   "cell_type": "code",
   "execution_count": null,
   "metadata": {},
   "outputs": [],
   "source": []
  }
 ],
 "metadata": {
  "interpreter": {
   "hash": "b94e1a786d65ae5959653f3d1112b1212e7c37cf5ba9bdab68295d0cb5ddd1d0"
  },
  "kernelspec": {
   "display_name": "Python 3.9.5 64-bit ('movie_recsys': conda)",
   "language": "python",
   "name": "python3"
  },
  "language_info": {
   "codemirror_mode": {
    "name": "ipython",
    "version": 3
   },
   "file_extension": ".py",
   "mimetype": "text/x-python",
   "name": "python",
   "nbconvert_exporter": "python",
   "pygments_lexer": "ipython3",
   "version": "3.9.5"
  },
  "orig_nbformat": 4
 },
 "nbformat": 4,
 "nbformat_minor": 2
}
