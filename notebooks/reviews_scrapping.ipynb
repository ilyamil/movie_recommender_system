{
 "cells": [
  {
   "cell_type": "code",
   "execution_count": 5,
   "metadata": {},
   "outputs": [],
   "source": [
    "import requests\n",
    "from bs4 import BeautifulSoup\n",
    "\n",
    "TEST_ID = '/title/tt13433812/'\n",
    "start_url = f'https://www.imdb.com{TEST_ID}reviews?ref_=tt_urv'\n",
    "link = f'https://www.imdb.com{TEST_ID}reviews/_ajax'\n",
    "\n",
    "params = {\n",
    "    'ref_': 'undefined',\n",
    "    'paginationKey': ''\n",
    "}\n",
    "\n",
    "with requests.Session() as s:\n",
    "    s.headers['User-Agent'] = 'Mozilla/5.0 (Windows NT 6.1) AppleWebKit/537.36 (KHTML, like Gecko) Chrome/88.0.4324.150 Safari/537.36'\n",
    "    res = s.get(start_url)\n",
    "\n",
    "    title_reviews = []\n",
    "    while True:\n",
    "        soup = BeautifulSoup(res.text, 'lxml')\n",
    "        for container in soup.select('.review-container'):\n",
    "            review = {\n",
    "                'movie_id': TEST_ID,\n",
    "                'text': extract_text(container),\n",
    "                'rating': extract_rating(container),\n",
    "                'date': extract_date(container),\n",
    "                'title': extract_title(container),\n",
    "                'author': extract_author(container),\n",
    "                'helpfulness': extract_helpfulness(container)\n",
    "            }\n",
    "            title_reviews.append(review)\n",
    "\n",
    "        try:\n",
    "            pagination_key = (\n",
    "                soup\n",
    "                .select_one(\".load-more-data[data-key]\")\n",
    "                .get(\"data-key\")\n",
    "            )\n",
    "        except AttributeError:\n",
    "            break\n",
    "\n",
    "        params['paginationKey'] = pagination_key\n",
    "        res = s.get(link,params=params)"
   ]
  },
  {
   "cell_type": "code",
   "execution_count": 15,
   "metadata": {},
   "outputs": [
    {
     "name": "stdout",
     "output_type": "stream",
     "text": [
      "The autoreload extension is already loaded. To reload it, use:\n",
      "  %reload_ext autoreload\n"
     ]
    }
   ],
   "source": [
    "# from recsys.utils import write_csv, read_csv\n",
    "import csv\n",
    "\n",
    "def write_csv(data, path: str,\n",
    "              fieldnames: str = 'infer', mode: str = 'a',\n",
    "              encoding: str = 'utf8') -> None:\n",
    "    with open(path, mode, newline='', encoding=encoding) as file:\n",
    "        if fieldnames == 'infer':\n",
    "            fieldnames_ = list(data[0].keys())\n",
    "        else:\n",
    "            fieldnames_ = fieldnames\n",
    "        writer = csv.DictWriter(file, fieldnames_)\n",
    "        writer.writeheader()\n",
    "        writer.writerows(data)\n",
    "\n",
    "\n",
    "def read_csv(path, encoding: str = 'utf8'):\n",
    "    with open(path, 'r', newline='', encoding=encoding) as file:\n",
    "        return list(csv.DictReader(file))\n",
    "\n",
    "%load_ext autoreload\n",
    "%autoreload 2"
   ]
  },
  {
   "cell_type": "code",
   "execution_count": 22,
   "metadata": {},
   "outputs": [],
   "source": [
    "test_path = '../data/raw/title_reviews/test_reviews.csv'\n",
    "columns = [\n",
    "    'movie_id',\n",
    "    'text',\n",
    "    'rating',\n",
    "    'date',\n",
    "    'title',\n",
    "    'author',\n",
    "    'helpfulness'\n",
    "]\n",
    "write_csv(title_reviews, test_path, fieldnames=columns)"
   ]
  },
  {
   "cell_type": "code",
   "execution_count": 23,
   "metadata": {},
   "outputs": [],
   "source": [
    "import pandas as pd\n",
    "\n",
    "test_data = pd.read_csv(test_path)"
   ]
  },
  {
   "cell_type": "code",
   "execution_count": 4,
   "metadata": {},
   "outputs": [],
   "source": [
    "def extract_text(container: BeautifulSoup) -> str:\n",
    "    try:\n",
    "        text_raw = container.find('div', {'class': 'text show-more__control'})\n",
    "        return text_raw.text\n",
    "    except:\n",
    "        return None\n",
    "\n",
    "\n",
    "def extract_rating(container: BeautifulSoup) -> int:\n",
    "    try:\n",
    "        rating_raw = container.find_all('span')\n",
    "        rating = rating_raw[1].text\n",
    "        # If no rating was given, span block containes review date\n",
    "        if len(rating) > 2:\n",
    "            return None\n",
    "        return int(rating)\n",
    "    except:\n",
    "        return None\n",
    "\n",
    "\n",
    "def extract_date(container: BeautifulSoup) -> str:\n",
    "    try:\n",
    "        date_raw = container.find('span', {'class': 'review-date'})\n",
    "        return date_raw.text\n",
    "    except:\n",
    "        return None\n",
    "\n",
    "def extract_title(container: BeautifulSoup) -> str:\n",
    "    try:\n",
    "        title_raw = container.find('a', {'class': 'title'})\n",
    "        return title_raw.text\n",
    "    except:\n",
    "        return None\n",
    "\n",
    "def extract_author(container: BeautifulSoup) -> str:\n",
    "    try:\n",
    "        author_raw = container.find('span', {'class': 'display-name-link'})\n",
    "        return author_raw.a['href']\n",
    "    except:\n",
    "        return None\n",
    "\n",
    "def extract_helpfulness(container: BeautifulSoup) -> str:\n",
    "    try:\n",
    "        helpfulness_raw = container.find('div', {'class': 'actions text-muted'})\n",
    "        return helpfulness_raw.text\n",
    "    except:\n",
    "        return None"
   ]
  },
  {
   "cell_type": "code",
   "execution_count": 23,
   "metadata": {},
   "outputs": [],
   "source": [
    "review = {\n",
    "    'movie_id': 'some_id',\n",
    "    'text': extract_text(some_rev),\n",
    "    'rating': extract_rating(some_rev),\n",
    "    'date': extract_date(some_rev),\n",
    "    'title': extract_title(some_rev),\n",
    "    'author': extract_author(some_rev),\n",
    "    'helpfulness': extract_helpfulness(some_rev)\n",
    "}"
   ]
  },
  {
   "cell_type": "code",
   "execution_count": 25,
   "metadata": {},
   "outputs": [],
   "source": [
    "from recsys.utils import load_obj"
   ]
  },
  {
   "cell_type": "code",
   "execution_count": 31,
   "metadata": {},
   "outputs": [
    {
     "data": {
      "text/plain": [
       "['/title/tt0468569/',\n",
       " '/title/tt1375666/',\n",
       " '/title/tt0944947/',\n",
       " '/title/tt0133093/',\n",
       " '/title/tt0120737/',\n",
       " '/title/tt0167260/',\n",
       " '/title/tt1345836/',\n",
       " '/title/tt0167261/',\n",
       " '/title/tt0172495/',\n",
       " '/title/tt0372784/',\n",
       " '/title/tt0848228/',\n",
       " '/title/tt0076759/',\n",
       " '/title/tt0407887/',\n",
       " '/title/tt0080684/',\n",
       " '/title/tt0499549/',\n",
       " '/title/tt2015381/',\n",
       " '/title/tt0110413/',\n",
       " '/title/tt0434409/',\n",
       " '/title/tt0266697/',\n",
       " '/title/tt0325980/',\n",
       " '/title/tt0103064/',\n",
       " '/title/tt0086190/',\n",
       " '/title/tt0371746/',\n",
       " '/title/tt4154796/',\n",
       " '/title/tt1431045/',\n",
       " '/title/tt4154756/',\n",
       " '/title/tt1392190/',\n",
       " '/title/tt0082971/',\n",
       " '/title/tt0107290/',\n",
       " '/title/tt2488496/',\n",
       " '/title/tt1392170/',\n",
       " '/title/tt0095016/',\n",
       " '/title/tt0088247/',\n",
       " '/title/tt2395427/',\n",
       " '/title/tt1300854/',\n",
       " '/title/tt1454468/',\n",
       " '/title/tt0800369/',\n",
       " '/title/tt0458339/',\n",
       " '/title/tt1843866/',\n",
       " '/title/tt1228705/',\n",
       " '/title/tt0416449/',\n",
       " '/title/tt0120915/',\n",
       " '/title/tt1663202/',\n",
       " '/title/tt0121766/',\n",
       " '/title/tt0770828/',\n",
       " '/title/tt0145487/',\n",
       " '/title/tt0097576/',\n",
       " '/title/tt0378194/',\n",
       " '/title/tt0480249/',\n",
       " '/title/tt3498820/']"
      ]
     },
     "execution_count": 31,
     "metadata": {},
     "output_type": "execute_result"
    }
   ],
   "source": [
    "load_obj('../data/raw/identifiers/ACTION__50')"
   ]
  },
  {
   "cell_type": "code",
   "execution_count": 30,
   "metadata": {},
   "outputs": [
    {
     "data": {
      "text/plain": [
       "['.gitkeep',\n",
       " 'ACTION__50',\n",
       " 'ADVENTURE__50',\n",
       " 'ANIMATION__50',\n",
       " 'BIOGRAPHY__50',\n",
       " 'COMEDY__50',\n",
       " 'CRIME__50',\n",
       " 'DOCUMENTARY__50',\n",
       " 'DRAMA__50',\n",
       " 'FAMILY__50',\n",
       " 'FANTASY__50',\n",
       " 'FILM_NOIR__50',\n",
       " 'HISTORY__50',\n",
       " 'HORROR__50',\n",
       " 'MUSICAL__50',\n",
       " 'MUSIC__50',\n",
       " 'MYSTERY__50',\n",
       " 'ROMANCE__50',\n",
       " 'SCI_FI__50',\n",
       " 'SHORT__50',\n",
       " 'SPORT__50',\n",
       " 'THRILLER__50',\n",
       " 'WAR__50',\n",
       " 'WESTERN__50']"
      ]
     },
     "execution_count": 30,
     "metadata": {},
     "output_type": "execute_result"
    }
   ],
   "source": [
    "import os\n",
    "os.listdir('../data/raw/identifiers')"
   ]
  },
  {
   "cell_type": "code",
   "execution_count": null,
   "metadata": {},
   "outputs": [],
   "source": []
  }
 ],
 "metadata": {
  "interpreter": {
   "hash": "b94e1a786d65ae5959653f3d1112b1212e7c37cf5ba9bdab68295d0cb5ddd1d0"
  },
  "kernelspec": {
   "display_name": "Python 3.9.5 64-bit ('movie_recsys': conda)",
   "language": "python",
   "name": "python3"
  },
  "language_info": {
   "codemirror_mode": {
    "name": "ipython",
    "version": 3
   },
   "file_extension": ".py",
   "mimetype": "text/x-python",
   "name": "python",
   "nbconvert_exporter": "python",
   "pygments_lexer": "ipython3",
   "version": "3.9.5"
  },
  "orig_nbformat": 4
 },
 "nbformat": 4,
 "nbformat_minor": 2
}
