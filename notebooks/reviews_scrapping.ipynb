{
 "cells": [
  {
   "cell_type": "code",
   "execution_count": 5,
   "metadata": {},
   "outputs": [],
   "source": [
    "import requests\n",
    "from bs4 import BeautifulSoup\n",
    "\n",
    "TEST_ID = '/title/tt13433812/'\n",
    "start_url = f'https://www.imdb.com{TEST_ID}reviews?ref_=tt_urv'\n",
    "link = f'https://www.imdb.com{TEST_ID}reviews/_ajax'\n",
    "\n",
    "params = {\n",
    "    'ref_': 'undefined',\n",
    "    'paginationKey': ''\n",
    "}\n",
    "\n",
    "with requests.Session() as s:\n",
    "    s.headers['User-Agent'] = 'Mozilla/5.0 (Windows NT 6.1) AppleWebKit/537.36 (KHTML, like Gecko) Chrome/88.0.4324.150 Safari/537.36'\n",
    "    res = s.get(start_url)\n",
    "\n",
    "    title_reviews = []\n",
    "    while True:\n",
    "        soup = BeautifulSoup(res.text, 'lxml')\n",
    "        for container in soup.select('.review-container'):\n",
    "            review = {\n",
    "                'movie_id': TEST_ID,\n",
    "                'text': extract_text(container),\n",
    "                'rating': extract_rating(container),\n",
    "                'date': extract_date(container),\n",
    "                'title': extract_title(container),\n",
    "                'author': extract_author(container),\n",
    "                'helpfulness': extract_helpfulness(container)\n",
    "            }\n",
    "            title_reviews.append(review)\n",
    "\n",
    "        try:\n",
    "            pagination_key = (\n",
    "                soup\n",
    "                .select_one(\".load-more-data[data-key]\")\n",
    "                .get(\"data-key\")\n",
    "            )\n",
    "        except AttributeError:\n",
    "            break\n",
    "\n",
    "        params['paginationKey'] = pagination_key\n",
    "        res = s.get(link, params=params)"
   ]
  },
  {
   "cell_type": "code",
   "execution_count": 3,
   "metadata": {},
   "outputs": [],
   "source": [
    "import requests\n",
    "from bs4 import BeautifulSoup\n",
    "from recsys.utils import write_csv, read_csv\n",
    "\n",
    "%load_ext autoreload\n",
    "%autoreload 2"
   ]
  },
  {
   "cell_type": "markdown",
   "metadata": {},
   "source": [
    "123"
   ]
  },
  {
   "cell_type": "code",
   "execution_count": 4,
   "metadata": {},
   "outputs": [],
   "source": [
    "brat = requests.get('https://www.imdb.com/title/tt0118767/reviews?sort=totalVotes&dir=desc&ratingFilter=0')"
   ]
  },
  {
   "cell_type": "code",
   "execution_count": 7,
   "metadata": {},
   "outputs": [],
   "source": [
    "bs = BeautifulSoup(brat.text, 'lxml')"
   ]
  },
  {
   "cell_type": "code",
   "execution_count": 27,
   "metadata": {},
   "outputs": [
    {
     "data": {
      "text/plain": [
       "61"
      ]
     },
     "execution_count": 27,
     "metadata": {},
     "output_type": "execute_result"
    }
   ],
   "source": [
    "review_cnt = (\n",
    "    bs\n",
    "    .find('div', {'class', 'header'})\n",
    "    .find('div')\n",
    "    .text\n",
    "    .replace(' ', '')\n",
    "    .split('Reviews')[0]\n",
    ")\n",
    "review_cnt = int(review_cnt)\n",
    "review_cnt"
   ]
  },
  {
   "cell_type": "code",
   "execution_count": 24,
   "metadata": {},
   "outputs": [
    {
     "data": {
      "text/plain": [
       "'61'"
      ]
     },
     "execution_count": 24,
     "metadata": {},
     "output_type": "execute_result"
    }
   ],
   "source": [
    "res.find('div').text.split(' ')[0].replace(' ', '')"
   ]
  },
  {
   "cell_type": "code",
   "execution_count": 16,
   "metadata": {},
   "outputs": [],
   "source": [
    "import pandas as pd"
   ]
  },
  {
   "cell_type": "code",
   "execution_count": 23,
   "metadata": {},
   "outputs": [
    {
     "data": {
      "text/html": [
       "<div>\n",
       "<style scoped>\n",
       "    .dataframe tbody tr th:only-of-type {\n",
       "        vertical-align: middle;\n",
       "    }\n",
       "\n",
       "    .dataframe tbody tr th {\n",
       "        vertical-align: top;\n",
       "    }\n",
       "\n",
       "    .dataframe thead th {\n",
       "        text-align: right;\n",
       "    }\n",
       "</style>\n",
       "<table border=\"1\" class=\"dataframe\">\n",
       "  <thead>\n",
       "    <tr style=\"text-align: right;\">\n",
       "      <th></th>\n",
       "      <th>id</th>\n",
       "      <th>text</th>\n",
       "      <th>rating</th>\n",
       "      <th>date</th>\n",
       "      <th>title</th>\n",
       "      <th>author</th>\n",
       "      <th>helpfulness</th>\n",
       "    </tr>\n",
       "  </thead>\n",
       "  <tbody>\n",
       "    <tr>\n",
       "      <th>0</th>\n",
       "      <td>/title/tt0118767/</td>\n",
       "      <td>In what may have been Sergei Bodrov Jr's most ...</td>\n",
       "      <td>7.0</td>\n",
       "      <td>4 April 2009</td>\n",
       "      <td>brother courage\\n</td>\n",
       "      <td>/user/ur4888011/?ref_=tt_urv</td>\n",
       "      <td>\\n                    1 out of 4 found this he...</td>\n",
       "    </tr>\n",
       "    <tr>\n",
       "      <th>1</th>\n",
       "      <td>/title/tt0118767/</td>\n",
       "      <td>Or LITTLE ODESSA meets PUSHER, if you mix up t...</td>\n",
       "      <td>8.0</td>\n",
       "      <td>13 December 2020</td>\n",
       "      <td>Rififi in Saint Petersbourg\\n</td>\n",
       "      <td>/user/ur17559480/?ref_=tt_urv</td>\n",
       "      <td>\\n                    6 out of 6 found this he...</td>\n",
       "    </tr>\n",
       "    <tr>\n",
       "      <th>2</th>\n",
       "      <td>/title/tt0118767/</td>\n",
       "      <td>Film about crises and expectation. About Russi...</td>\n",
       "      <td>NaN</td>\n",
       "      <td>29 April 2007</td>\n",
       "      <td>Russian crisis\\n</td>\n",
       "      <td>/user/ur13017201/?ref_=tt_urv</td>\n",
       "      <td>\\n                    1 out of 2 found this he...</td>\n",
       "    </tr>\n",
       "    <tr>\n",
       "      <th>3</th>\n",
       "      <td>/title/tt0118767/</td>\n",
       "      <td>This Russian film about a young hitman in St. ...</td>\n",
       "      <td>8.0</td>\n",
       "      <td>1 October 2021</td>\n",
       "      <td>This tale of Russian gangsters isn't what you...</td>\n",
       "      <td>/user/ur1683855/?ref_=tt_urv</td>\n",
       "      <td>\\n                    3 out of 3 found this he...</td>\n",
       "    </tr>\n",
       "    <tr>\n",
       "      <th>4</th>\n",
       "      <td>/title/tt0118767/</td>\n",
       "      <td>Set in St. Petersburg, where the fall of commu...</td>\n",
       "      <td>NaN</td>\n",
       "      <td>17 September 2011</td>\n",
       "      <td>An interesting, dark, grim, noirish thriller\\n</td>\n",
       "      <td>/user/ur6981752/?ref_=tt_urv</td>\n",
       "      <td>\\n                    0 out of 0 found this he...</td>\n",
       "    </tr>\n",
       "  </tbody>\n",
       "</table>\n",
       "</div>"
      ],
      "text/plain": [
       "                  id                                               text  \\\n",
       "0  /title/tt0118767/  In what may have been Sergei Bodrov Jr's most ...   \n",
       "1  /title/tt0118767/  Or LITTLE ODESSA meets PUSHER, if you mix up t...   \n",
       "2  /title/tt0118767/  Film about crises and expectation. About Russi...   \n",
       "3  /title/tt0118767/  This Russian film about a young hitman in St. ...   \n",
       "4  /title/tt0118767/  Set in St. Petersburg, where the fall of commu...   \n",
       "\n",
       "   rating               date  \\\n",
       "0     7.0       4 April 2009   \n",
       "1     8.0   13 December 2020   \n",
       "2     NaN      29 April 2007   \n",
       "3     8.0     1 October 2021   \n",
       "4     NaN  17 September 2011   \n",
       "\n",
       "                                               title  \\\n",
       "0                                  brother courage\\n   \n",
       "1                      Rififi in Saint Petersbourg\\n   \n",
       "2                                   Russian crisis\\n   \n",
       "3   This tale of Russian gangsters isn't what you...   \n",
       "4     An interesting, dark, grim, noirish thriller\\n   \n",
       "\n",
       "                          author  \\\n",
       "0   /user/ur4888011/?ref_=tt_urv   \n",
       "1  /user/ur17559480/?ref_=tt_urv   \n",
       "2  /user/ur13017201/?ref_=tt_urv   \n",
       "3   /user/ur1683855/?ref_=tt_urv   \n",
       "4   /user/ur6981752/?ref_=tt_urv   \n",
       "\n",
       "                                         helpfulness  \n",
       "0  \\n                    1 out of 4 found this he...  \n",
       "1  \\n                    6 out of 6 found this he...  \n",
       "2  \\n                    1 out of 2 found this he...  \n",
       "3  \\n                    3 out of 3 found this he...  \n",
       "4  \\n                    0 out of 0 found this he...  "
      ]
     },
     "execution_count": 23,
     "metadata": {},
     "output_type": "execute_result"
    }
   ],
   "source": [
    "r_df = pd.read_csv('../data/raw/reviews/1pct/test.csv')\n",
    "r_df.head()"
   ]
  },
  {
   "cell_type": "code",
   "execution_count": 24,
   "metadata": {},
   "outputs": [],
   "source": [
    "r_df.to_json('../data/raw/reviews/1pct/test.json')"
   ]
  },
  {
   "cell_type": "code",
   "execution_count": 2,
   "metadata": {},
   "outputs": [
    {
     "name": "stderr",
     "output_type": "stream",
     "text": [
      "abcdaaaa: 100%|██████████| 10/10 [00:00<?, ?it/s]\n"
     ]
    }
   ],
   "source": [
    "from tqdm import tqdm\n",
    "for i in tqdm(range(10), desc='abcdaaaa'):\n",
    "    pass"
   ]
  },
  {
   "cell_type": "code",
   "execution_count": null,
   "metadata": {},
   "outputs": [],
   "source": []
  }
 ],
 "metadata": {
  "interpreter": {
   "hash": "b94e1a786d65ae5959653f3d1112b1212e7c37cf5ba9bdab68295d0cb5ddd1d0"
  },
  "kernelspec": {
   "display_name": "Python 3.9.5 64-bit ('movie_recsys': conda)",
   "language": "python",
   "name": "python3"
  },
  "language_info": {
   "codemirror_mode": {
    "name": "ipython",
    "version": 3
   },
   "file_extension": ".py",
   "mimetype": "text/x-python",
   "name": "python",
   "nbconvert_exporter": "python",
   "pygments_lexer": "ipython3",
   "version": "3.9.5"
  },
  "orig_nbformat": 4
 },
 "nbformat": 4,
 "nbformat_minor": 2
}
