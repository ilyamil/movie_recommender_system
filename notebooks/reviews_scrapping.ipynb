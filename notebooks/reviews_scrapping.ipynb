{
 "cells": [
  {
   "cell_type": "code",
   "execution_count": 5,
   "metadata": {},
   "outputs": [],
   "source": [
    "import requests\n",
    "from bs4 import BeautifulSoup\n",
    "\n",
    "TEST_ID = '/title/tt13433812/'\n",
    "start_url = f'https://www.imdb.com{TEST_ID}reviews?ref_=tt_urv'\n",
    "link = f'https://www.imdb.com{TEST_ID}reviews/_ajax'\n",
    "\n",
    "params = {\n",
    "    'ref_': 'undefined',\n",
    "    'paginationKey': ''\n",
    "}\n",
    "\n",
    "with requests.Session() as s:\n",
    "    s.headers['User-Agent'] = 'Mozilla/5.0 (Windows NT 6.1) AppleWebKit/537.36 (KHTML, like Gecko) Chrome/88.0.4324.150 Safari/537.36'\n",
    "    res = s.get(start_url)\n",
    "\n",
    "    title_reviews = []\n",
    "    while True:\n",
    "        soup = BeautifulSoup(res.text, 'lxml')\n",
    "        for container in soup.select('.review-container'):\n",
    "            review = {\n",
    "                'movie_id': TEST_ID,\n",
    "                'text': extract_text(container),\n",
    "                'rating': extract_rating(container),\n",
    "                'date': extract_date(container),\n",
    "                'title': extract_title(container),\n",
    "                'author': extract_author(container),\n",
    "                'helpfulness': extract_helpfulness(container)\n",
    "            }\n",
    "            title_reviews.append(review)\n",
    "\n",
    "        try:\n",
    "            pagination_key = (\n",
    "                soup\n",
    "                .select_one(\".load-more-data[data-key]\")\n",
    "                .get(\"data-key\")\n",
    "            )\n",
    "        except AttributeError:\n",
    "            break\n",
    "\n",
    "        params['paginationKey'] = pagination_key\n",
    "        res = s.get(link, params=params)"
   ]
  },
  {
   "cell_type": "code",
   "execution_count": 1,
   "metadata": {},
   "outputs": [],
   "source": [
    "import requests\n",
    "from bs4 import BeautifulSoup\n",
    "from recsys.utils import dump_obj, load_obj\n",
    "\n",
    "%load_ext autoreload\n",
    "%autoreload 2"
   ]
  },
  {
   "cell_type": "code",
   "execution_count": 7,
   "metadata": {},
   "outputs": [],
   "source": [
    "gf_review = requests.get('https://www.imdb.com/title/tt0068646/reviews?ref_=tt_urv')"
   ]
  },
  {
   "cell_type": "code",
   "execution_count": 8,
   "metadata": {},
   "outputs": [],
   "source": [
    "bs = BeautifulSoup(gf_review.text, 'lxml')\n",
    "for t in bs.select('.review-container'):\n",
    "    break"
   ]
  },
  {
   "cell_type": "code",
   "execution_count": 9,
   "metadata": {},
   "outputs": [
    {
     "data": {
      "text/plain": [
       "'<div class=\"review-container\">\\n <div class=\"lister-item-content\">\\n  <div class=\"ipl-ratings-bar\">\\n   <span class=\"rating-other-user-rating\">\\n    <svg class=\"ipl-icon ipl-star-icon\" fill=\"#000000\" height=\"24\" viewbox=\"0 0 24 24\" width=\"24\" xmlns=\"http://www.w3.org/2000/svg\">\\n     <path d=\"M0 0h24v24H0z\" fill=\"none\">\\n     </path>\\n     <path d=\"M12 17.27L18.18 21l-1.64-7.03L22 9.24l-7.19-.61L12 2 9.19 8.63 2 9.24l5.46 4.73L5.82 21z\">\\n     </path>\\n     <path d=\"M0 0h24v24H0z\" fill=\"none\">\\n     </path>\\n    </svg>\\n    <span>\\n     10\\n    </span>\\n    <span class=\"point-scale\">\\n     /10\\n    </span>\\n   </span>\\n  </div>\\n  <a class=\"title\" href=\"/review/rw2774909/\">\\n   #2 on IMDb\\'s Top 100, a multi-Oscar-winner and over 1500 reviews...what more can I say about the movie?!\\n  </a>\\n  <div class=\"display-name-date\">\\n   <span class=\"display-name-link\">\\n    <a href=\"/user/ur2467618/\">\\n     MartinHafer\\n    </a>\\n   </span>\\n   <span class=\"review-date\">\\n    30 March 2013\\n   </span>\\n  </div>\\n  <div class=\"content\">\\n   <div class=\"text show-more__control\">\\n    Up until today, I haven\\'t bothered to review \"The Godfather\". After all, everyone pretty much knows it\\'s one of the greatest films ever made. It\\'s #2 on IMDb\\'s Top 100. It won the Best Picture Oscar. And, there are nearly 1600 reviews on IMDb. So what\\'s one more review?! Well, after completing 14,000 reviews (because I am nuts), I guess it\\'s time I got around to reviewing a film I should have reviewed a long time ago. So, here goes....the film is perfect and only a dope wouldn\\'t watch it. Unfortunately, IMDb requires me to say more to meet it\\'s 10 line minimum for reviews. So, I\\'ll point out that you do NOT need to like gangster films to enjoy this film. Yes, it\\'s violent and nasty in spots--but it\\'s also brilliantly written and produced from start to finish and deserves the accolades it\\'s received.\\n    <br/>\\n    <br/>\\n    My advice is that instead of just watching \"The Godfather\" and \"The Godfather: Part II\", see the combined version they created for television--with additional scenes that made it a very rich experience.\\n   </div>\\n   <div class=\"actions text-muted\">\\n    32 out of 46 found this helpful.\\n    <span>\\n     Was this review helpful?\\n     <a href=\"/registration/signin\">\\n      Sign in\\n     </a>\\n     to vote.\\n    </span>\\n    <br/>\\n    <a href=\"/review/rw2774909/\">\\n     Permalink\\n    </a>\\n   </div>\\n  </div>\\n </div>\\n <div class=\"clear\">\\n </div>\\n</div>\\n'"
      ]
     },
     "execution_count": 9,
     "metadata": {},
     "output_type": "execute_result"
    }
   ],
   "source": [
    "t.prettify()"
   ]
  },
  {
   "cell_type": "markdown",
   "metadata": {},
   "source": [
    "123"
   ]
  },
  {
   "cell_type": "code",
   "execution_count": 14,
   "metadata": {},
   "outputs": [],
   "source": [
    "path = '../tests/test_data/review_tag_example.pkl'\n",
    "t_str = t.prettify()\n",
    "dump_obj(t_str, path, mode='wb')"
   ]
  },
  {
   "cell_type": "code",
   "execution_count": 15,
   "metadata": {},
   "outputs": [],
   "source": [
    "obj = load_obj(path)"
   ]
  },
  {
   "cell_type": "code",
   "execution_count": 22,
   "metadata": {},
   "outputs": [
    {
     "data": {
      "text/plain": [
       "<div class=\"review-container\">\n",
       "<div class=\"lister-item-content\">\n",
       "<div class=\"ipl-ratings-bar\">\n",
       "<span class=\"rating-other-user-rating\">\n",
       "<svg class=\"ipl-icon ipl-star-icon\" fill=\"#000000\" height=\"24\" viewbox=\"0 0 24 24\" width=\"24\" xmlns=\"http://www.w3.org/2000/svg\">\n",
       "<path d=\"M0 0h24v24H0z\" fill=\"none\"></path>\n",
       "<path d=\"M12 17.27L18.18 21l-1.64-7.03L22 9.24l-7.19-.61L12 2 9.19 8.63 2 9.24l5.46 4.73L5.82 21z\"></path>\n",
       "<path d=\"M0 0h24v24H0z\" fill=\"none\"></path>\n",
       "</svg>\n",
       "<span>10</span><span class=\"point-scale\">/10</span>\n",
       "</span>\n",
       "</div>\n",
       "<a class=\"title\" href=\"/review/rw2774909/\"> #2 on IMDb's Top 100, a multi-Oscar-winner and over 1500 reviews...what more can I say about the movie?!\n",
       "</a> <div class=\"display-name-date\">\n",
       "<span class=\"display-name-link\"><a href=\"/user/ur2467618/\">MartinHafer</a></span><span class=\"review-date\">30 March 2013</span>\n",
       "</div>\n",
       "<div class=\"content\">\n",
       "<div class=\"text show-more__control\">Up until today, I haven't bothered to review \"The Godfather\". After all, everyone pretty much knows it's one of the greatest films ever made. It's #2 on IMDb's Top 100. It won the Best Picture Oscar. And, there are nearly 1600 reviews on IMDb. So what's one more review?! Well, after completing 14,000 reviews (because I am nuts), I guess it's time I got around to reviewing a film I should have reviewed a long time ago. So, here goes....the film is perfect and only a dope wouldn't watch it. Unfortunately, IMDb requires me to say more to meet it's 10 line minimum for reviews. So, I'll point out that you do NOT need to like gangster films to enjoy this film. Yes, it's violent and nasty in spots--but it's also brilliantly written and produced from start to finish and deserves the accolades it's received.<br/><br/>My advice is that instead of just watching \"The Godfather\" and \"The Godfather: Part II\", see the combined version they created for television--with additional scenes that made it a very rich experience.</div>\n",
       "<div class=\"actions text-muted\">\n",
       "                    32 out of 46 found this helpful.\n",
       "                        <span>\n",
       "                            Was this review helpful? <a href=\"/registration/signin\"> Sign in</a> to vote.\n",
       "                        </span>\n",
       "<br/>\n",
       "<a href=\"/review/rw2774909/\">Permalink</a>\n",
       "</div>\n",
       "</div>\n",
       "</div>\n",
       "<div class=\"clear\"></div>\n",
       "</div>"
      ]
     },
     "execution_count": 22,
     "metadata": {},
     "output_type": "execute_result"
    }
   ],
   "source": [
    "t"
   ]
  },
  {
   "cell_type": "code",
   "execution_count": 20,
   "metadata": {},
   "outputs": [
    {
     "data": {
      "text/plain": [
       "<html><body><div class=\"review-container\">\n",
       "<div class=\"lister-item-content\">\n",
       "<div class=\"ipl-ratings-bar\">\n",
       "<span class=\"rating-other-user-rating\">\n",
       "<svg class=\"ipl-icon ipl-star-icon\" fill=\"#000000\" height=\"24\" viewbox=\"0 0 24 24\" width=\"24\" xmlns=\"http://www.w3.org/2000/svg\">\n",
       "<path d=\"M0 0h24v24H0z\" fill=\"none\">\n",
       "</path>\n",
       "<path d=\"M12 17.27L18.18 21l-1.64-7.03L22 9.24l-7.19-.61L12 2 9.19 8.63 2 9.24l5.46 4.73L5.82 21z\">\n",
       "</path>\n",
       "<path d=\"M0 0h24v24H0z\" fill=\"none\">\n",
       "</path>\n",
       "</svg>\n",
       "<span>\n",
       "     10\n",
       "    </span>\n",
       "<span class=\"point-scale\">\n",
       "     /10\n",
       "    </span>\n",
       "</span>\n",
       "</div>\n",
       "<a class=\"title\" href=\"/review/rw2774909/\">\n",
       "   #2 on IMDb's Top 100, a multi-Oscar-winner and over 1500 reviews...what more can I say about the movie?!\n",
       "  </a>\n",
       "<div class=\"display-name-date\">\n",
       "<span class=\"display-name-link\">\n",
       "<a href=\"/user/ur2467618/\">\n",
       "     MartinHafer\n",
       "    </a>\n",
       "</span>\n",
       "<span class=\"review-date\">\n",
       "    30 March 2013\n",
       "   </span>\n",
       "</div>\n",
       "<div class=\"content\">\n",
       "<div class=\"text show-more__control\">\n",
       "    Up until today, I haven't bothered to review \"The Godfather\". After all, everyone pretty much knows it's one of the greatest films ever made. It's #2 on IMDb's Top 100. It won the Best Picture Oscar. And, there are nearly 1600 reviews on IMDb. So what's one more review?! Well, after completing 14,000 reviews (because I am nuts), I guess it's time I got around to reviewing a film I should have reviewed a long time ago. So, here goes....the film is perfect and only a dope wouldn't watch it. Unfortunately, IMDb requires me to say more to meet it's 10 line minimum for reviews. So, I'll point out that you do NOT need to like gangster films to enjoy this film. Yes, it's violent and nasty in spots--but it's also brilliantly written and produced from start to finish and deserves the accolades it's received.\n",
       "    <br/>\n",
       "<br/>\n",
       "    My advice is that instead of just watching \"The Godfather\" and \"The Godfather: Part II\", see the combined version they created for television--with additional scenes that made it a very rich experience.\n",
       "   </div>\n",
       "<div class=\"actions text-muted\">\n",
       "    32 out of 46 found this helpful.\n",
       "    <span>\n",
       "     Was this review helpful?\n",
       "     <a href=\"/registration/signin\">\n",
       "      Sign in\n",
       "     </a>\n",
       "     to vote.\n",
       "    </span>\n",
       "<br/>\n",
       "<a href=\"/review/rw2774909/\">\n",
       "     Permalink\n",
       "    </a>\n",
       "</div>\n",
       "</div>\n",
       "</div>\n",
       "<div class=\"clear\">\n",
       "</div>\n",
       "</div>\n",
       "</body></html>"
      ]
     },
     "execution_count": 20,
     "metadata": {},
     "output_type": "execute_result"
    }
   ],
   "source": [
    "BeautifulSoup(obj)"
   ]
  },
  {
   "cell_type": "code",
   "execution_count": 19,
   "metadata": {},
   "outputs": [
    {
     "data": {
      "text/plain": [
       "<div class=\"review-container\">\n",
       "<div class=\"lister-item-content\">\n",
       "<div class=\"ipl-ratings-bar\">\n",
       "<span class=\"rating-other-user-rating\">\n",
       "<svg class=\"ipl-icon ipl-star-icon\" fill=\"#000000\" height=\"24\" viewbox=\"0 0 24 24\" width=\"24\" xmlns=\"http://www.w3.org/2000/svg\">\n",
       "<path d=\"M0 0h24v24H0z\" fill=\"none\"></path>\n",
       "<path d=\"M12 17.27L18.18 21l-1.64-7.03L22 9.24l-7.19-.61L12 2 9.19 8.63 2 9.24l5.46 4.73L5.82 21z\"></path>\n",
       "<path d=\"M0 0h24v24H0z\" fill=\"none\"></path>\n",
       "</svg>\n",
       "<span>10</span><span class=\"point-scale\">/10</span>\n",
       "</span>\n",
       "</div>\n",
       "<a class=\"title\" href=\"/review/rw2774909/\"> #2 on IMDb's Top 100, a multi-Oscar-winner and over 1500 reviews...what more can I say about the movie?!\n",
       "</a> <div class=\"display-name-date\">\n",
       "<span class=\"display-name-link\"><a href=\"/user/ur2467618/\">MartinHafer</a></span><span class=\"review-date\">30 March 2013</span>\n",
       "</div>\n",
       "<div class=\"content\">\n",
       "<div class=\"text show-more__control\">Up until today, I haven't bothered to review \"The Godfather\". After all, everyone pretty much knows it's one of the greatest films ever made. It's #2 on IMDb's Top 100. It won the Best Picture Oscar. And, there are nearly 1600 reviews on IMDb. So what's one more review?! Well, after completing 14,000 reviews (because I am nuts), I guess it's time I got around to reviewing a film I should have reviewed a long time ago. So, here goes....the film is perfect and only a dope wouldn't watch it. Unfortunately, IMDb requires me to say more to meet it's 10 line minimum for reviews. So, I'll point out that you do NOT need to like gangster films to enjoy this film. Yes, it's violent and nasty in spots--but it's also brilliantly written and produced from start to finish and deserves the accolades it's received.<br/><br/>My advice is that instead of just watching \"The Godfather\" and \"The Godfather: Part II\", see the combined version they created for television--with additional scenes that made it a very rich experience.</div>\n",
       "<div class=\"actions text-muted\">\n",
       "                    32 out of 46 found this helpful.\n",
       "                        <span>\n",
       "                            Was this review helpful? <a href=\"/registration/signin\"> Sign in</a> to vote.\n",
       "                        </span>\n",
       "<br/>\n",
       "<a href=\"/review/rw2774909/\">Permalink</a>\n",
       "</div>\n",
       "</div>\n",
       "</div>\n",
       "<div class=\"clear\"></div>\n",
       "</div>"
      ]
     },
     "execution_count": 19,
     "metadata": {},
     "output_type": "execute_result"
    }
   ],
   "source": [
    "t"
   ]
  },
  {
   "cell_type": "code",
   "execution_count": 27,
   "metadata": {},
   "outputs": [
    {
     "data": {
      "text/plain": [
       "100"
      ]
     },
     "execution_count": 27,
     "metadata": {},
     "output_type": "execute_result"
    }
   ],
   "source": [
    "get_cnt = lambda x: x - x % 50\n",
    "\n",
    "get_cnt(104)"
   ]
  },
  {
   "cell_type": "code",
   "execution_count": 28,
   "metadata": {},
   "outputs": [
    {
     "data": {
      "text/plain": [
       "['reviews_scrapping.ipynb']"
      ]
     },
     "execution_count": 28,
     "metadata": {},
     "output_type": "execute_result"
    }
   ],
   "source": [
    "import os\n",
    "os.listdir()"
   ]
  },
  {
   "cell_type": "code",
   "execution_count": 40,
   "metadata": {},
   "outputs": [],
   "source": [
    "new_path = '../data/raw/identifiers/1/2/3/some_obj.pkl'\n",
    "dump_obj(np.ones((5, 5)), new_path)"
   ]
  },
  {
   "cell_type": "code",
   "execution_count": 36,
   "metadata": {},
   "outputs": [
    {
     "data": {
      "text/plain": [
       "'../data/raw/identifiers/1/2/3'"
      ]
     },
     "execution_count": 36,
     "metadata": {},
     "output_type": "execute_result"
    }
   ],
   "source": [
    "os.path.dirname(new_path)"
   ]
  },
  {
   "cell_type": "code",
   "execution_count": 41,
   "metadata": {},
   "outputs": [
    {
     "data": {
      "text/plain": [
       "array([[1., 1., 1., 1., 1.],\n",
       "       [1., 1., 1., 1., 1.],\n",
       "       [1., 1., 1., 1., 1.],\n",
       "       [1., 1., 1., 1., 1.],\n",
       "       [1., 1., 1., 1., 1.]])"
      ]
     },
     "execution_count": 41,
     "metadata": {},
     "output_type": "execute_result"
    }
   ],
   "source": [
    "load_obj(new_path)"
   ]
  },
  {
   "cell_type": "code",
   "execution_count": 1,
   "metadata": {},
   "outputs": [
    {
     "data": {
      "text/plain": [
       "'None'"
      ]
     },
     "execution_count": 1,
     "metadata": {},
     "output_type": "execute_result"
    }
   ],
   "source": [
    "a = 'None'\n",
    "a"
   ]
  },
  {
   "cell_type": "code",
   "execution_count": 2,
   "metadata": {},
   "outputs": [
    {
     "ename": "ValueError",
     "evalue": "could not convert string to float: 'None'",
     "output_type": "error",
     "traceback": [
      "\u001b[1;31m---------------------------------------------------------------------------\u001b[0m",
      "\u001b[1;31mValueError\u001b[0m                                Traceback (most recent call last)",
      "\u001b[1;32m~\\AppData\\Local\\Temp/ipykernel_12756/593670237.py\u001b[0m in \u001b[0;36m<module>\u001b[1;34m\u001b[0m\n\u001b[1;32m----> 1\u001b[1;33m \u001b[0mfloat\u001b[0m\u001b[1;33m(\u001b[0m\u001b[0ma\u001b[0m\u001b[1;33m)\u001b[0m\u001b[1;33m\u001b[0m\u001b[1;33m\u001b[0m\u001b[0m\n\u001b[0m",
      "\u001b[1;31mValueError\u001b[0m: could not convert string to float: 'None'"
     ]
    }
   ],
   "source": [
    "float(a)"
   ]
  },
  {
   "cell_type": "code",
   "execution_count": 4,
   "metadata": {},
   "outputs": [
    {
     "data": {
      "text/plain": [
       "'1abc2bcd'"
      ]
     },
     "execution_count": 4,
     "metadata": {},
     "output_type": "execute_result"
    }
   ],
   "source": [
    "a1 = 1\n",
    "a2 = 2\n",
    "a = (\n",
    "    f'{a1}abc'\n",
    "    f'{a2}bcd'\n",
    ")\n",
    "a"
   ]
  },
  {
   "cell_type": "code",
   "execution_count": 5,
   "metadata": {},
   "outputs": [],
   "source": [
    "import os"
   ]
  },
  {
   "cell_type": "code",
   "execution_count": 10,
   "metadata": {},
   "outputs": [],
   "source": [
    "r = load_obj('../data/raw/reviews/1pct/test.pkl')"
   ]
  },
  {
   "cell_type": "code",
   "execution_count": 14,
   "metadata": {},
   "outputs": [],
   "source": [
    "from recsys.utils import load_obj, write_csv"
   ]
  },
  {
   "cell_type": "code",
   "execution_count": 22,
   "metadata": {},
   "outputs": [],
   "source": [
    "write_csv(r, '../data/raw/reviews/1pct/test.csv')"
   ]
  },
  {
   "cell_type": "code",
   "execution_count": 16,
   "metadata": {},
   "outputs": [],
   "source": [
    "import pandas as pd"
   ]
  },
  {
   "cell_type": "code",
   "execution_count": 23,
   "metadata": {},
   "outputs": [
    {
     "data": {
      "text/html": [
       "<div>\n",
       "<style scoped>\n",
       "    .dataframe tbody tr th:only-of-type {\n",
       "        vertical-align: middle;\n",
       "    }\n",
       "\n",
       "    .dataframe tbody tr th {\n",
       "        vertical-align: top;\n",
       "    }\n",
       "\n",
       "    .dataframe thead th {\n",
       "        text-align: right;\n",
       "    }\n",
       "</style>\n",
       "<table border=\"1\" class=\"dataframe\">\n",
       "  <thead>\n",
       "    <tr style=\"text-align: right;\">\n",
       "      <th></th>\n",
       "      <th>id</th>\n",
       "      <th>text</th>\n",
       "      <th>rating</th>\n",
       "      <th>date</th>\n",
       "      <th>title</th>\n",
       "      <th>author</th>\n",
       "      <th>helpfulness</th>\n",
       "    </tr>\n",
       "  </thead>\n",
       "  <tbody>\n",
       "    <tr>\n",
       "      <th>0</th>\n",
       "      <td>/title/tt0118767/</td>\n",
       "      <td>In what may have been Sergei Bodrov Jr's most ...</td>\n",
       "      <td>7.0</td>\n",
       "      <td>4 April 2009</td>\n",
       "      <td>brother courage\\n</td>\n",
       "      <td>/user/ur4888011/?ref_=tt_urv</td>\n",
       "      <td>\\n                    1 out of 4 found this he...</td>\n",
       "    </tr>\n",
       "    <tr>\n",
       "      <th>1</th>\n",
       "      <td>/title/tt0118767/</td>\n",
       "      <td>Or LITTLE ODESSA meets PUSHER, if you mix up t...</td>\n",
       "      <td>8.0</td>\n",
       "      <td>13 December 2020</td>\n",
       "      <td>Rififi in Saint Petersbourg\\n</td>\n",
       "      <td>/user/ur17559480/?ref_=tt_urv</td>\n",
       "      <td>\\n                    6 out of 6 found this he...</td>\n",
       "    </tr>\n",
       "    <tr>\n",
       "      <th>2</th>\n",
       "      <td>/title/tt0118767/</td>\n",
       "      <td>Film about crises and expectation. About Russi...</td>\n",
       "      <td>NaN</td>\n",
       "      <td>29 April 2007</td>\n",
       "      <td>Russian crisis\\n</td>\n",
       "      <td>/user/ur13017201/?ref_=tt_urv</td>\n",
       "      <td>\\n                    1 out of 2 found this he...</td>\n",
       "    </tr>\n",
       "    <tr>\n",
       "      <th>3</th>\n",
       "      <td>/title/tt0118767/</td>\n",
       "      <td>This Russian film about a young hitman in St. ...</td>\n",
       "      <td>8.0</td>\n",
       "      <td>1 October 2021</td>\n",
       "      <td>This tale of Russian gangsters isn't what you...</td>\n",
       "      <td>/user/ur1683855/?ref_=tt_urv</td>\n",
       "      <td>\\n                    3 out of 3 found this he...</td>\n",
       "    </tr>\n",
       "    <tr>\n",
       "      <th>4</th>\n",
       "      <td>/title/tt0118767/</td>\n",
       "      <td>Set in St. Petersburg, where the fall of commu...</td>\n",
       "      <td>NaN</td>\n",
       "      <td>17 September 2011</td>\n",
       "      <td>An interesting, dark, grim, noirish thriller\\n</td>\n",
       "      <td>/user/ur6981752/?ref_=tt_urv</td>\n",
       "      <td>\\n                    0 out of 0 found this he...</td>\n",
       "    </tr>\n",
       "  </tbody>\n",
       "</table>\n",
       "</div>"
      ],
      "text/plain": [
       "                  id                                               text  \\\n",
       "0  /title/tt0118767/  In what may have been Sergei Bodrov Jr's most ...   \n",
       "1  /title/tt0118767/  Or LITTLE ODESSA meets PUSHER, if you mix up t...   \n",
       "2  /title/tt0118767/  Film about crises and expectation. About Russi...   \n",
       "3  /title/tt0118767/  This Russian film about a young hitman in St. ...   \n",
       "4  /title/tt0118767/  Set in St. Petersburg, where the fall of commu...   \n",
       "\n",
       "   rating               date  \\\n",
       "0     7.0       4 April 2009   \n",
       "1     8.0   13 December 2020   \n",
       "2     NaN      29 April 2007   \n",
       "3     8.0     1 October 2021   \n",
       "4     NaN  17 September 2011   \n",
       "\n",
       "                                               title  \\\n",
       "0                                  brother courage\\n   \n",
       "1                      Rififi in Saint Petersbourg\\n   \n",
       "2                                   Russian crisis\\n   \n",
       "3   This tale of Russian gangsters isn't what you...   \n",
       "4     An interesting, dark, grim, noirish thriller\\n   \n",
       "\n",
       "                          author  \\\n",
       "0   /user/ur4888011/?ref_=tt_urv   \n",
       "1  /user/ur17559480/?ref_=tt_urv   \n",
       "2  /user/ur13017201/?ref_=tt_urv   \n",
       "3   /user/ur1683855/?ref_=tt_urv   \n",
       "4   /user/ur6981752/?ref_=tt_urv   \n",
       "\n",
       "                                         helpfulness  \n",
       "0  \\n                    1 out of 4 found this he...  \n",
       "1  \\n                    6 out of 6 found this he...  \n",
       "2  \\n                    1 out of 2 found this he...  \n",
       "3  \\n                    3 out of 3 found this he...  \n",
       "4  \\n                    0 out of 0 found this he...  "
      ]
     },
     "execution_count": 23,
     "metadata": {},
     "output_type": "execute_result"
    }
   ],
   "source": [
    "r_df = pd.read_csv('../data/raw/reviews/1pct/test.csv')\n",
    "r_df.head()"
   ]
  },
  {
   "cell_type": "code",
   "execution_count": 24,
   "metadata": {},
   "outputs": [],
   "source": [
    "r_df.to_json('../data/raw/reviews/1pct/test.json')"
   ]
  },
  {
   "cell_type": "code",
   "execution_count": null,
   "metadata": {},
   "outputs": [],
   "source": []
  }
 ],
 "metadata": {
  "interpreter": {
   "hash": "b94e1a786d65ae5959653f3d1112b1212e7c37cf5ba9bdab68295d0cb5ddd1d0"
  },
  "kernelspec": {
   "display_name": "Python 3.9.5 64-bit ('movie_recsys': conda)",
   "language": "python",
   "name": "python3"
  },
  "language_info": {
   "codemirror_mode": {
    "name": "ipython",
    "version": 3
   },
   "file_extension": ".py",
   "mimetype": "text/x-python",
   "name": "python",
   "nbconvert_exporter": "python",
   "pygments_lexer": "ipython3",
   "version": "3.9.5"
  },
  "orig_nbformat": 4
 },
 "nbformat": 4,
 "nbformat_minor": 2
}
