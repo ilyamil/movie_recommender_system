{
 "cells": [
  {
   "cell_type": "code",
   "execution_count": 5,
   "metadata": {},
   "outputs": [],
   "source": [
    "import requests\n",
    "from bs4 import BeautifulSoup\n",
    "\n",
    "TEST_ID = '/title/tt13433812/'\n",
    "start_url = f'https://www.imdb.com{TEST_ID}reviews?ref_=tt_urv'\n",
    "link = f'https://www.imdb.com{TEST_ID}reviews/_ajax'\n",
    "\n",
    "params = {\n",
    "    'ref_': 'undefined',\n",
    "    'paginationKey': ''\n",
    "}\n",
    "\n",
    "with requests.Session() as s:\n",
    "    s.headers['User-Agent'] = 'Mozilla/5.0 (Windows NT 6.1) AppleWebKit/537.36 (KHTML, like Gecko) Chrome/88.0.4324.150 Safari/537.36'\n",
    "    res = s.get(start_url)\n",
    "\n",
    "    title_reviews = []\n",
    "    while True:\n",
    "        soup = BeautifulSoup(res.text, 'lxml')\n",
    "        for container in soup.select('.review-container'):\n",
    "            review = {\n",
    "                'movie_id': TEST_ID,\n",
    "                'text': extract_text(container),\n",
    "                'rating': extract_rating(container),\n",
    "                'date': extract_date(container),\n",
    "                'title': extract_title(container),\n",
    "                'author': extract_author(container),\n",
    "                'helpfulness': extract_helpfulness(container)\n",
    "            }\n",
    "            title_reviews.append(review)\n",
    "\n",
    "        try:\n",
    "            pagination_key = (\n",
    "                soup\n",
    "                .select_one(\".load-more-data[data-key]\")\n",
    "                .get(\"data-key\")\n",
    "            )\n",
    "        except AttributeError:\n",
    "            break\n",
    "\n",
    "        params['paginationKey'] = pagination_key\n",
    "        res = s.get(link, params=params)"
   ]
  },
  {
   "cell_type": "code",
   "execution_count": 1,
   "metadata": {},
   "outputs": [],
   "source": [
    "import requests\n",
    "from bs4 import BeautifulSoup\n",
    "from recsys.utils import dump_obj, load_obj\n",
    "\n",
    "%load_ext autoreload\n",
    "%autoreload 2"
   ]
  },
  {
   "cell_type": "code",
   "execution_count": 7,
   "metadata": {},
   "outputs": [],
   "source": [
    "gf_review = requests.get('https://www.imdb.com/title/tt0068646/reviews?ref_=tt_urv')"
   ]
  },
  {
   "cell_type": "code",
   "execution_count": 8,
   "metadata": {},
   "outputs": [],
   "source": [
    "bs = BeautifulSoup(gf_review.text, 'lxml')\n",
    "for t in bs.select('.review-container'):\n",
    "    break"
   ]
  },
  {
   "cell_type": "code",
   "execution_count": 9,
   "metadata": {},
   "outputs": [
    {
     "data": {
      "text/plain": [
       "'<div class=\"review-container\">\\n <div class=\"lister-item-content\">\\n  <div class=\"ipl-ratings-bar\">\\n   <span class=\"rating-other-user-rating\">\\n    <svg class=\"ipl-icon ipl-star-icon\" fill=\"#000000\" height=\"24\" viewbox=\"0 0 24 24\" width=\"24\" xmlns=\"http://www.w3.org/2000/svg\">\\n     <path d=\"M0 0h24v24H0z\" fill=\"none\">\\n     </path>\\n     <path d=\"M12 17.27L18.18 21l-1.64-7.03L22 9.24l-7.19-.61L12 2 9.19 8.63 2 9.24l5.46 4.73L5.82 21z\">\\n     </path>\\n     <path d=\"M0 0h24v24H0z\" fill=\"none\">\\n     </path>\\n    </svg>\\n    <span>\\n     10\\n    </span>\\n    <span class=\"point-scale\">\\n     /10\\n    </span>\\n   </span>\\n  </div>\\n  <a class=\"title\" href=\"/review/rw2774909/\">\\n   #2 on IMDb\\'s Top 100, a multi-Oscar-winner and over 1500 reviews...what more can I say about the movie?!\\n  </a>\\n  <div class=\"display-name-date\">\\n   <span class=\"display-name-link\">\\n    <a href=\"/user/ur2467618/\">\\n     MartinHafer\\n    </a>\\n   </span>\\n   <span class=\"review-date\">\\n    30 March 2013\\n   </span>\\n  </div>\\n  <div class=\"content\">\\n   <div class=\"text show-more__control\">\\n    Up until today, I haven\\'t bothered to review \"The Godfather\". After all, everyone pretty much knows it\\'s one of the greatest films ever made. It\\'s #2 on IMDb\\'s Top 100. It won the Best Picture Oscar. And, there are nearly 1600 reviews on IMDb. So what\\'s one more review?! Well, after completing 14,000 reviews (because I am nuts), I guess it\\'s time I got around to reviewing a film I should have reviewed a long time ago. So, here goes....the film is perfect and only a dope wouldn\\'t watch it. Unfortunately, IMDb requires me to say more to meet it\\'s 10 line minimum for reviews. So, I\\'ll point out that you do NOT need to like gangster films to enjoy this film. Yes, it\\'s violent and nasty in spots--but it\\'s also brilliantly written and produced from start to finish and deserves the accolades it\\'s received.\\n    <br/>\\n    <br/>\\n    My advice is that instead of just watching \"The Godfather\" and \"The Godfather: Part II\", see the combined version they created for television--with additional scenes that made it a very rich experience.\\n   </div>\\n   <div class=\"actions text-muted\">\\n    32 out of 46 found this helpful.\\n    <span>\\n     Was this review helpful?\\n     <a href=\"/registration/signin\">\\n      Sign in\\n     </a>\\n     to vote.\\n    </span>\\n    <br/>\\n    <a href=\"/review/rw2774909/\">\\n     Permalink\\n    </a>\\n   </div>\\n  </div>\\n </div>\\n <div class=\"clear\">\\n </div>\\n</div>\\n'"
      ]
     },
     "execution_count": 9,
     "metadata": {},
     "output_type": "execute_result"
    }
   ],
   "source": [
    "t.prettify()"
   ]
  },
  {
   "cell_type": "markdown",
   "metadata": {},
   "source": [
    "123"
   ]
  },
  {
   "cell_type": "code",
   "execution_count": 14,
   "metadata": {},
   "outputs": [],
   "source": [
    "path = '../tests/test_data/review_tag_example.pkl'\n",
    "t_str = t.prettify()\n",
    "dump_obj(t_str, path, mode='wb')"
   ]
  },
  {
   "cell_type": "code",
   "execution_count": 15,
   "metadata": {},
   "outputs": [],
   "source": [
    "obj = load_obj(path)"
   ]
  },
  {
   "cell_type": "code",
   "execution_count": 22,
   "metadata": {},
   "outputs": [
    {
     "data": {
      "text/plain": [
       "<div class=\"review-container\">\n",
       "<div class=\"lister-item-content\">\n",
       "<div class=\"ipl-ratings-bar\">\n",
       "<span class=\"rating-other-user-rating\">\n",
       "<svg class=\"ipl-icon ipl-star-icon\" fill=\"#000000\" height=\"24\" viewbox=\"0 0 24 24\" width=\"24\" xmlns=\"http://www.w3.org/2000/svg\">\n",
       "<path d=\"M0 0h24v24H0z\" fill=\"none\"></path>\n",
       "<path d=\"M12 17.27L18.18 21l-1.64-7.03L22 9.24l-7.19-.61L12 2 9.19 8.63 2 9.24l5.46 4.73L5.82 21z\"></path>\n",
       "<path d=\"M0 0h24v24H0z\" fill=\"none\"></path>\n",
       "</svg>\n",
       "<span>10</span><span class=\"point-scale\">/10</span>\n",
       "</span>\n",
       "</div>\n",
       "<a class=\"title\" href=\"/review/rw2774909/\"> #2 on IMDb's Top 100, a multi-Oscar-winner and over 1500 reviews...what more can I say about the movie?!\n",
       "</a> <div class=\"display-name-date\">\n",
       "<span class=\"display-name-link\"><a href=\"/user/ur2467618/\">MartinHafer</a></span><span class=\"review-date\">30 March 2013</span>\n",
       "</div>\n",
       "<div class=\"content\">\n",
       "<div class=\"text show-more__control\">Up until today, I haven't bothered to review \"The Godfather\". After all, everyone pretty much knows it's one of the greatest films ever made. It's #2 on IMDb's Top 100. It won the Best Picture Oscar. And, there are nearly 1600 reviews on IMDb. So what's one more review?! Well, after completing 14,000 reviews (because I am nuts), I guess it's time I got around to reviewing a film I should have reviewed a long time ago. So, here goes....the film is perfect and only a dope wouldn't watch it. Unfortunately, IMDb requires me to say more to meet it's 10 line minimum for reviews. So, I'll point out that you do NOT need to like gangster films to enjoy this film. Yes, it's violent and nasty in spots--but it's also brilliantly written and produced from start to finish and deserves the accolades it's received.<br/><br/>My advice is that instead of just watching \"The Godfather\" and \"The Godfather: Part II\", see the combined version they created for television--with additional scenes that made it a very rich experience.</div>\n",
       "<div class=\"actions text-muted\">\n",
       "                    32 out of 46 found this helpful.\n",
       "                        <span>\n",
       "                            Was this review helpful? <a href=\"/registration/signin\"> Sign in</a> to vote.\n",
       "                        </span>\n",
       "<br/>\n",
       "<a href=\"/review/rw2774909/\">Permalink</a>\n",
       "</div>\n",
       "</div>\n",
       "</div>\n",
       "<div class=\"clear\"></div>\n",
       "</div>"
      ]
     },
     "execution_count": 22,
     "metadata": {},
     "output_type": "execute_result"
    }
   ],
   "source": [
    "t"
   ]
  },
  {
   "cell_type": "code",
   "execution_count": 20,
   "metadata": {},
   "outputs": [
    {
     "data": {
      "text/plain": [
       "<html><body><div class=\"review-container\">\n",
       "<div class=\"lister-item-content\">\n",
       "<div class=\"ipl-ratings-bar\">\n",
       "<span class=\"rating-other-user-rating\">\n",
       "<svg class=\"ipl-icon ipl-star-icon\" fill=\"#000000\" height=\"24\" viewbox=\"0 0 24 24\" width=\"24\" xmlns=\"http://www.w3.org/2000/svg\">\n",
       "<path d=\"M0 0h24v24H0z\" fill=\"none\">\n",
       "</path>\n",
       "<path d=\"M12 17.27L18.18 21l-1.64-7.03L22 9.24l-7.19-.61L12 2 9.19 8.63 2 9.24l5.46 4.73L5.82 21z\">\n",
       "</path>\n",
       "<path d=\"M0 0h24v24H0z\" fill=\"none\">\n",
       "</path>\n",
       "</svg>\n",
       "<span>\n",
       "     10\n",
       "    </span>\n",
       "<span class=\"point-scale\">\n",
       "     /10\n",
       "    </span>\n",
       "</span>\n",
       "</div>\n",
       "<a class=\"title\" href=\"/review/rw2774909/\">\n",
       "   #2 on IMDb's Top 100, a multi-Oscar-winner and over 1500 reviews...what more can I say about the movie?!\n",
       "  </a>\n",
       "<div class=\"display-name-date\">\n",
       "<span class=\"display-name-link\">\n",
       "<a href=\"/user/ur2467618/\">\n",
       "     MartinHafer\n",
       "    </a>\n",
       "</span>\n",
       "<span class=\"review-date\">\n",
       "    30 March 2013\n",
       "   </span>\n",
       "</div>\n",
       "<div class=\"content\">\n",
       "<div class=\"text show-more__control\">\n",
       "    Up until today, I haven't bothered to review \"The Godfather\". After all, everyone pretty much knows it's one of the greatest films ever made. It's #2 on IMDb's Top 100. It won the Best Picture Oscar. And, there are nearly 1600 reviews on IMDb. So what's one more review?! Well, after completing 14,000 reviews (because I am nuts), I guess it's time I got around to reviewing a film I should have reviewed a long time ago. So, here goes....the film is perfect and only a dope wouldn't watch it. Unfortunately, IMDb requires me to say more to meet it's 10 line minimum for reviews. So, I'll point out that you do NOT need to like gangster films to enjoy this film. Yes, it's violent and nasty in spots--but it's also brilliantly written and produced from start to finish and deserves the accolades it's received.\n",
       "    <br/>\n",
       "<br/>\n",
       "    My advice is that instead of just watching \"The Godfather\" and \"The Godfather: Part II\", see the combined version they created for television--with additional scenes that made it a very rich experience.\n",
       "   </div>\n",
       "<div class=\"actions text-muted\">\n",
       "    32 out of 46 found this helpful.\n",
       "    <span>\n",
       "     Was this review helpful?\n",
       "     <a href=\"/registration/signin\">\n",
       "      Sign in\n",
       "     </a>\n",
       "     to vote.\n",
       "    </span>\n",
       "<br/>\n",
       "<a href=\"/review/rw2774909/\">\n",
       "     Permalink\n",
       "    </a>\n",
       "</div>\n",
       "</div>\n",
       "</div>\n",
       "<div class=\"clear\">\n",
       "</div>\n",
       "</div>\n",
       "</body></html>"
      ]
     },
     "execution_count": 20,
     "metadata": {},
     "output_type": "execute_result"
    }
   ],
   "source": [
    "BeautifulSoup(obj)"
   ]
  },
  {
   "cell_type": "code",
   "execution_count": 19,
   "metadata": {},
   "outputs": [
    {
     "data": {
      "text/plain": [
       "<div class=\"review-container\">\n",
       "<div class=\"lister-item-content\">\n",
       "<div class=\"ipl-ratings-bar\">\n",
       "<span class=\"rating-other-user-rating\">\n",
       "<svg class=\"ipl-icon ipl-star-icon\" fill=\"#000000\" height=\"24\" viewbox=\"0 0 24 24\" width=\"24\" xmlns=\"http://www.w3.org/2000/svg\">\n",
       "<path d=\"M0 0h24v24H0z\" fill=\"none\"></path>\n",
       "<path d=\"M12 17.27L18.18 21l-1.64-7.03L22 9.24l-7.19-.61L12 2 9.19 8.63 2 9.24l5.46 4.73L5.82 21z\"></path>\n",
       "<path d=\"M0 0h24v24H0z\" fill=\"none\"></path>\n",
       "</svg>\n",
       "<span>10</span><span class=\"point-scale\">/10</span>\n",
       "</span>\n",
       "</div>\n",
       "<a class=\"title\" href=\"/review/rw2774909/\"> #2 on IMDb's Top 100, a multi-Oscar-winner and over 1500 reviews...what more can I say about the movie?!\n",
       "</a> <div class=\"display-name-date\">\n",
       "<span class=\"display-name-link\"><a href=\"/user/ur2467618/\">MartinHafer</a></span><span class=\"review-date\">30 March 2013</span>\n",
       "</div>\n",
       "<div class=\"content\">\n",
       "<div class=\"text show-more__control\">Up until today, I haven't bothered to review \"The Godfather\". After all, everyone pretty much knows it's one of the greatest films ever made. It's #2 on IMDb's Top 100. It won the Best Picture Oscar. And, there are nearly 1600 reviews on IMDb. So what's one more review?! Well, after completing 14,000 reviews (because I am nuts), I guess it's time I got around to reviewing a film I should have reviewed a long time ago. So, here goes....the film is perfect and only a dope wouldn't watch it. Unfortunately, IMDb requires me to say more to meet it's 10 line minimum for reviews. So, I'll point out that you do NOT need to like gangster films to enjoy this film. Yes, it's violent and nasty in spots--but it's also brilliantly written and produced from start to finish and deserves the accolades it's received.<br/><br/>My advice is that instead of just watching \"The Godfather\" and \"The Godfather: Part II\", see the combined version they created for television--with additional scenes that made it a very rich experience.</div>\n",
       "<div class=\"actions text-muted\">\n",
       "                    32 out of 46 found this helpful.\n",
       "                        <span>\n",
       "                            Was this review helpful? <a href=\"/registration/signin\"> Sign in</a> to vote.\n",
       "                        </span>\n",
       "<br/>\n",
       "<a href=\"/review/rw2774909/\">Permalink</a>\n",
       "</div>\n",
       "</div>\n",
       "</div>\n",
       "<div class=\"clear\"></div>\n",
       "</div>"
      ]
     },
     "execution_count": 19,
     "metadata": {},
     "output_type": "execute_result"
    }
   ],
   "source": [
    "t"
   ]
  },
  {
   "cell_type": "code",
   "execution_count": null,
   "metadata": {},
   "outputs": [],
   "source": []
  }
 ],
 "metadata": {
  "interpreter": {
   "hash": "b94e1a786d65ae5959653f3d1112b1212e7c37cf5ba9bdab68295d0cb5ddd1d0"
  },
  "kernelspec": {
   "display_name": "Python 3.9.5 64-bit ('movie_recsys': conda)",
   "language": "python",
   "name": "python3"
  },
  "language_info": {
   "codemirror_mode": {
    "name": "ipython",
    "version": 3
   },
   "file_extension": ".py",
   "mimetype": "text/x-python",
   "name": "python",
   "nbconvert_exporter": "python",
   "pygments_lexer": "ipython3",
   "version": "3.9.5"
  },
  "orig_nbformat": 4
 },
 "nbformat": 4,
 "nbformat_minor": 2
}
